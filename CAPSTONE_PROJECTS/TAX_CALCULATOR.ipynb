{
 "cells": [
  {
   "cell_type": "code",
   "execution_count": null,
   "id": "931d72db-9f16-4fef-9922-cb2c8dcb489a",
   "metadata": {},
   "outputs": [],
   "source": [
    "def total_cost(price, tax):\n",
    "    return int(price) + (int(price) * float(tax)/100)\n",
    "\n",
    "def main():\n",
    "    price = raw_input('Enter the price of an item: $')\n",
    "    tax = raw_input('Enter the tax rate(%): ')\n",
    "    print \"The total cost is %.2f.\" % total_cost(price,tax)\n",
    "    \n",
    "if __name__ == '__main__':\n",
    "    main()"
   ]
  }
 ],
 "metadata": {
  "kernelspec": {
   "display_name": "Python [conda env:base] *",
   "language": "python",
   "name": "conda-base-py"
  },
  "language_info": {
   "codemirror_mode": {
    "name": "ipython",
    "version": 3
   },
   "file_extension": ".py",
   "mimetype": "text/x-python",
   "name": "python",
   "nbconvert_exporter": "python",
   "pygments_lexer": "ipython3",
   "version": "3.12.7"
  }
 },
 "nbformat": 4,
 "nbformat_minor": 5
}
