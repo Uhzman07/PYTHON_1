{
 "cells": [
  {
   "cell_type": "code",
   "execution_count": 1,
   "id": "3f4c3ee4-acf1-4796-ae54-2fe5539ce913",
   "metadata": {},
   "outputs": [],
   "source": [
    "# Have the user enter a number an find all the Prime factors (if there are any) display them"
   ]
  },
  {
   "cell_type": "code",
   "execution_count": 3,
   "id": "3e3137cc-e685-477a-9d59-45a141b81651",
   "metadata": {},
   "outputs": [
    {
     "name": "stdout",
     "output_type": "stream",
     "text": [
      "Welcome to the Prime Factorizer.. Enter the numbers in the prompt or enter 'quit' to exit\n",
      ">>>"
     ]
    },
    {
     "name": "stdin",
     "output_type": "stream",
     "text": [
      " 7\n"
     ]
    },
    {
     "name": "stdout",
     "output_type": "stream",
     "text": [
      "7\n",
      ">>>"
     ]
    },
    {
     "name": "stdin",
     "output_type": "stream",
     "text": [
      " 23\n"
     ]
    },
    {
     "name": "stdout",
     "output_type": "stream",
     "text": [
      "23\n",
      ">>>"
     ]
    },
    {
     "name": "stdin",
     "output_type": "stream",
     "text": [
      " 200\n"
     ]
    },
    {
     "name": "stdout",
     "output_type": "stream",
     "text": [
      "2*2*2*5*5\n",
      ">>>"
     ]
    },
    {
     "name": "stdin",
     "output_type": "stream",
     "text": [
      " quit\n"
     ]
    }
   ],
   "source": [
    "# This will helps find the factors of a number that is the numbers that can accurately divide n\n",
    "factors = lambda n: [x for x in range(1,n+1) if not n%x] # This only allows when n%x == 0\n",
    "\n",
    "is_prime = lambda n: len(factors(n))==2 # what this does is that gets the factors and it is expected that the factors of must only include 1 and n (itself). That is, it should only be divisible by one and it self\n",
    "\n",
    "primefactors = lambda n: list(filter(is_prime ,factors(n)))\n",
    "# Apply is_prime(x) to each x in factors(n) and keep only the ones where it's True.\n",
    "\n",
    "def primeFactorize(n):\n",
    "\tn = int(n)\n",
    "\tf = primefactors(n) # Then to derive the prime factors initially\n",
    "\tif is_prime(n): # When we are certain that the number itself is prime\n",
    "\t\treturn str(n) # we can just return it directly\n",
    "\telse:\n",
    "\t\treturn str(f[0])+ \"*\"+primeFactorize(n/f[0]) # do it recursively\n",
    "\n",
    "if __name__=='__main__':\n",
    "\tprint (\"Welcome to the Prime Factorizer.. Enter the numbers in the prompt or enter 'quit' to exit\")\n",
    "\tnum=0;\n",
    "\t\n",
    "\twhile True:\n",
    "\t\tif num:\n",
    "\t\t\tprint(primeFactorize(num))\n",
    "\t\tprint(\">>>\",end='')\n",
    "\t\tnum=input()\n",
    "\t\tif num==\"quit\":\n",
    "\t\t\tbreak"
   ]
  },
  {
   "cell_type": "code",
   "execution_count": null,
   "id": "a1221288-6afc-4fb7-9ad7-8ece66c5bc0b",
   "metadata": {},
   "outputs": [],
   "source": []
  }
 ],
 "metadata": {
  "kernelspec": {
   "display_name": "Python [conda env:base] *",
   "language": "python",
   "name": "conda-base-py"
  },
  "language_info": {
   "codemirror_mode": {
    "name": "ipython",
    "version": 3
   },
   "file_extension": ".py",
   "mimetype": "text/x-python",
   "name": "python",
   "nbconvert_exporter": "python",
   "pygments_lexer": "ipython3",
   "version": "3.12.7"
  }
 },
 "nbformat": 4,
 "nbformat_minor": 5
}
