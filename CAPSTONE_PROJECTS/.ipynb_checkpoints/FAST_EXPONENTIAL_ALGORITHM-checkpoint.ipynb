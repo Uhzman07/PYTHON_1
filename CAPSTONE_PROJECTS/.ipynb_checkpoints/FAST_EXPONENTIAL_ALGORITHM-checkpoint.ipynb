{
 "cells": [
  {
   "cell_type": "code",
   "execution_count": 11,
   "id": "89749495-d895-423c-811f-e7911e6308ca",
   "metadata": {},
   "outputs": [
    {
     "name": "stdin",
     "output_type": "stream",
     "text": [
      " 2\n",
      " 6\n"
     ]
    },
    {
     "name": "stdout",
     "output_type": "stream",
     "text": [
      "64\n"
     ]
    }
   ],
   "source": [
    "\"\"\"\n",
    "Enter two numbers a and b (separated by newline) and the program will print a^b with O(log N) time complexity\n",
    "\"\"\"\n",
    "\n",
    "def pow(a, b):\n",
    "    \"\"\"\n",
    "    Return a to the power of b\n",
    "    \"\"\"\n",
    "    if(b == 0):\n",
    "        return 1\n",
    "    else:\n",
    "        temp = pow(a, b // 2)\n",
    "        if(b % 2 == 0):\n",
    "            return temp * temp\n",
    "        else:\n",
    "            return temp * temp * a\n",
    "\n",
    "if __name__ == '__main__':\n",
    "    a = int(input())\n",
    "    b = int(input())\n",
    "    print (pow(a, b))"
   ]
  },
  {
   "cell_type": "code",
   "execution_count": null,
   "id": "0688e2c1-d88f-4e55-bff7-70b46b157cc8",
   "metadata": {},
   "outputs": [],
   "source": []
  }
 ],
 "metadata": {
  "kernelspec": {
   "display_name": "Python [conda env:base] *",
   "language": "python",
   "name": "conda-base-py"
  },
  "language_info": {
   "codemirror_mode": {
    "name": "ipython",
    "version": 3
   },
   "file_extension": ".py",
   "mimetype": "text/x-python",
   "name": "python",
   "nbconvert_exporter": "python",
   "pygments_lexer": "ipython3",
   "version": "3.12.7"
  }
 },
 "nbformat": 4,
 "nbformat_minor": 5
}
