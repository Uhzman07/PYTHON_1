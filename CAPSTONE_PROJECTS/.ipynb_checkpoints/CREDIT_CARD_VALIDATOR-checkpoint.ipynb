{
 "cells": [
  {
   "cell_type": "code",
   "execution_count": null,
   "id": "b9825548-0d8f-4a3a-9de7-c04105f2cc86",
   "metadata": {},
   "outputs": [],
   "source": [
    "# The luhns algorithm\n",
    "def validate(n):\n",
    "\t\n",
    "\tintArray = intToArray(n)\n",
    "\n",
    "\tif len(intArray) % 2 == 0:\n",
    "\t\toddEven(0, intArray)\n",
    "\telse:\n",
    "\t\toddEven(1, intArray)\n",
    "\n",
    "\tif sum(intArray) % 10 == 0:\n",
    "\t\treturn True\n",
    "\telse:\n",
    "\t\treturn False\n",
    "\n",
    "def intToArray(n):\n",
    "\tmyArray = str(n)\n",
    "\n",
    "\tintArray = []\n",
    "\tfor x in myArray:\n",
    "\t\tintArray.append(int(x))\n",
    "\n",
    "\treturn intArray\n",
    "    \n",
    "#Doubles and sums array values\n",
    "#Odd numbers have startIndex 1\n",
    "def oddEven(startIndex, intArray):\n",
    "    for i in range(startIndex, len(intArray), 2):\n",
    "        newDigit = intArray[i] * 2\n",
    "        if newDigit < 10:\n",
    "            intArray[i] = newDigit\n",
    "        else:\n",
    "            intArray[i] = sumOfDigits(newDigit)\n",
    "            \n",
    "def sumOfDigits(n):\n",
    "    return (n / 10) + (n % 10)\n",
    "\n",
    "print validate(input(\"Enter CC number to validate\\r\\n>\"))"
   ]
  }
 ],
 "metadata": {
  "kernelspec": {
   "display_name": "Python [conda env:base] *",
   "language": "python",
   "name": "conda-base-py"
  },
  "language_info": {
   "codemirror_mode": {
    "name": "ipython",
    "version": 3
   },
   "file_extension": ".py",
   "mimetype": "text/x-python",
   "name": "python",
   "nbconvert_exporter": "python",
   "pygments_lexer": "ipython3",
   "version": "3.12.7"
  }
 },
 "nbformat": 4,
 "nbformat_minor": 5
}
