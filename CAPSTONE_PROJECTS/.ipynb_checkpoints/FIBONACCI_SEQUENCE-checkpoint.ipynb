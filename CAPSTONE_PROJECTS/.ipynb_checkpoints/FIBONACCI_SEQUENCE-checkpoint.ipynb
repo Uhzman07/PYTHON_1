{
 "cells": [
  {
   "cell_type": "code",
   "execution_count": 3,
   "id": "7509a117-32ab-4e44-9491-9a91823659aa",
   "metadata": {},
   "outputs": [
    {
     "name": "stdin",
     "output_type": "stream",
     "text": [
      "How many numbers do you need?  15\n"
     ]
    },
    {
     "name": "stdout",
     "output_type": "stream",
     "text": [
      "1, 1, 2, 3, 5, 8, 13, 21, 34, 55, 89, 144, 233, 377, 610\n"
     ]
    }
   ],
   "source": [
    "# Fibonacci Sequence Generator\n",
    "# Have the user enter a number and\n",
    "# generate a fibonacci sequence\n",
    "# which size is equivalent to that number.\n",
    "\n",
    "\n",
    "def fibSequence(n):\n",
    "    \"\"\"\n",
    "    Generates a fibonacci sequence\n",
    "    with the size of n\n",
    "    \"\"\"\n",
    "    # Check if the size of n is greater than 0\n",
    "    assert n > 0\n",
    "\n",
    "    # Initially create the list containing 1\n",
    "    series = [1]\n",
    "\n",
    "    \n",
    "    while len(series) < n:\n",
    "        # Initialy, we add 1 for a starter\n",
    "        if len(series) == 1:\n",
    "            series.append(1)\n",
    "        else:\n",
    "            # Then we add the last 2 progressively\n",
    "            series.append(series[-1] + series[-2])\n",
    "            \n",
    "    # Then we try to convert them to strings\n",
    "    for i in range(len(series)):  # Convert the numbers to strings\n",
    "        series[i] = str(series[i])\n",
    "        \n",
    "    # Then make them comma separated\n",
    "    return(', '.join(series))  # Return the sequence seperated by commas\n",
    "\n",
    "\n",
    "def main():  # Wrapper function\n",
    "\n",
    "    print(fibSequence(int(input('How many numbers do you need? '))))\n",
    "\n",
    "if __name__ == '__main__':\n",
    "    main()"
   ]
  },
  {
   "cell_type": "code",
   "execution_count": null,
   "id": "7f75e501-f2e9-49ee-86c4-7b518f5c6340",
   "metadata": {},
   "outputs": [],
   "source": []
  }
 ],
 "metadata": {
  "kernelspec": {
   "display_name": "Python [conda env:base] *",
   "language": "python",
   "name": "conda-base-py"
  },
  "language_info": {
   "codemirror_mode": {
    "name": "ipython",
    "version": 3
   },
   "file_extension": ".py",
   "mimetype": "text/x-python",
   "name": "python",
   "nbconvert_exporter": "python",
   "pygments_lexer": "ipython3",
   "version": "3.12.7"
  }
 },
 "nbformat": 4,
 "nbformat_minor": 5
}
