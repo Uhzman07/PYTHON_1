{
 "cells": [
  {
   "cell_type": "code",
   "execution_count": null,
   "id": "9263c021-c773-4791-9373-a8d9d8105def",
   "metadata": {},
   "outputs": [],
   "source": [
    "\n",
    "import random\n",
    "\n",
    "\n",
    "def merge(lst0, lst1):\n",
    "    ret = []\n",
    "    while lst0 and lst1:\n",
    "        if lst0[0] <= lst1[0]:\n",
    "            ret.append(lst0.pop(0))\n",
    "        else:\n",
    "            ret.append(lst1.pop(0))\n",
    "    ret.extend(lst0)\n",
    "    ret.extend(lst1)\n",
    "    return ret\n",
    "\n",
    "\n",
    "def mergesort(lst):\n",
    "    if len(lst) <= 1:\n",
    "        return lst\n",
    "    # random to avoid dead loop for special sequence\n",
    "    r = lst[random.randint(0, len(lst) - 1)]\n",
    "    left, mid, right = [], [], []\n",
    "    for i in lst:\n",
    "        if i < r:\n",
    "            left.append(i)\n",
    "        elif i == r:\n",
    "            mid.append(i)\n",
    "        else:\n",
    "            right.append(i)\n",
    "    left = mergesort(left)\n",
    "    left.extend(mid)\n",
    "    right = mergesort(right)\n",
    "    ret = merge(left, right)\n",
    "    return ret\n",
    "\n",
    "\n",
    "if __name__ == \"__main__\":\n",
    "    print \"please input integer number array\"\n",
    "    lst = []\n",
    "    while 1:\n",
    "        try:\n",
    "            n = raw_input(\">\")\n",
    "        except:\n",
    "            print \"\"\n",
    "            break\n",
    "        lst.extend([int(i) for i in n.split()])\n",
    "    print \"origin: \", lst\n",
    "    print \"sorted: \", mergesort(lst)\n"
   ]
  },
  {
   "cell_type": "code",
   "execution_count": null,
   "id": "5b28f026-cb51-46ad-8bcd-11e596dcb96a",
   "metadata": {},
   "outputs": [],
   "source": []
  }
 ],
 "metadata": {
  "kernelspec": {
   "display_name": "Python [conda env:base] *",
   "language": "python",
   "name": "conda-base-py"
  },
  "language_info": {
   "codemirror_mode": {
    "name": "ipython",
    "version": 3
   },
   "file_extension": ".py",
   "mimetype": "text/x-python",
   "name": "python",
   "nbconvert_exporter": "python",
   "pygments_lexer": "ipython3",
   "version": "3.12.7"
  }
 },
 "nbformat": 4,
 "nbformat_minor": 5
}
