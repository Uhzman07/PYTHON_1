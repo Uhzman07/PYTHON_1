{
 "cells": [
  {
   "cell_type": "code",
   "execution_count": 5,
   "id": "6b4fe878-0263-4151-baee-f71d5e4d4462",
   "metadata": {},
   "outputs": [
    {
     "name": "stdout",
     "output_type": "stream",
     "text": [
      "8\n"
     ]
    }
   ],
   "source": [
    "'''\n",
    "Collatz Conjecture - Start with a number n > 1.\n",
    "Find the number of steps it takes to reach one using the following process:\n",
    "If n is even, divide it by 2. If n is odd, multiply it by 3 and add 1\n",
    "'''\n",
    "def collatzRecur(curNum, count=0):\n",
    "    '''This recursively solves the Collatz Conjecture'''\n",
    "    if curNum<=1:#Base case\n",
    "        return count\n",
    "    if curNum%2==0:\n",
    "        return collatzRecur(curNum//2, count+1)\n",
    "    else:\n",
    "        return collatzRecur(curNum*3+1, count+1)\n",
    "\n",
    "#Some tests\n",
    "\n",
    "print (collatzRecur(6)) #8"
   ]
  },
  {
   "cell_type": "code",
   "execution_count": 11,
   "id": "dd7b650e-0e03-43c6-9b4d-36672d174758",
   "metadata": {},
   "outputs": [
    {
     "name": "stdout",
     "output_type": "stream",
     "text": [
      "8\n"
     ]
    }
   ],
   "source": [
    "def collatzRecur(num, count=0):\n",
    "    if num<=1:\n",
    "        return count\n",
    "    if num %2 == 0:\n",
    "        return collatzRecur(num//2, count+1)\n",
    "    else:\n",
    "        return collatzRecur(num*3+1, count+1)\n",
    "print(collatzRecur(6))"
   ]
  },
  {
   "cell_type": "code",
   "execution_count": null,
   "id": "be2d6509-cc32-4e39-9b88-9d8e2f95dbc5",
   "metadata": {},
   "outputs": [],
   "source": []
  }
 ],
 "metadata": {
  "kernelspec": {
   "display_name": "Python [conda env:base] *",
   "language": "python",
   "name": "conda-base-py"
  },
  "language_info": {
   "codemirror_mode": {
    "name": "ipython",
    "version": 3
   },
   "file_extension": ".py",
   "mimetype": "text/x-python",
   "name": "python",
   "nbconvert_exporter": "python",
   "pygments_lexer": "ipython3",
   "version": "3.12.7"
  }
 },
 "nbformat": 4,
 "nbformat_minor": 5
}
