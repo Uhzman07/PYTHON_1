{
 "cells": [
  {
   "cell_type": "code",
   "execution_count": null,
   "id": "dfc49eb9-30b2-497d-9887-76728c58397e",
   "metadata": {},
   "outputs": [],
   "source": [
    "from math import sqrt\n",
    "\n",
    "class complex:\n",
    "\tdef __init__(self, x ,y):\n",
    "\t\tself.x = x\n",
    "\t\tself.y = y\n",
    "\n",
    "\tdef add(self):\n",
    "\t\treturn number(self.x.r+self.y.r, self.x.im+self.y.im).show()\n",
    "\n",
    "\tdef multi(self):\n",
    "\t\treturn number(\tself.x.r*self.y.r-self.x.im*self.y.im, self.y.r*self.x.im+self.x.r*self.y.im).show()\n",
    "\n",
    "\n",
    "\n",
    "class number:\n",
    "\tdef __init__(self, x, y):\n",
    "\t\tself.r = x\n",
    "\t\tself.im = y\n",
    "\n",
    "\tdef show(self):\n",
    "\t\tprint self.r,self.im\n",
    "\n",
    "\tdef negation(self):\n",
    "\t\tself.r = self.r*-1\n",
    "\t\tself.im = self.im*-1\n",
    "\t\treturn self\n",
    "\n",
    "\tdef inversion(self):\n",
    "\t\troot = sqrt(self.r*self.r + self.im*self.im)\n",
    "\t\tself.r = (self.r/root)\n",
    "\t\tself.im = -(self.im/root)\n",
    "\t\treturn self\n",
    "\n",
    "\n",
    "n1 = number(3,2)\n",
    "n2 = number(1,1)\n",
    "\n",
    "\n",
    "n1.negation().show()\n",
    "n1.inversion().show()\n",
    "\n",
    "c = complex(n1,n2)\n",
    "\n",
    "c.add()\n",
    "\n",
    "c.multi()"
   ]
  }
 ],
 "metadata": {
  "kernelspec": {
   "display_name": "Python [conda env:base] *",
   "language": "python",
   "name": "conda-base-py"
  },
  "language_info": {
   "codemirror_mode": {
    "name": "ipython",
    "version": 3
   },
   "file_extension": ".py",
   "mimetype": "text/x-python",
   "name": "python",
   "nbconvert_exporter": "python",
   "pygments_lexer": "ipython3",
   "version": "3.12.7"
  }
 },
 "nbformat": 4,
 "nbformat_minor": 5
}
