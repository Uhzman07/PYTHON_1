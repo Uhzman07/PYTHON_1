{
 "cells": [
  {
   "cell_type": "code",
   "execution_count": null,
   "id": "3829d933-a2cc-48b8-bea6-a0b03c48a756",
   "metadata": {},
   "outputs": [],
   "source": [
    "\"\"\"\n",
    "Find Cost of Tile to Cover W x H Floor – \n",
    "Calculate the total cost of tile it would take to cover a floor plan of \n",
    "width and height, using a cost entered by the user.\n",
    "\"\"\"\n",
    "costToCover = lambda w,h,ppm: w*h*ppm\n",
    "print(costToCover(50,100,0.5))\n",
    "\n",
    "\"\"\"\n",
    "Find max combination of 2 numbers in a sequence - n^2\n",
    "\"\"\"\n",
    "def find_max_comb(seq):\n",
    "    temp = 0\n",
    "    for i,n in enumerate(seq):\n",
    "        for v in seq[i+1:]:\n",
    "            temp = max(temp,n+v)\n",
    "    return temp\n",
    "\n",
    "print(find_max_comb([1,7,3,1,3,5,4]))\n"
   ]
  }
 ],
 "metadata": {
  "kernelspec": {
   "display_name": "Python [conda env:base] *",
   "language": "python",
   "name": "conda-base-py"
  },
  "language_info": {
   "codemirror_mode": {
    "name": "ipython",
    "version": 3
   },
   "file_extension": ".py",
   "mimetype": "text/x-python",
   "name": "python",
   "nbconvert_exporter": "python",
   "pygments_lexer": "ipython3",
   "version": "3.12.7"
  }
 },
 "nbformat": 4,
 "nbformat_minor": 5
}
