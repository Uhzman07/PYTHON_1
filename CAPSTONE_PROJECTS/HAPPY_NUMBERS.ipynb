{
 "cells": [
  {
   "cell_type": "code",
   "execution_count": null,
   "id": "29c64a3e-51f8-443e-8991-fdd729bf73cc",
   "metadata": {},
   "outputs": [],
   "source": [
    "'''\n",
    "A happy number is defined by the following process. \n",
    "Starting with any positive integer, replace the number by the sum of the squares of its digits, \n",
    "and repeat the process until the number equals 1 (where it will stay), \n",
    "or it loops endlessly in a cycle which does not include 1. \n",
    "Those numbers for which this process ends in 1 are happy numbers, while those that do not end in 1 are unhappy numbers. \n",
    "Display an example of your output here. Find first 8 happy numbers.\n",
    "'''\n",
    "\n",
    "\n",
    "\n",
    "def get_digits(number):\n",
    "\tdigits = []\n",
    "\twhile number:\n",
    "\t\tdigits.append(number % 10)\n",
    "\t\tnumber //= 10\n",
    "\tdigits.reverse()\n",
    "\treturn digits\n",
    "\n",
    "def is_happy_number(number):\n",
    "\tprevious_numbers = []\n",
    "\twhile True:\n",
    "\t\tdigits = get_digits(number)\n",
    "\t\tsum_of_squared_digits = sum(list(map(lambda x: x **2, digits))) # This is a way of passing every number in \"digits\" to the method\n",
    "\t\tif sum_of_squared_digits == 1:\n",
    "\t\t\treturn True\n",
    "\t\telif sum_of_squared_digits in previous_numbers:\n",
    "\t\t\treturn False\n",
    "\t\telse:\n",
    "\t\t\tnumber = sum_of_squared_digits\n",
    "\t\t\tprevious_numbers.append(number)\t\n",
    "\n",
    "def print_happy_number(number):\n",
    "\thappy_numbers = []\n",
    "\tcount = 0\n",
    "\twhile count < 8:\n",
    "\t\tif is_happy_number(number):\n",
    "\t\t\thappy_numbers.append(number)\n",
    "\t\t\tcount += 1\n",
    "\t\tnumber += 1\n",
    "\treturn happy_numbers\n",
    "\n",
    "print(print_happy_number(int(input())))\n"
   ]
  }
 ],
 "metadata": {
  "kernelspec": {
   "display_name": "Python [conda env:base] *",
   "language": "python",
   "name": "conda-base-py"
  },
  "language_info": {
   "codemirror_mode": {
    "name": "ipython",
    "version": 3
   },
   "file_extension": ".py",
   "mimetype": "text/x-python",
   "name": "python",
   "nbconvert_exporter": "python",
   "pygments_lexer": "ipython3",
   "version": "3.12.7"
  }
 },
 "nbformat": 4,
 "nbformat_minor": 5
}
