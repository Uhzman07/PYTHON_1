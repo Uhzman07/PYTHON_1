{
 "cells": [
  {
   "cell_type": "code",
   "execution_count": 1,
   "id": "79e0159a-ff59-4412-9395-82570709c18f",
   "metadata": {},
   "outputs": [],
   "source": [
    "import math\n",
    "\n",
    "def greedy_money_exchange(denom,amount):\n",
    "    i   = 0\n",
    "    used= [0]*len(denom)\n",
    "    while(amount>0):# go until all money gone\n",
    "        # get num of that denom to use, always round down\n",
    "        num     = math.floor(amount/denom[i]) \n",
    "        used[i] = num # say we've used it\n",
    "        amount  = amount-num*denom[i] # set new amount\n",
    "        i       = i + 1 # go to next denom\n",
    "    return used"
   ]
  },
  {
   "cell_type": "code",
   "execution_count": null,
   "id": "07048cd1-0390-4a98-a7d4-aba6f81bd116",
   "metadata": {},
   "outputs": [],
   "source": []
  }
 ],
 "metadata": {
  "kernelspec": {
   "display_name": "Python [conda env:base] *",
   "language": "python",
   "name": "conda-base-py"
  },
  "language_info": {
   "codemirror_mode": {
    "name": "ipython",
    "version": 3
   },
   "file_extension": ".py",
   "mimetype": "text/x-python",
   "name": "python",
   "nbconvert_exporter": "python",
   "pygments_lexer": "ipython3",
   "version": "3.12.7"
  }
 },
 "nbformat": 4,
 "nbformat_minor": 5
}
