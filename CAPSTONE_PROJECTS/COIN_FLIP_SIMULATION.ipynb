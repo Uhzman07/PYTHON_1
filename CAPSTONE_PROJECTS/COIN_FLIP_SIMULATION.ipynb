{
 "cells": [
  {
   "cell_type": "code",
   "execution_count": null,
   "id": "f0415f7f-9669-4e5f-94f4-e528e68b9edd",
   "metadata": {},
   "outputs": [],
   "source": [
    "\n",
    "import random\n",
    "\n",
    "def flip():\n",
    "\tflip = random.random()\n",
    "\tif (flip>=.5):\n",
    "\t\treturn True\n",
    "\telse:\n",
    "\t\treturn False\n",
    "\n",
    "def main(num):\n",
    "\theads = 0\n",
    "\ttails = 0\n",
    "\tresultString = \"\"\n",
    "\n",
    "\tfor i in range(int(num)):\n",
    "\t\tif (flip()):\n",
    "\t\t\theads+=1\n",
    "\t\t\tresultString += \"H\"\n",
    "\t\telse:\n",
    "\t\t\ttails+=1\n",
    "\t\t\tresultString += \"T\"\n",
    "\t\n",
    "\tprint \"Number of Heads: %i\" % (heads)\n",
    "\tprint \"Number of Tails: %i\" % (tails)\n",
    "\tprint resultString\n",
    "\n",
    "userInput = input(\"Please enter a number of flips: \")\n",
    "main(userInput)\n"
   ]
  }
 ],
 "metadata": {
  "kernelspec": {
   "display_name": "Python [conda env:base] *",
   "language": "python",
   "name": "conda-base-py"
  },
  "language_info": {
   "codemirror_mode": {
    "name": "ipython",
    "version": 3
   },
   "file_extension": ".py",
   "mimetype": "text/x-python",
   "name": "python",
   "nbconvert_exporter": "python",
   "pygments_lexer": "ipython3",
   "version": "3.12.7"
  }
 },
 "nbformat": 4,
 "nbformat_minor": 5
}
