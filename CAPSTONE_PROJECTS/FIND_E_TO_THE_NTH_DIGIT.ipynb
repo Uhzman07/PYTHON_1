{
 "cells": [
  {
   "cell_type": "code",
   "execution_count": 9,
   "id": "d2b181b9-5f81-4e82-a9f2-a4c5a0019423",
   "metadata": {},
   "outputs": [
    {
     "name": "stdout",
     "output_type": "stream",
     "text": [
      "Precision must be between 1 and 51\n"
     ]
    },
    {
     "name": "stdin",
     "output_type": "stream",
     "text": [
      "Number of decimal places:  33\n"
     ]
    },
    {
     "name": "stdout",
     "output_type": "stream",
     "text": [
      "2.718281828459045090795598298427649\n"
     ]
    }
   ],
   "source": [
    "\"\"\"\"Find e to the Nth Digit\n",
    "Enter a number and have the program generate e up to that many decimal places.\n",
    "Keep a limit to how far the program will go\"\"\"\n",
    "\n",
    "\n",
    "from math import e\n",
    "\n",
    "\n",
    "def e_with_precision(n):\n",
    "    \"\"\"Return euler's number to the n-th decimal place\n",
    "    :param n: number of decimal places to return\n",
    "    :type n: int\n",
    "    :return: euler's number with n decimal places\n",
    "    :rtype: str\n",
    "    \"\"\"\n",
    "    return '%.*f' % (n, e) # This is used to format up to a particular decimal place\n",
    "    # n here is the actual digit\n",
    "    # e here is like our exponential (That is the imported one)\n",
    "\n",
    "if __name__ == '__main__':\n",
    "    # there is no do while loop in python, so we need to improvise\n",
    "    correct_input = False\n",
    "    while not correct_input:\n",
    "        # ask until you get correct input\n",
    "        print('Precision must be between 1 and 51')\n",
    "        precision = int(input('Number of decimal places: '))\n",
    "        if 51 >= precision > 0:\n",
    "            correct_input = True\n",
    "    print(e_with_precision(precision))"
   ]
  },
  {
   "cell_type": "code",
   "execution_count": null,
   "id": "fd2529d1-5be3-438f-962e-1a87aa744ec3",
   "metadata": {},
   "outputs": [],
   "source": []
  }
 ],
 "metadata": {
  "kernelspec": {
   "display_name": "Python [conda env:base] *",
   "language": "python",
   "name": "conda-base-py"
  },
  "language_info": {
   "codemirror_mode": {
    "name": "ipython",
    "version": 3
   },
   "file_extension": ".py",
   "mimetype": "text/x-python",
   "name": "python",
   "nbconvert_exporter": "python",
   "pygments_lexer": "ipython3",
   "version": "3.12.7"
  }
 },
 "nbformat": 4,
 "nbformat_minor": 5
}
