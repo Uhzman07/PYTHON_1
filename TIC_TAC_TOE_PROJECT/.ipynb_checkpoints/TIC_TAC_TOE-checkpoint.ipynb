{
 "cells": [
  {
   "cell_type": "markdown",
   "id": "f9e26b84-1833-45a0-8337-a25bd834402e",
   "metadata": {},
   "source": [
    "# "
   ]
  },
  {
   "cell_type": "code",
   "execution_count": 2,
   "id": "d7ba2af1-6e5c-477f-8c5e-09b3bb2d5112",
   "metadata": {},
   "outputs": [
    {
     "name": "stdout",
     "output_type": "stream",
     "text": [
      "[1, 2, 3]\n"
     ]
    }
   ],
   "source": [
    "print([1,2,3])"
   ]
  },
  {
   "cell_type": "code",
   "execution_count": 3,
   "id": "c5bac515-6396-4a59-8e12-2b13d0261c50",
   "metadata": {},
   "outputs": [
    {
     "name": "stdout",
     "output_type": "stream",
     "text": [
      "[1, 2, 3]\n",
      "[4, 5, 6]\n",
      "[7, 8, 9]\n"
     ]
    }
   ],
   "source": [
    "print([1,2,3])\n",
    "print([4,5,6])\n",
    "print([7,8,9])"
   ]
  },
  {
   "cell_type": "code",
   "execution_count": 4,
   "id": "18a1a6c3-b708-4100-b537-93cad630a680",
   "metadata": {},
   "outputs": [],
   "source": [
    "def display(row1, row2, row3):\n",
    "    print(row1)\n",
    "    print(row2)\n",
    "    print(row3)\n",
    "    "
   ]
  },
  {
   "cell_type": "code",
   "execution_count": 5,
   "id": "b24d4f99-c138-4dc4-8f2a-034582e72adf",
   "metadata": {},
   "outputs": [
    {
     "name": "stdout",
     "output_type": "stream",
     "text": [
      "[1, 2, 3]\n",
      "[1, 2, 3]\n",
      "[1, 2, 3]\n"
     ]
    }
   ],
   "source": [
    "example_row = [1,2,3]\n",
    "display(example_row, example_row, example_row)"
   ]
  },
  {
   "cell_type": "code",
   "execution_count": 6,
   "id": "1d25acec-85f5-4343-8c48-6bbdcb5f6938",
   "metadata": {},
   "outputs": [],
   "source": [
    "row1 = [' ', ' ', ' ']\n",
    "row2 = [' ', ' ', ' ']\n",
    "row3 = [' ', ' ', ' ']"
   ]
  },
  {
   "cell_type": "code",
   "execution_count": 7,
   "id": "67dc95ff-3059-479e-8301-f715c87366e0",
   "metadata": {},
   "outputs": [
    {
     "name": "stdout",
     "output_type": "stream",
     "text": [
      "[' ', ' ', ' ']\n",
      "[' ', ' ', ' ']\n",
      "[' ', ' ', ' ']\n"
     ]
    }
   ],
   "source": [
    "display(row1, row2, row3)"
   ]
  },
  {
   "cell_type": "code",
   "execution_count": 8,
   "id": "2d647d0f-d7c0-4ece-b346-fa36acaa20b0",
   "metadata": {},
   "outputs": [],
   "source": [
    "row2[1] = 'X'"
   ]
  },
  {
   "cell_type": "code",
   "execution_count": 9,
   "id": "6a2ff998-04fd-48c9-a947-9b86ed96f54a",
   "metadata": {},
   "outputs": [
    {
     "name": "stdout",
     "output_type": "stream",
     "text": [
      "[' ', ' ', ' ']\n",
      "[' ', 'X', ' ']\n",
      "[' ', ' ', ' ']\n"
     ]
    }
   ],
   "source": [
    "display(row1, row2, row3)"
   ]
  },
  {
   "cell_type": "code",
   "execution_count": 10,
   "id": "f9126c6a-a129-4c76-b3b9-f284a7aab247",
   "metadata": {},
   "outputs": [
    {
     "name": "stdin",
     "output_type": "stream",
     "text": [
      "Please enter a value:  1\n"
     ]
    },
    {
     "data": {
      "text/plain": [
       "'1'"
      ]
     },
     "execution_count": 10,
     "metadata": {},
     "output_type": "execute_result"
    }
   ],
   "source": [
    "input(\"Please enter a value: \")"
   ]
  },
  {
   "cell_type": "markdown",
   "id": "68953aa8-9633-4e36-a6d0-3abfbf4c4250",
   "metadata": {},
   "source": [
    "result = input(\"Please enter a value: \")"
   ]
  },
  {
   "cell_type": "code",
   "execution_count": 12,
   "id": "6dbcdf29-c139-4ce3-8eb3-7136fa08cdb2",
   "metadata": {},
   "outputs": [
    {
     "ename": "NameError",
     "evalue": "name 'result' is not defined",
     "output_type": "error",
     "traceback": [
      "\u001b[0;31m---------------------------------------------------------------------------\u001b[0m",
      "\u001b[0;31mNameError\u001b[0m                                 Traceback (most recent call last)",
      "Cell \u001b[0;32mIn[12], line 1\u001b[0m\n\u001b[0;32m----> 1\u001b[0m \u001b[38;5;28mtype\u001b[39m(result)\n",
      "\u001b[0;31mNameError\u001b[0m: name 'result' is not defined"
     ]
    }
   ],
   "source": [
    "type(result) # Note that the return type of the input is initially a string"
   ]
  },
  {
   "cell_type": "markdown",
   "id": "1203ac86-2645-485d-878c-b995175b3709",
   "metadata": {},
   "source": [
    "# result = input(\"Enter Value: \")"
   ]
  },
  {
   "cell_type": "code",
   "execution_count": null,
   "id": "c4b94149-b19c-4171-b524-574cd47c38c9",
   "metadata": {},
   "outputs": [],
   "source": [
    "result_int = int(result)"
   ]
  },
  {
   "cell_type": "code",
   "execution_count": null,
   "id": "8f2bec68-c166-4e98-810e-d00b5021b0b8",
   "metadata": {},
   "outputs": [],
   "source": [
    "type(result_int)"
   ]
  },
  {
   "cell_type": "code",
   "execution_count": null,
   "id": "f1727634-0304-4a13-9d16-a6cc08bc2087",
   "metadata": {},
   "outputs": [],
   "source": [
    "type(2.3) # This is a float"
   ]
  },
  {
   "cell_type": "code",
   "execution_count": null,
   "id": "0342b0d2-229e-4ff0-9ee4-72d68fa9934f",
   "metadata": {},
   "outputs": [],
   "source": [
    "type('3.14')"
   ]
  },
  {
   "cell_type": "code",
   "execution_count": null,
   "id": "9d317a22-2e00-40cf-a9db-e9bc4e0d7a62",
   "metadata": {},
   "outputs": [],
   "source": [
    "float('3.14')"
   ]
  },
  {
   "cell_type": "code",
   "execution_count": null,
   "id": "249a9201-da92-4760-bdd0-a8acfb369dc3",
   "metadata": {},
   "outputs": [],
   "source": [
    "position_index = int(input(\"Choose an index position: \"))"
   ]
  },
  {
   "cell_type": "code",
   "execution_count": null,
   "id": "cb6449ee-3853-4a57-bb5b-13f4b4be8af5",
   "metadata": {},
   "outputs": [],
   "source": [
    "type(position_index)"
   ]
  },
  {
   "cell_type": "code",
   "execution_count": null,
   "id": "507b65fb-6cca-4533-9f9f-a9f854441624",
   "metadata": {},
   "outputs": [],
   "source": [
    "row2[position_index]"
   ]
  },
  {
   "cell_type": "code",
   "execution_count": null,
   "id": "7f0506c7-c634-4a4d-b184-dc449976043b",
   "metadata": {},
   "outputs": [],
   "source": [
    "def user_choice():\n",
    "\n",
    "    # Initial\n",
    "    choice = 'WRONG'\n",
    "    acceptable_range = range(0,10)\n",
    "    within_range = False\n",
    "\n",
    "    # TWO CONDITIONS TO CHECK\n",
    "    # DIGIT OR WITHIN RANGE == FALSE\n",
    "    while choice.isdigit() == False or within_range == False: # Ask the user for the input repeatedly\n",
    "        \n",
    "        choice = input(\"Please enter a number (0-10): \")\n",
    "\n",
    "        # DIGIT CHECK\n",
    "        if choice.isdigit() == False:\n",
    "            print(\"Sorry that is not a digit!\")\n",
    "\n",
    "        # RANGE CHECK\n",
    "        if choice.isdigit() == True:\n",
    "            if int(choice) in acceptable_range:\n",
    "                within_range = True\n",
    "            else:\n",
    "                print(\"Sorry, you are out of acceptable range (0-10)\")\n",
    "                within_range = False\n",
    "        \n",
    "    return int(choice)"
   ]
  },
  {
   "cell_type": "code",
   "execution_count": null,
   "id": "e9363c50-4bc7-42f6-bebc-3942f162a3f4",
   "metadata": {},
   "outputs": [],
   "source": [
    "user_choice()"
   ]
  },
  {
   "cell_type": "code",
   "execution_count": null,
   "id": "c7c46cb9-5449-4720-86ec-7b8642f9ea20",
   "metadata": {},
   "outputs": [],
   "source": [
    "result = 'WRONG VALUE'"
   ]
  },
  {
   "cell_type": "code",
   "execution_count": null,
   "id": "9a1b4bfe-8f15-486d-b59a-ce57798ed2bc",
   "metadata": {},
   "outputs": [],
   "source": [
    "acceptable_values = [0,1,2]"
   ]
  },
  {
   "cell_type": "code",
   "execution_count": null,
   "id": "f7ef7a62-050b-4567-95b1-12f601c3750b",
   "metadata": {},
   "outputs": [],
   "source": [
    "result in acceptable_values"
   ]
  },
  {
   "cell_type": "code",
   "execution_count": null,
   "id": "42d831a1-455d-4880-a69e-5fd69acf93c8",
   "metadata": {},
   "outputs": [],
   "source": [
    "# INTERACTIVE USERS"
   ]
  },
  {
   "cell_type": "code",
   "execution_count": null,
   "id": "8fe6b695-173a-41dd-a92a-35898dff57ec",
   "metadata": {},
   "outputs": [],
   "source": [
    "game_list = [0,1,2]"
   ]
  },
  {
   "cell_type": "code",
   "execution_count": null,
   "id": "1c45fb18-2673-4ed9-aece-af22cd31d8a9",
   "metadata": {},
   "outputs": [],
   "source": [
    "def display_game (game_list):\n",
    "    print(\"Here is the current list: \")\n",
    "    print(game_list)"
   ]
  },
  {
   "cell_type": "code",
   "execution_count": null,
   "id": "173576b2-d072-49a0-b9ed-aeade9258588",
   "metadata": {},
   "outputs": [],
   "source": [
    "display_game(game_list)"
   ]
  },
  {
   "cell_type": "code",
   "execution_count": null,
   "id": "f32dc0d2-b1ed-43ac-b354-da7feacea390",
   "metadata": {},
   "outputs": [],
   "source": [
    "def position_choice():\n",
    "    choice = 'wrong'\n",
    "    # Since we know that choices are always in the put in as strings\n",
    "    while choice not in ['0', '1', '2']:\n",
    "        choice = input(\"Pick a position (0,1,2): \")\n",
    "\n",
    "        if choice not in ['0', '1', '2']:\n",
    "            print(\"Sorry, invalid choice!\")\n",
    "    return int(choice)"
   ]
  },
  {
   "cell_type": "code",
   "execution_count": null,
   "id": "2f194f33-0cf3-4759-9290-13c9a2faf61d",
   "metadata": {},
   "outputs": [],
   "source": [
    "position_choice()"
   ]
  },
  {
   "cell_type": "code",
   "execution_count": null,
   "id": "718e6542-a824-41c5-95b9-70123df6c145",
   "metadata": {},
   "outputs": [],
   "source": [
    "def replacement_choice(game_list, position):\n",
    "    user_placement = input(\"Type a string to place at position\")\n",
    "\n",
    "    game_list[position] = user_placement\n",
    "\n",
    "    return game_list"
   ]
  },
  {
   "cell_type": "code",
   "execution_count": null,
   "id": "059b7c8d-0ff7-46ce-bbe3-cafb75858edf",
   "metadata": {},
   "outputs": [],
   "source": [
    "replacement_choice(game_list, 1)"
   ]
  },
  {
   "cell_type": "code",
   "execution_count": null,
   "id": "5f989a04-cd31-4b9e-a2b1-868f20fc81ae",
   "metadata": {},
   "outputs": [],
   "source": [
    "def gameon_choice():\n",
    "    choice = 'wrong'\n",
    "\n",
    "    while choice not in ['Y', 'N']:\n",
    "        choice = input(\"Keep playing? (Y or N) \")\n",
    "\n",
    "        if choice not in ['Y', 'N']:\n",
    "            print(\"Sorry, I don't understand, please choose Y or N\")\n",
    "    if choice == \"Y\":\n",
    "        return True\n",
    "    else: \n",
    "        return False"
   ]
  },
  {
   "cell_type": "code",
   "execution_count": null,
   "id": "429285a8-1daf-4a46-bbe6-2f12fc525f4d",
   "metadata": {},
   "outputs": [],
   "source": [
    "gameon_choice()"
   ]
  },
  {
   "cell_type": "code",
   "execution_count": null,
   "id": "b12a8d60-314f-495b-86e5-d343d664d9cd",
   "metadata": {},
   "outputs": [],
   "source": [
    "game_on = True\n",
    "game_list = [0,1,2]\n",
    "\n",
    "while game_on:\n",
    "    display_game(game_list)\n",
    "    position = position_choice()\n",
    "    game_list = replacement_choice(game_list, position)\n",
    "    display_game(game_list)\n",
    "    game_on = gameon_choice()"
   ]
  },
  {
   "cell_type": "code",
   "execution_count": null,
   "id": "95022165-4276-4282-af56-6f615d081511",
   "metadata": {},
   "outputs": [],
   "source": [
    "# MILE STONE"
   ]
  },
  {
   "cell_type": "code",
   "execution_count": null,
   "id": "09c6863e-7563-4a87-9adc-d3f22908f381",
   "metadata": {},
   "outputs": [],
   "source": [
    "# The function that can print out the board, that it can print out the initial boards"
   ]
  },
  {
   "cell_type": "code",
   "execution_count": 38,
   "id": "607156fb-0b7f-466b-9f76-3b1b4bdf684e",
   "metadata": {},
   "outputs": [],
   "source": [
    "from IPython.display import clear_output\n",
    "\n",
    "def display_board(board):\n",
    "    clear_output() # This is used to clear the output pane when we have multiple outputs expect\n",
    "    # This will allow us to only display one version of the board the next time it is called\n",
    "    print('   |   |')  \n",
    "    print(' ' + board[7] + ' | '+board[8]+' | '+board[9])\n",
    "    print('   |   |') \n",
    "    print('-----------')\n",
    "    print('   |   |')  \n",
    "    print(' ' + board[4] + ' | '+board[5]+' | '+board[6])\n",
    "    print('   |   |') \n",
    "    print('-----------')\n",
    "    print('   |   |')  \n",
    "    print(' ' + board[1] + ' | '+board[2]+' | '+board[3])\n",
    "    print('   |   |') "
   ]
  },
  {
   "cell_type": "code",
   "execution_count": 40,
   "id": "2d3400ec-a4d5-43b5-a6fb-a3fcd8001035",
   "metadata": {},
   "outputs": [
    {
     "name": "stdout",
     "output_type": "stream",
     "text": [
      "   |   |\n",
      " X | O | X\n",
      "   |   |\n",
      "-----------\n",
      "   |   |\n",
      " O | X | O\n",
      "   |   |\n",
      "-----------\n",
      "   |   |\n",
      " X | O | X\n",
      "   |   |\n"
     ]
    }
   ],
   "source": [
    " # test_board = [' ']*10  # Note that we can multiply the occurrence of a character or string in a list\n",
    "test_board = ['#', 'X','O','X','O','X', 'O', 'X', 'O', 'X']\n",
    "display_board(test_board)\n",
    "display_board(test_board)\n"
   ]
  },
  {
   "cell_type": "code",
   "execution_count": 44,
   "id": "0600c899-90a6-49ad-b171-680dd3ba0b52",
   "metadata": {},
   "outputs": [],
   "source": [
    "# Function to take player input\n",
    "def player_input():\n",
    "    '''\n",
    "        OUTPUT = (Player 1 marker, Player 2 marker)\n",
    "    '''\n",
    "    marker = ''\n",
    "    while not (marker == 'X' or marker == 'O'):\n",
    "        marker = input(\"Player 1: Choose X or O: \").upper()\n",
    "    if marker == 'X':\n",
    "        return ('X', 'O')\n",
    "    else:\n",
    "        return ('O', 'X')\n",
    "                       "
   ]
  },
  {
   "cell_type": "code",
   "execution_count": 46,
   "id": "5b819cb4-dfb7-473b-846a-391ded693d91",
   "metadata": {},
   "outputs": [],
   "source": [
    "def place_marker(board, marker, position):\n",
    "    board[position] = marker"
   ]
  },
  {
   "cell_type": "code",
   "execution_count": 48,
   "id": "dc29586f-db94-4e04-8c60-63b6aa672236",
   "metadata": {},
   "outputs": [
    {
     "data": {
      "text/plain": [
       "['#', 'X', 'O', 'X', 'O', 'X', 'O', 'X', 'O', 'X']"
      ]
     },
     "execution_count": 48,
     "metadata": {},
     "output_type": "execute_result"
    }
   ],
   "source": [
    "test_board"
   ]
  },
  {
   "cell_type": "code",
   "execution_count": 52,
   "id": "c30955a6-a82f-4ef7-b7cc-1db8ce5bcbc1",
   "metadata": {},
   "outputs": [
    {
     "name": "stdout",
     "output_type": "stream",
     "text": [
      "   |   |\n",
      " X | $ | X\n",
      "   |   |\n",
      "-----------\n",
      "   |   |\n",
      " O | X | O\n",
      "   |   |\n",
      "-----------\n",
      "   |   |\n",
      " X | O | X\n",
      "   |   |\n"
     ]
    }
   ],
   "source": [
    "place_marker(test_board, '$', 8)\n",
    "display_board(test_board)"
   ]
  },
  {
   "cell_type": "code",
   "execution_count": 56,
   "id": "792165dc-7952-4e2a-891e-599e378fe99b",
   "metadata": {},
   "outputs": [],
   "source": [
    "def win_check(board, mark):\n",
    "    # WIN TICK TAC TOE\n",
    "    # All rows, and check to see if they share the same marker?\n",
    "    return ((board[7] == mark and board[8] == mark  and board[9] == mark) or\n",
    "    (board[4] == mark and board[5] == mark and board[6] == mark) or # Across the middle\n",
    "    (board[1] == mark and board[2] == mark and board[3] == mark) or \n",
    "    (board[7] == mark and board[4] == mark and board[1] == mark) or \n",
    "    (board[8] == mark and board[5] == mark and board[2] == mark) or \n",
    "    (board[9] == mark and board[6] == mark and board[3] == mark) or \n",
    "    (board[7] == mark and board[5] == mark and board[3] == mark) or \n",
    "    (board[9] == mark and board[5] == mark and board[1] == mark) )\n",
    "    # All Columns, check to see if the marker matches\n",
    "    # 2 diagonals, check to see match"
   ]
  },
  {
   "cell_type": "code",
   "execution_count": 60,
   "id": "0e4abc25-363a-41f4-af44-428c94c00777",
   "metadata": {},
   "outputs": [
    {
     "name": "stdout",
     "output_type": "stream",
     "text": [
      "   |   |\n",
      " X | $ | X\n",
      "   |   |\n",
      "-----------\n",
      "   |   |\n",
      " O | X | O\n",
      "   |   |\n",
      "-----------\n",
      "   |   |\n",
      " X | O | X\n",
      "   |   |\n"
     ]
    },
    {
     "data": {
      "text/plain": [
       "True"
      ]
     },
     "execution_count": 60,
     "metadata": {},
     "output_type": "execute_result"
    }
   ],
   "source": [
    "display_board(test_board)\n",
    "win_check(test_board, 'X')"
   ]
  },
  {
   "cell_type": "code",
   "execution_count": 62,
   "id": "0293a843-3b56-4503-abd6-6a11dd2d943c",
   "metadata": {},
   "outputs": [],
   "source": [
    "# This is for randomly choosing the states\n",
    "import random \n",
    "def choose_first():\n",
    "    \n",
    "    flip = random.randint(0,1)\n",
    "\n",
    "    if flip == 0:\n",
    "        return 'Player 1'\n",
    "    else:\n",
    "        return 'Player 2'"
   ]
  },
  {
   "cell_type": "code",
   "execution_count": 80,
   "id": "1579bcd5-c7b6-48bb-ad19-784489a9cab9",
   "metadata": {},
   "outputs": [],
   "source": [
    "def space_check(board, position):\n",
    "    return board[position] == ' '"
   ]
  },
  {
   "cell_type": "code",
   "execution_count": 84,
   "id": "3c611589-ba23-4443-a071-21f7c8f22a47",
   "metadata": {},
   "outputs": [],
   "source": [
    "# This is used to check if the space is available\n",
    "def full_board_check(board):\n",
    "    for i in range(1,10):\n",
    "        if space_check(board, i):\n",
    "            return False\n",
    "    # The board is full\n",
    "    return True"
   ]
  },
  {
   "cell_type": "code",
   "execution_count": 86,
   "id": "68fd9bc8-6914-4056-8277-7532b4469b77",
   "metadata": {},
   "outputs": [],
   "source": [
    "# This is one that asks for the player's choice\n",
    "def player_choice(board):\n",
    "    position = 0\n",
    "    # This will allow the player to only utilize the actual space\n",
    "    while position not in [1,2,3,4,5,6,7,8,9] or not space_check(board, position):\n",
    "        position = int(input('Choose a position: (1-9) '))\n",
    "        return position\n",
    "        \n",
    "    "
   ]
  },
  {
   "cell_type": "code",
   "execution_count": 88,
   "id": "5aa617f0-48a6-47e2-90ba-dd32429c0e8f",
   "metadata": {},
   "outputs": [],
   "source": [
    "def replay():\n",
    "    choice = input(\"Play again? Enter Yes or No\")\n",
    "\n",
    "    return choice == 'Yes'\n",
    "    "
   ]
  },
  {
   "cell_type": "code",
   "execution_count": null,
   "id": "049919f5-8559-4580-90f6-10df52726644",
   "metadata": {},
   "outputs": [
    {
     "name": "stdout",
     "output_type": "stream",
     "text": [
      "   |   |\n",
      "   |   | X\n",
      "   |   |\n",
      "-----------\n",
      "   |   |\n",
      " O | O | X\n",
      "   |   |\n",
      "-----------\n",
      "   |   |\n",
      " X | O | X\n",
      "   |   |\n",
      "PLAYER 1 HAS WON!!\n"
     ]
    }
   ],
   "source": [
    "# This is the combination of all parts\n",
    "while True:\n",
    "    # PLAY THE GAME\n",
    "\n",
    "    ## SET EVERYTHING UP (BOARD, WHO'S FIRST, CHOOSE MANNERS X, O)\n",
    "    # Set the board\n",
    "    the_board = [' ']*10\n",
    "    # This is like a tuple used to select which player owns a symbol\n",
    "    player1_marker, player2_marker = player_input()\n",
    "\n",
    "    turn = choose_first()\n",
    "    print(turn + ' will go first')\n",
    "\n",
    "    play_game = input('Ready to play? y or n? ')\n",
    "\n",
    "    if play_game == 'y':\n",
    "        game_on = True\n",
    "    else:\n",
    "        game_on = False\n",
    "\n",
    "    # GAME PLAY\n",
    "    while game_on:\n",
    "\n",
    "        if turn == 'Player 1':\n",
    "            \n",
    "            # Show the board\n",
    "            display_board(the_board)\n",
    "\n",
    "            # Choose a position\n",
    "            position = player_choice(the_board)\n",
    "\n",
    "            # Place the marker at the position\n",
    "            place_marker(the_board, player1_marker, position)\n",
    "\n",
    "            # Check if they won\n",
    "            if win_check(the_board, player1_marker):\n",
    "                display_board(the_board)\n",
    "                print('PLAYER 1 HAS WON!!')\n",
    "                game_on = False\n",
    "            else:\n",
    "                # Or check if there is a tie\n",
    "                # This is done by checking if the board is full\n",
    "                if full_board_check(the_board):\n",
    "                    display_board(the_board)\n",
    "                    print(\"TIE GAME!\")\n",
    "                    game_on = False\n",
    "                else:\n",
    "                    turn = 'Player 2' # No tie and no win? Then the  next player's turn\n",
    "        else:\n",
    "            # This is to represent player 2's turn \n",
    "             # Show the board\n",
    "            display_board(the_board)\n",
    "\n",
    "            # Choose a position\n",
    "            position = player_choice(the_board)\n",
    "\n",
    "            # Place the marker at the position\n",
    "            place_marker(the_board, player2_marker, position)\n",
    "\n",
    "            # Check if they won\n",
    "            if win_check(the_board, player2_marker):\n",
    "                display_board(the_board)\n",
    "                print('PLAYER 2 HAS WON!!')\n",
    "                game_on = False\n",
    "            else:\n",
    "                # Or check if there is a tie\n",
    "                # This is done by checking if the board is full\n",
    "                if full_board_check(the_board):\n",
    "                    display_board(the_board)\n",
    "                    print(\"TIE GAME!\")\n",
    "                    game_on = False\n",
    "                else:\n",
    "                    turn = 'Player 1' # No tie and no win? Then the  next player's turn\n",
    "\n",
    "    # Ask for a replay\n",
    "    if not replay():\n",
    "        break\n",
    "\n",
    "    # BREAK OUT OF THE WHILE LOOP ON REPLAY()"
   ]
  },
  {
   "cell_type": "code",
   "execution_count": null,
   "id": "88665cc9-39f0-483c-b0c0-3650828b6adf",
   "metadata": {},
   "outputs": [],
   "source": []
  }
 ],
 "metadata": {
  "kernelspec": {
   "display_name": "Python [conda env:base] *",
   "language": "python",
   "name": "conda-base-py"
  },
  "language_info": {
   "codemirror_mode": {
    "name": "ipython",
    "version": 3
   },
   "file_extension": ".py",
   "mimetype": "text/x-python",
   "name": "python",
   "nbconvert_exporter": "python",
   "pygments_lexer": "ipython3",
   "version": "3.12.7"
  }
 },
 "nbformat": 4,
 "nbformat_minor": 5
}
