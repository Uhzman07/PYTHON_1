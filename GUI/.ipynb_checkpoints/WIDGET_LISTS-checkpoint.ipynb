{
 "cells": [
  {
   "cell_type": "code",
   "execution_count": 1,
   "id": "47c26117-8805-4433-bff1-1254cfd12a0c",
   "metadata": {},
   "outputs": [
    {
     "name": "stdout",
     "output_type": "stream",
     "text": [
      "(('@jupyter-widgets/base', '1.2.0', 'LayoutModel', '@jupyter-widgets/base', '1.2.0', 'LayoutView'), <class 'ipywidgets.widgets.widget_layout.Layout'>)\n",
      "(('@jupyter-widgets/controls', '1.5.0', 'AccordionModel', '@jupyter-widgets/controls', '1.5.0', 'AccordionView'), <class 'ipywidgets.widgets.widget_selectioncontainer.Accordion'>)\n",
      "(('@jupyter-widgets/controls', '1.5.0', 'AudioModel', '@jupyter-widgets/controls', '1.5.0', 'AudioView'), <class 'ipywidgets.widgets.widget_media.Audio'>)\n",
      "(('@jupyter-widgets/controls', '1.5.0', 'BoundedFloatTextModel', '@jupyter-widgets/controls', '1.5.0', 'FloatTextView'), <class 'ipywidgets.widgets.widget_float.BoundedFloatText'>)\n",
      "(('@jupyter-widgets/controls', '1.5.0', 'BoundedIntTextModel', '@jupyter-widgets/controls', '1.5.0', 'IntTextView'), <class 'ipywidgets.widgets.widget_int.BoundedIntText'>)\n",
      "(('@jupyter-widgets/controls', '1.5.0', 'BoxModel', '@jupyter-widgets/controls', '1.5.0', 'BoxView'), <class 'ipywidgets.widgets.widget_box.Box'>)\n",
      "(('@jupyter-widgets/controls', '1.5.0', 'ButtonModel', '@jupyter-widgets/controls', '1.5.0', 'ButtonView'), <class 'ipywidgets.widgets.widget_button.Button'>)\n",
      "(('@jupyter-widgets/controls', '1.5.0', 'ButtonStyleModel', '@jupyter-widgets/base', '1.2.0', 'StyleView'), <class 'ipywidgets.widgets.widget_button.ButtonStyle'>)\n",
      "(('@jupyter-widgets/controls', '1.5.0', 'CheckboxModel', '@jupyter-widgets/controls', '1.5.0', 'CheckboxView'), <class 'ipywidgets.widgets.widget_bool.Checkbox'>)\n",
      "(('@jupyter-widgets/controls', '1.5.0', 'ColorPickerModel', '@jupyter-widgets/controls', '1.5.0', 'ColorPickerView'), <class 'ipywidgets.widgets.widget_color.ColorPicker'>)\n",
      "(('@jupyter-widgets/controls', '1.5.0', 'ComboboxModel', '@jupyter-widgets/controls', '1.5.0', 'ComboboxView'), <class 'ipywidgets.widgets.widget_string.Combobox'>)\n",
      "(('@jupyter-widgets/controls', '1.5.0', 'ControllerAxisModel', '@jupyter-widgets/controls', '1.5.0', 'ControllerAxisView'), <class 'ipywidgets.widgets.widget_controller.Axis'>)\n",
      "(('@jupyter-widgets/controls', '1.5.0', 'ControllerButtonModel', '@jupyter-widgets/controls', '1.5.0', 'ControllerButtonView'), <class 'ipywidgets.widgets.widget_controller.Button'>)\n",
      "(('@jupyter-widgets/controls', '1.5.0', 'ControllerModel', '@jupyter-widgets/controls', '1.5.0', 'ControllerView'), <class 'ipywidgets.widgets.widget_controller.Controller'>)\n",
      "(('@jupyter-widgets/controls', '1.5.0', 'DOMWidgetModel', '@jupyter-widgets/controls', '1.5.0', None), <class 'ipywidgets.widgets.widget_media._Media'>)\n",
      "(('@jupyter-widgets/controls', '1.5.0', 'DatePickerModel', '@jupyter-widgets/controls', '1.5.0', 'DatePickerView'), <class 'ipywidgets.widgets.widget_date.DatePicker'>)\n",
      "(('@jupyter-widgets/controls', '1.5.0', 'DescriptionStyleModel', '@jupyter-widgets/base', '1.2.0', 'StyleView'), <class 'ipywidgets.widgets.widget_description.DescriptionStyle'>)\n",
      "(('@jupyter-widgets/controls', '1.5.0', 'DirectionalLinkModel', '@jupyter-widgets/controls', '1.5.0', None), <class 'ipywidgets.widgets.widget_link.DirectionalLink'>)\n",
      "(('@jupyter-widgets/controls', '1.5.0', 'DropdownModel', '@jupyter-widgets/controls', '1.5.0', 'DropdownView'), <class 'ipywidgets.widgets.widget_selection.Dropdown'>)\n",
      "(('@jupyter-widgets/controls', '1.5.0', 'FileUploadModel', '@jupyter-widgets/controls', '1.5.0', 'FileUploadView'), <class 'ipywidgets.widgets.widget_upload.FileUpload'>)\n",
      "(('@jupyter-widgets/controls', '1.5.0', 'FloatLogSliderModel', '@jupyter-widgets/controls', '1.5.0', 'FloatLogSliderView'), <class 'ipywidgets.widgets.widget_float.FloatLogSlider'>)\n",
      "(('@jupyter-widgets/controls', '1.5.0', 'FloatProgressModel', '@jupyter-widgets/controls', '1.5.0', 'ProgressView'), <class 'ipywidgets.widgets.widget_float.FloatProgress'>)\n",
      "(('@jupyter-widgets/controls', '1.5.0', 'FloatRangeSliderModel', '@jupyter-widgets/controls', '1.5.0', 'FloatRangeSliderView'), <class 'ipywidgets.widgets.widget_float.FloatRangeSlider'>)\n",
      "(('@jupyter-widgets/controls', '1.5.0', 'FloatSliderModel', '@jupyter-widgets/controls', '1.5.0', 'FloatSliderView'), <class 'ipywidgets.widgets.widget_float.FloatSlider'>)\n",
      "(('@jupyter-widgets/controls', '1.5.0', 'FloatTextModel', '@jupyter-widgets/controls', '1.5.0', 'FloatTextView'), <class 'ipywidgets.widgets.widget_float.FloatText'>)\n",
      "(('@jupyter-widgets/controls', '1.5.0', 'GridBoxModel', '@jupyter-widgets/controls', '1.5.0', 'GridBoxView'), <class 'ipywidgets.widgets.widget_box.GridBox'>)\n",
      "(('@jupyter-widgets/controls', '1.5.0', 'HBoxModel', '@jupyter-widgets/controls', '1.5.0', 'HBoxView'), <class 'ipywidgets.widgets.widget_box.HBox'>)\n",
      "(('@jupyter-widgets/controls', '1.5.0', 'HTMLMathModel', '@jupyter-widgets/controls', '1.5.0', 'HTMLMathView'), <class 'ipywidgets.widgets.widget_string.HTMLMath'>)\n",
      "(('@jupyter-widgets/controls', '1.5.0', 'HTMLModel', '@jupyter-widgets/controls', '1.5.0', 'HTMLView'), <class 'ipywidgets.widgets.widget_string.HTML'>)\n",
      "(('@jupyter-widgets/controls', '1.5.0', 'ImageModel', '@jupyter-widgets/controls', '1.5.0', 'ImageView'), <class 'ipywidgets.widgets.widget_media.Image'>)\n",
      "(('@jupyter-widgets/controls', '1.5.0', 'IntProgressModel', '@jupyter-widgets/controls', '1.5.0', 'ProgressView'), <class 'ipywidgets.widgets.widget_int.IntProgress'>)\n",
      "(('@jupyter-widgets/controls', '1.5.0', 'IntRangeSliderModel', '@jupyter-widgets/controls', '1.5.0', 'IntRangeSliderView'), <class 'ipywidgets.widgets.widget_int.IntRangeSlider'>)\n",
      "(('@jupyter-widgets/controls', '1.5.0', 'IntSliderModel', '@jupyter-widgets/controls', '1.5.0', 'IntSliderView'), <class 'ipywidgets.widgets.widget_int.IntSlider'>)\n",
      "(('@jupyter-widgets/controls', '1.5.0', 'IntTextModel', '@jupyter-widgets/controls', '1.5.0', 'IntTextView'), <class 'ipywidgets.widgets.widget_int.IntText'>)\n",
      "(('@jupyter-widgets/controls', '1.5.0', 'LabelModel', '@jupyter-widgets/controls', '1.5.0', 'LabelView'), <class 'ipywidgets.widgets.widget_string.Label'>)\n",
      "(('@jupyter-widgets/controls', '1.5.0', 'LinkModel', '@jupyter-widgets/controls', '1.5.0', None), <class 'ipywidgets.widgets.widget_link.Link'>)\n",
      "(('@jupyter-widgets/controls', '1.5.0', 'PasswordModel', '@jupyter-widgets/controls', '1.5.0', 'PasswordView'), <class 'ipywidgets.widgets.widget_string.Password'>)\n",
      "(('@jupyter-widgets/controls', '1.5.0', 'PlayModel', '@jupyter-widgets/controls', '1.5.0', 'PlayView'), <class 'ipywidgets.widgets.widget_int.Play'>)\n",
      "(('@jupyter-widgets/controls', '1.5.0', 'ProgressStyleModel', '@jupyter-widgets/base', '1.2.0', 'StyleView'), <class 'ipywidgets.widgets.widget_int.ProgressStyle'>)\n",
      "(('@jupyter-widgets/controls', '1.5.0', 'RadioButtonsModel', '@jupyter-widgets/controls', '1.5.0', 'RadioButtonsView'), <class 'ipywidgets.widgets.widget_selection.RadioButtons'>)\n",
      "(('@jupyter-widgets/controls', '1.5.0', 'SelectModel', '@jupyter-widgets/controls', '1.5.0', 'SelectView'), <class 'ipywidgets.widgets.widget_selection.Select'>)\n",
      "(('@jupyter-widgets/controls', '1.5.0', 'SelectMultipleModel', '@jupyter-widgets/controls', '1.5.0', 'SelectMultipleView'), <class 'ipywidgets.widgets.widget_selection.SelectMultiple'>)\n",
      "(('@jupyter-widgets/controls', '1.5.0', 'SelectionRangeSliderModel', '@jupyter-widgets/controls', '1.5.0', 'SelectionRangeSliderView'), <class 'ipywidgets.widgets.widget_selection.SelectionRangeSlider'>)\n",
      "(('@jupyter-widgets/controls', '1.5.0', 'SelectionSliderModel', '@jupyter-widgets/controls', '1.5.0', 'SelectionSliderView'), <class 'ipywidgets.widgets.widget_selection.SelectionSlider'>)\n",
      "(('@jupyter-widgets/controls', '1.5.0', 'SliderStyleModel', '@jupyter-widgets/base', '1.2.0', 'StyleView'), <class 'ipywidgets.widgets.widget_int.SliderStyle'>)\n",
      "(('@jupyter-widgets/controls', '1.5.0', 'TabModel', '@jupyter-widgets/controls', '1.5.0', 'TabView'), <class 'ipywidgets.widgets.widget_selectioncontainer.Tab'>)\n",
      "(('@jupyter-widgets/controls', '1.5.0', 'TextModel', '@jupyter-widgets/controls', '1.5.0', 'TextView'), <class 'ipywidgets.widgets.widget_string.Text'>)\n",
      "(('@jupyter-widgets/controls', '1.5.0', 'TextareaModel', '@jupyter-widgets/controls', '1.5.0', 'TextareaView'), <class 'ipywidgets.widgets.widget_string.Textarea'>)\n",
      "(('@jupyter-widgets/controls', '1.5.0', 'ToggleButtonModel', '@jupyter-widgets/controls', '1.5.0', 'ToggleButtonView'), <class 'ipywidgets.widgets.widget_bool.ToggleButton'>)\n",
      "(('@jupyter-widgets/controls', '1.5.0', 'ToggleButtonsModel', '@jupyter-widgets/controls', '1.5.0', 'ToggleButtonsView'), <class 'ipywidgets.widgets.widget_selection.ToggleButtons'>)\n",
      "(('@jupyter-widgets/controls', '1.5.0', 'ToggleButtonsStyleModel', '@jupyter-widgets/base', '1.2.0', 'StyleView'), <class 'ipywidgets.widgets.widget_selection.ToggleButtonsStyle'>)\n",
      "(('@jupyter-widgets/controls', '1.5.0', 'VBoxModel', '@jupyter-widgets/controls', '1.5.0', 'VBoxView'), <class 'ipywidgets.widgets.widget_box.VBox'>)\n",
      "(('@jupyter-widgets/controls', '1.5.0', 'ValidModel', '@jupyter-widgets/controls', '1.5.0', 'ValidView'), <class 'ipywidgets.widgets.widget_bool.Valid'>)\n",
      "(('@jupyter-widgets/controls', '1.5.0', 'VideoModel', '@jupyter-widgets/controls', '1.5.0', 'VideoView'), <class 'ipywidgets.widgets.widget_media.Video'>)\n",
      "(('@jupyter-widgets/output', '1.0.0', 'OutputModel', '@jupyter-widgets/output', '1.0.0', 'OutputView'), <class 'ipywidgets.widgets.widget_output.Output'>)\n"
     ]
    }
   ],
   "source": [
    "import ipywidgets as widgets\n",
    "\n",
    "# Show all the available widgets!\n",
    "for item in widgets.Widget.widget_types.items():\n",
    "    print(item)"
   ]
  },
  {
   "cell_type": "code",
   "execution_count": 3,
   "id": "af1ca3c1-79aa-424b-bf01-e8be9e526e60",
   "metadata": {},
   "outputs": [
    {
     "data": {
      "application/vnd.jupyter.widget-view+json": {
       "model_id": "abeb57e3d23842f5b84bf7fe942010a9",
       "version_major": 2,
       "version_minor": 0
      },
      "text/plain": [
       "IntSlider(value=7, description='Test:', max=10)"
      ]
     },
     "metadata": {},
     "output_type": "display_data"
    }
   ],
   "source": [
    "widgets.IntSlider(\n",
    "    value = 7,\n",
    "    min = 0, \n",
    "    max = 10,\n",
    "    step = 1,\n",
    "    description = 'Test:',\n",
    "    disabled = False,\n",
    "    continuos_update = False,\n",
    "    orientation = 'horizontal',\n",
    "    readout = True, \n",
    "    readout_format = 'd'\n",
    ")"
   ]
  },
  {
   "cell_type": "code",
   "execution_count": 5,
   "id": "e47c3b10-0076-435b-8bcf-64c7257da416",
   "metadata": {},
   "outputs": [
    {
     "data": {
      "application/vnd.jupyter.widget-view+json": {
       "model_id": "9ac0afbe03f349149b13dd5297156e12",
       "version_major": 2,
       "version_minor": 0
      },
      "text/plain": [
       "FloatSlider(value=7.5, description='Test:', max=10.0, readout_format='.1f')"
      ]
     },
     "metadata": {},
     "output_type": "display_data"
    }
   ],
   "source": [
    "widgets.FloatSlider(\n",
    "    value = 7.5,\n",
    "    min = 0,\n",
    "    max = 10.0,\n",
    "    step = 0.1,\n",
    "    description = 'Test:',\n",
    "    disabled = False,\n",
    "    continuos_update = False,\n",
    "    orientation = 'horizontal',\n",
    "    readout = True,\n",
    "    readout_format = '.1f'\n",
    ")"
   ]
  },
  {
   "cell_type": "code",
   "execution_count": 11,
   "id": "89b4f5c3-c75d-4e96-8375-611c7a64ab79",
   "metadata": {},
   "outputs": [
    {
     "data": {
      "application/vnd.jupyter.widget-view+json": {
       "model_id": "1d73db15f77f46188e9acdd3799b08b3",
       "version_major": 2,
       "version_minor": 0
      },
      "text/plain": [
       "IntRangeSlider(value=(5, 7), description='Test:', max=10)"
      ]
     },
     "metadata": {},
     "output_type": "display_data"
    }
   ],
   "source": [
    "widgets.IntRangeSlider(\n",
    "    value = [5,7],\n",
    "    min = 0, \n",
    "    max = 10,\n",
    "    step = 1,\n",
    "    description = 'Test:',\n",
    "    disabled = False,\n",
    "    continuos_update = False,\n",
    "    orientation = 'horizontal',\n",
    "    readout = True, \n",
    "    readout_format = 'd'\n",
    ")"
   ]
  },
  {
   "cell_type": "code",
   "execution_count": 13,
   "id": "102dd9ad-6912-43eb-a8ed-3f207434dfb1",
   "metadata": {},
   "outputs": [
    {
     "data": {
      "application/vnd.jupyter.widget-view+json": {
       "model_id": "0966270858ca4a23bd67956c17f3c8d7",
       "version_major": 2,
       "version_minor": 0
      },
      "text/plain": [
       "FloatRangeSlider(value=(5.0, 7.5), description='Test:', max=10.0, readout_format='d', step=1.0)"
      ]
     },
     "metadata": {},
     "output_type": "display_data"
    }
   ],
   "source": [
    "widgets.FloatRangeSlider(\n",
    "    value = [5.0,7.5],\n",
    "    min = 0, \n",
    "    max = 10,\n",
    "    step = 1,\n",
    "    description = 'Test:',\n",
    "    disabled = False,\n",
    "    continuos_update = False,\n",
    "    orientation = 'horizontal',\n",
    "    readout = True, \n",
    "    readout_format = 'd'\n",
    ")"
   ]
  },
  {
   "cell_type": "code",
   "execution_count": 23,
   "id": "0fa5f41f-9dbd-4e85-af20-be2b549baf9a",
   "metadata": {},
   "outputs": [
    {
     "data": {
      "application/vnd.jupyter.widget-view+json": {
       "model_id": "afcc3083fa2d4672bc6deab97671a2ea",
       "version_major": 2,
       "version_minor": 0
      },
      "text/plain": [
       "IntProgress(value=7, description='Loading: ', max=10)"
      ]
     },
     "metadata": {},
     "output_type": "display_data"
    }
   ],
   "source": [
    "widgets.IntProgress(\n",
    "    value = 7,\n",
    "    min = 0,\n",
    "    max = 10,\n",
    "    step = 1,\n",
    "    description = 'Loading: ',\n",
    "    bar_style = '', # 'success', 'info', 'warning', 'danger', or ''\n",
    "    orientation = 'horizontal'\n",
    ")"
   ]
  },
  {
   "cell_type": "code",
   "execution_count": 25,
   "id": "6dee3f6d-4a33-40c7-bb82-26585837444e",
   "metadata": {},
   "outputs": [
    {
     "data": {
      "application/vnd.jupyter.widget-view+json": {
       "model_id": "bde20f11b90d4f5294b55693e0365c03",
       "version_major": 2,
       "version_minor": 0
      },
      "text/plain": [
       "FloatProgress(value=7.0, description='Loading: ', max=10.0)"
      ]
     },
     "metadata": {},
     "output_type": "display_data"
    }
   ],
   "source": [
    "widgets.FloatProgress(\n",
    "    value = 7,\n",
    "    min = 0,\n",
    "    max = 10,\n",
    "    step = 1,\n",
    "    description = 'Loading: ',\n",
    "    bar_style = '', # 'success', 'info', 'warning', 'danger', or ''\n",
    "    orientation = 'horizontal'\n",
    ")"
   ]
  },
  {
   "cell_type": "code",
   "execution_count": 27,
   "id": "c4be4b32-e89d-41f9-be10-10cc5842293a",
   "metadata": {},
   "outputs": [],
   "source": [
    "# BOUNDED INT TEXT"
   ]
  },
  {
   "cell_type": "code",
   "execution_count": 29,
   "id": "5e191a96-750b-4d49-ac3e-13274c760582",
   "metadata": {},
   "outputs": [
    {
     "data": {
      "application/vnd.jupyter.widget-view+json": {
       "model_id": "3c2a4cb08fc8488dadcc8b8f134a1857",
       "version_major": 2,
       "version_minor": 0
      },
      "text/plain": [
       "BoundedIntText(value=7, description='Text:', max=10)"
      ]
     },
     "metadata": {},
     "output_type": "display_data"
    }
   ],
   "source": [
    "widgets.BoundedIntText(\n",
    "    value = 7,\n",
    "    min = 0,\n",
    "    max = 10,\n",
    "    step = 1,\n",
    "    description = 'Text:',\n",
    "    disabled = False\n",
    ")"
   ]
  },
  {
   "cell_type": "code",
   "execution_count": 33,
   "id": "9a6271d3-6c1e-4f2d-821d-419bd20009af",
   "metadata": {},
   "outputs": [
    {
     "data": {
      "application/vnd.jupyter.widget-view+json": {
       "model_id": "372d5e3043fe4446bebcade66ddf7b5f",
       "version_major": 2,
       "version_minor": 0
      },
      "text/plain": [
       "BoundedFloatText(value=7.0, description='Text:', max=10.0, step=1.0)"
      ]
     },
     "metadata": {},
     "output_type": "display_data"
    }
   ],
   "source": [
    "widgets.BoundedFloatText(\n",
    "    value = 7,\n",
    "    min = 0,\n",
    "    max = 10,\n",
    "    step = 1,\n",
    "    description = 'Text:',\n",
    "    disabled = False\n",
    ")"
   ]
  },
  {
   "cell_type": "code",
   "execution_count": 35,
   "id": "05f27463-4838-4f52-b8da-97e2870b08fd",
   "metadata": {},
   "outputs": [
    {
     "data": {
      "application/vnd.jupyter.widget-view+json": {
       "model_id": "afa353b37864400ab296f34619c5bad2",
       "version_major": 2,
       "version_minor": 0
      },
      "text/plain": [
       "FloatText(value=7.5, description='Any:')"
      ]
     },
     "metadata": {},
     "output_type": "display_data"
    }
   ],
   "source": [
    "widgets.FloatText(\n",
    "    value = 7.5,\n",
    "    description = 'Any:',\n",
    "    disabled = False\n",
    ")"
   ]
  },
  {
   "cell_type": "code",
   "execution_count": 37,
   "id": "3aae4990-0daf-4be9-a6dd-b9445bc39e89",
   "metadata": {},
   "outputs": [],
   "source": [
    "# BOOLEAN WIDGETS"
   ]
  },
  {
   "cell_type": "code",
   "execution_count": 41,
   "id": "8b6f6020-d0c6-47e7-b25d-5780998b28d7",
   "metadata": {},
   "outputs": [
    {
     "data": {
      "application/vnd.jupyter.widget-view+json": {
       "model_id": "24c687ff43e446dbb1533fb160568d94",
       "version_major": 2,
       "version_minor": 0
      },
      "text/plain": [
       "ToggleButton(value=False, button_style='success', description='Click me', icon='check', tooltip='Description')"
      ]
     },
     "metadata": {},
     "output_type": "display_data"
    }
   ],
   "source": [
    "# TOGGLE BUTTON\n",
    "widgets.ToggleButton(\n",
    "    value = False,\n",
    "    description = 'Click me',\n",
    "    disabled = False,\n",
    "    button_style = 'success', # 'success', 'info', 'warning', 'danger' or ''\n",
    "    tooltip = 'Description',\n",
    "    icon = 'check'\n",
    ")\n",
    "    "
   ]
  },
  {
   "cell_type": "code",
   "execution_count": 43,
   "id": "82f4cd78-2feb-4de2-9132-2813a8b242d8",
   "metadata": {},
   "outputs": [
    {
     "data": {
      "application/vnd.jupyter.widget-view+json": {
       "model_id": "f75d4cfb4cdb42bc92c1256bea1d0bf0",
       "version_major": 2,
       "version_minor": 0
      },
      "text/plain": [
       "Checkbox(value=False, description='Check me')"
      ]
     },
     "metadata": {},
     "output_type": "display_data"
    }
   ],
   "source": [
    "# CHECK BOX\n",
    "widgets.Checkbox(\n",
    "    value = False,\n",
    "    description = 'Check me',\n",
    "    disabled = False\n",
    ")"
   ]
  },
  {
   "cell_type": "code",
   "execution_count": 47,
   "id": "03dec5ad-0884-451b-823a-b8c5c51909d4",
   "metadata": {},
   "outputs": [
    {
     "data": {
      "application/vnd.jupyter.widget-view+json": {
       "model_id": "f05882d6ea1541d599a2b439b463250d",
       "version_major": 2,
       "version_minor": 0
      },
      "text/plain": [
       "Valid(value=True, description='Valid!')"
      ]
     },
     "metadata": {},
     "output_type": "display_data"
    }
   ],
   "source": [
    "# VALID\n",
    "widgets.Valid(\n",
    "    value = True, # Or Flase\n",
    "    description = 'Valid!'\n",
    ")"
   ]
  },
  {
   "cell_type": "code",
   "execution_count": 51,
   "id": "aa040b38-24d0-45c5-bc90-b37ce4ec84be",
   "metadata": {},
   "outputs": [
    {
     "data": {
      "application/vnd.jupyter.widget-view+json": {
       "model_id": "2f88034141064341be5a32759b9d0f84",
       "version_major": 2,
       "version_minor": 0
      },
      "text/plain": [
       "Dropdown(description='Number:', index=1, options=('1', '2', '3'), value='2')"
      ]
     },
     "metadata": {},
     "output_type": "display_data"
    }
   ],
   "source": [
    "# DROP DOWN\n",
    "widgets.Dropdown(\n",
    "    options = ['1', '2', '3'],\n",
    "    value = '2',\n",
    "    description = 'Number:',\n",
    "    disabled = False\n",
    ")\n",
    "    "
   ]
  },
  {
   "cell_type": "code",
   "execution_count": 55,
   "id": "1e8eaa76-076b-4c01-9ac2-d6ea03e65cc7",
   "metadata": {},
   "outputs": [
    {
     "data": {
      "application/vnd.jupyter.widget-view+json": {
       "model_id": "9cf57a4404c7439682b5243722c7bc6a",
       "version_major": 2,
       "version_minor": 0
      },
      "text/plain": [
       "Dropdown(description='Number:', index=1, options={'One': 1, 'Two': 2, 'Three': 3}, value=2)"
      ]
     },
     "metadata": {},
     "output_type": "display_data"
    }
   ],
   "source": [
    "widgets.Dropdown(\n",
    "    options = {'One' : 1, 'Two' : 2, 'Three' : 3}, # The keys are the selectable options while the value is the actual response derived\n",
    "    value = 2, \n",
    "    description = 'Number:'\n",
    ")"
   ]
  },
  {
   "cell_type": "code",
   "execution_count": 57,
   "id": "9d74563e-e619-44cf-9713-db6b89341b6e",
   "metadata": {},
   "outputs": [
    {
     "data": {
      "application/vnd.jupyter.widget-view+json": {
       "model_id": "3569aa2669d343429408ed64e3e6ae70",
       "version_major": 2,
       "version_minor": 0
      },
      "text/plain": [
       "RadioButtons(description='Pizza topping:', options=('pepperoni', 'pineapple', 'anchovies'), value='pepperoni')"
      ]
     },
     "metadata": {},
     "output_type": "display_data"
    }
   ],
   "source": [
    "# RADIO BUTTONS\n",
    "widgets.RadioButtons(\n",
    "    options = ['pepperoni', 'pineapple', 'anchovies'],\n",
    "    # value = 'pineapple'\n",
    "    description = 'Pizza topping:',\n",
    "    disabled = False\n",
    ")"
   ]
  },
  {
   "cell_type": "code",
   "execution_count": 59,
   "id": "88833c0a-b545-4a03-8e2a-06436c4293cb",
   "metadata": {},
   "outputs": [
    {
     "data": {
      "application/vnd.jupyter.widget-view+json": {
       "model_id": "5a2a688e75284322a20f598e3f737db4",
       "version_major": 2,
       "version_minor": 0
      },
      "text/plain": [
       "Select(description='OS:', index=2, options=('Linux', 'Windows', 'OSX'), value='OSX')"
      ]
     },
     "metadata": {},
     "output_type": "display_data"
    }
   ],
   "source": [
    "# SELECT\n",
    "widgets.Select(\n",
    "    options = ['Linux', 'Windows', 'OSX'],\n",
    "    value = 'OSX',\n",
    "    # rows = 10\n",
    "    description = 'OS:',\n",
    "    disabled = False\n",
    ")"
   ]
  },
  {
   "cell_type": "code",
   "execution_count": 63,
   "id": "4d0c6941-6509-4c32-845c-afef2f53c53b",
   "metadata": {},
   "outputs": [
    {
     "data": {
      "application/vnd.jupyter.widget-view+json": {
       "model_id": "9739e4eb3f99413d9fee16d6353d9e72",
       "version_major": 2,
       "version_minor": 0
      },
      "text/plain": [
       "SelectionSlider(continuous_update=False, description='I like my eggs ...', index=1, options=('scrambled', 'sun…"
      ]
     },
     "metadata": {},
     "output_type": "display_data"
    }
   ],
   "source": [
    "# SELECTION SLIDER\n",
    "widgets.SelectionSlider(\n",
    "    options = ['scrambled', 'sunny side up', 'poached', 'over easy'],\n",
    "    value = 'sunny side up',\n",
    "    description = 'I like my eggs ...',\n",
    "    disabled = False,\n",
    "    continuous_update = False,\n",
    "    orientation = 'horizontal',\n",
    "    readout = True\n",
    ")"
   ]
  },
  {
   "cell_type": "code",
   "execution_count": 73,
   "id": "c526eb0c-5b97-4eb8-8d6f-e09db28d8f46",
   "metadata": {},
   "outputs": [
    {
     "data": {
      "application/vnd.jupyter.widget-view+json": {
       "model_id": "95cb3fa699f8450fae199daa694805eb",
       "version_major": 2,
       "version_minor": 0
      },
      "text/plain": [
       "ToggleButtons(description='Speed:', options=('Slow', 'Regular', 'Fast'), tooltips=('Description of slow', 'Des…"
      ]
     },
     "metadata": {},
     "output_type": "display_data"
    }
   ],
   "source": [
    "# TOGGLE BUTTONS\n",
    "widgets.ToggleButtons(\n",
    "    options = ['Slow', 'Regular', 'Fast'],\n",
    "    description = 'Speed:',\n",
    "    disabled = False, \n",
    "    button_style = '', # 'success', 'info', 'warning', 'danger', or ''\n",
    "    tooltips = ['Description of slow', 'Description of regular', 'Description of fast']\n",
    "    # icons = ['check'] * 3\n",
    ")"
   ]
  },
  {
   "cell_type": "code",
   "execution_count": 75,
   "id": "80e48229-3f43-4c1a-9343-c0349ac3c6a5",
   "metadata": {},
   "outputs": [],
   "source": [
    "# SELECT MULTIPLE\n",
    "# Multiple values can be selected with SHIFT and/or control (or command pressed and mouse clicks)"
   ]
  },
  {
   "cell_type": "code",
   "execution_count": 77,
   "id": "531bf3cf-d90f-4013-b104-905e78a33bad",
   "metadata": {},
   "outputs": [
    {
     "data": {
      "application/vnd.jupyter.widget-view+json": {
       "model_id": "147d4a9251f9449d82ff1be0586abf49",
       "version_major": 2,
       "version_minor": 0
      },
      "text/plain": [
       "SelectMultiple(description='Fruits', index=(1,), options=('Apples', 'Oranges', 'Pears'), value=('Oranges',))"
      ]
     },
     "metadata": {},
     "output_type": "display_data"
    }
   ],
   "source": [
    "widgets.SelectMultiple(\n",
    "    options = ['Apples', 'Oranges', 'Pears'],\n",
    "    value = ['Oranges'],\n",
    "    # rows = 10\n",
    "    description = 'Fruits',\n",
    "    disabled = False\n",
    ")"
   ]
  },
  {
   "cell_type": "code",
   "execution_count": 79,
   "id": "5d351df3-cd90-4766-8c02-7ce44f4a2d77",
   "metadata": {},
   "outputs": [],
   "source": [
    "# STRING WIDGETS"
   ]
  },
  {
   "cell_type": "code",
   "execution_count": 87,
   "id": "3146e0ae-d81e-40c5-a232-945369a0bc9f",
   "metadata": {},
   "outputs": [
    {
     "data": {
      "application/vnd.jupyter.widget-view+json": {
       "model_id": "9806c37311414193b643f1d254ddba11",
       "version_major": 2,
       "version_minor": 0
      },
      "text/plain": [
       "Text(value='Hello World', description='String:', placeholder='Type something')"
      ]
     },
     "metadata": {},
     "output_type": "display_data"
    }
   ],
   "source": [
    "# TEXT BOX (SIMPLE)\n",
    "widgets.Text(\n",
    "    value = 'Hello World',\n",
    "    placeholder = 'Type something',\n",
    "    description = 'String:',\n",
    "    disabled = False\n",
    ")"
   ]
  },
  {
   "cell_type": "code",
   "execution_count": 85,
   "id": "680ca1c2-eb97-4575-ba57-ccc1c861524d",
   "metadata": {},
   "outputs": [
    {
     "data": {
      "application/vnd.jupyter.widget-view+json": {
       "model_id": "c07f10c20f544e318895ffbe13209e5a",
       "version_major": 2,
       "version_minor": 0
      },
      "text/plain": [
       "Textarea(value='Hello World', description='String:', placeholder='Type something')"
      ]
     },
     "metadata": {},
     "output_type": "display_data"
    }
   ],
   "source": [
    "# TEXTAREA (BOX)\n",
    "widgets.Textarea(\n",
    "    value = 'Hello World',\n",
    "    placeholder = 'Type something',\n",
    "    description = 'String:',\n",
    "    disabled = False\n",
    ")"
   ]
  },
  {
   "cell_type": "code",
   "execution_count": 89,
   "id": "67172800-ab04-4ef9-b32f-e0f751dcb7c3",
   "metadata": {},
   "outputs": [],
   "source": [
    "# LABEL\n",
    "# The label widget is useful if we need to build a custom description next to\n",
    "# a control using similar styling to the built-in control descriptions"
   ]
  },
  {
   "cell_type": "code",
   "execution_count": 97,
   "id": "c753e96a-4a5a-45e4-9604-f7edddf113cd",
   "metadata": {},
   "outputs": [
    {
     "data": {
      "application/vnd.jupyter.widget-view+json": {
       "model_id": "415f38909f854a84840ee72ae57b13cd",
       "version_major": 2,
       "version_minor": 0
      },
      "text/plain": [
       "HBox(children=(Label(value='The $m$ in $E= mc^2$:'), FloatSlider(value=0.0)))"
      ]
     },
     "metadata": {},
     "output_type": "display_data"
    }
   ],
   "source": [
    "widgets.HBox([\n",
    "    widgets.Label(value='The $m$ in $E= mc^2$:'), \n",
    "    widgets.FloatSlider()\n",
    "])"
   ]
  },
  {
   "cell_type": "code",
   "execution_count": 99,
   "id": "13c329d5-c1c6-456b-b50f-da5ceb8c79b9",
   "metadata": {},
   "outputs": [
    {
     "data": {
      "application/vnd.jupyter.widget-view+json": {
       "model_id": "384cb88b2bbd46e696cfac4e632c4c49",
       "version_major": 2,
       "version_minor": 0
      },
      "text/plain": [
       "HTML(value='Hello <b>World</b>', description='Some HTML', placeholder='Some HTML')"
      ]
     },
     "metadata": {},
     "output_type": "display_data"
    }
   ],
   "source": [
    "# HTML\n",
    "widgets.HTML(\n",
    "    value = \"Hello <b>World</b>\",\n",
    "    placeholder = 'Some HTML', \n",
    "    description = 'Some HTML'\n",
    ")"
   ]
  },
  {
   "cell_type": "code",
   "execution_count": 101,
   "id": "fba86fa0-d964-4c0a-9146-0eeb23edf0fc",
   "metadata": {},
   "outputs": [],
   "source": [
    "# We can also have HTML Math"
   ]
  },
  {
   "cell_type": "code",
   "execution_count": 103,
   "id": "6ea39a92-b39e-4b0f-802a-57d56ef99b8a",
   "metadata": {},
   "outputs": [
    {
     "data": {
      "application/vnd.jupyter.widget-view+json": {
       "model_id": "77b67b46a7064d6eb6b529d958737971",
       "version_major": 2,
       "version_minor": 0
      },
      "text/plain": [
       "Button(description='Click me', icon='check', style=ButtonStyle(), tooltip='Click me')"
      ]
     },
     "metadata": {},
     "output_type": "display_data"
    }
   ],
   "source": [
    "# BUTTON\n",
    "widgets.Button(\n",
    "    description = 'Click me',\n",
    "    disabled = False,\n",
    "    button_style = '', # 'success', 'info', 'warning', 'danger', or ''\n",
    "    tooltip = 'Click me',\n",
    "    icon = 'check'\n",
    ")"
   ]
  },
  {
   "cell_type": "code",
   "execution_count": null,
   "id": "26d6d42a-c1eb-411d-8b69-e56456be5677",
   "metadata": {},
   "outputs": [],
   "source": []
  }
 ],
 "metadata": {
  "kernelspec": {
   "display_name": "Python [conda env:base] *",
   "language": "python",
   "name": "conda-base-py"
  },
  "language_info": {
   "codemirror_mode": {
    "name": "ipython",
    "version": 3
   },
   "file_extension": ".py",
   "mimetype": "text/x-python",
   "name": "python",
   "nbconvert_exporter": "python",
   "pygments_lexer": "ipython3",
   "version": "3.12.7"
  }
 },
 "nbformat": 4,
 "nbformat_minor": 5
}
