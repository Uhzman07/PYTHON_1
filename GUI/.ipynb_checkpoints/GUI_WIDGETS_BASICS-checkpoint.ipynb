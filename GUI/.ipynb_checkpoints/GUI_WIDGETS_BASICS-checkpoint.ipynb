{
 "cells": [
  {
   "cell_type": "code",
   "execution_count": 1,
   "id": "7d3d03f2-5010-494f-87ce-2893b9fca125",
   "metadata": {},
   "outputs": [],
   "source": [
    "import ipywidgets as widgets"
   ]
  },
  {
   "cell_type": "code",
   "execution_count": 3,
   "id": "96e2d0f2-9a11-49af-9525-75e1801f1864",
   "metadata": {},
   "outputs": [],
   "source": [
    "w = widgets.IntSlider()"
   ]
  },
  {
   "cell_type": "code",
   "execution_count": 5,
   "id": "05817792-eb8b-4fab-9948-8917bb76ce83",
   "metadata": {},
   "outputs": [],
   "source": [
    "from IPython.display import display"
   ]
  },
  {
   "cell_type": "code",
   "execution_count": 7,
   "id": "025a5b58-be11-4001-a490-557961443cc3",
   "metadata": {},
   "outputs": [
    {
     "data": {
      "application/vnd.jupyter.widget-view+json": {
       "model_id": "08457c78648545c1adf74f775b2f2d86",
       "version_major": 2,
       "version_minor": 0
      },
      "text/plain": [
       "IntSlider(value=0)"
      ]
     },
     "metadata": {},
     "output_type": "display_data"
    }
   ],
   "source": [
    "display(w)"
   ]
  },
  {
   "cell_type": "code",
   "execution_count": 11,
   "id": "47abec7a-7a26-497f-9635-9bd429f56e4b",
   "metadata": {},
   "outputs": [],
   "source": [
    "# To close it\n",
    "w.close()"
   ]
  },
  {
   "cell_type": "code",
   "execution_count": 15,
   "id": "029403e7-518f-44e6-99c8-76d196ab3df2",
   "metadata": {},
   "outputs": [
    {
     "data": {
      "text/plain": [
       "0"
      ]
     },
     "execution_count": 15,
     "metadata": {},
     "output_type": "execute_result"
    }
   ],
   "source": [
    "w.value # This is the value derived from the slider"
   ]
  },
  {
   "cell_type": "code",
   "execution_count": 19,
   "id": "f660db4c-5738-4e94-b8c6-684b58728ae2",
   "metadata": {},
   "outputs": [
    {
     "data": {
      "text/plain": [
       "['_dom_classes',\n",
       " '_model_module',\n",
       " '_model_module_version',\n",
       " '_model_name',\n",
       " '_view_count',\n",
       " '_view_module',\n",
       " '_view_module_version',\n",
       " '_view_name',\n",
       " 'continuous_update',\n",
       " 'description',\n",
       " 'description_tooltip',\n",
       " 'disabled',\n",
       " 'layout',\n",
       " 'max',\n",
       " 'min',\n",
       " 'orientation',\n",
       " 'readout',\n",
       " 'readout_format',\n",
       " 'step',\n",
       " 'style',\n",
       " 'value']"
      ]
     },
     "execution_count": 19,
     "metadata": {},
     "output_type": "execute_result"
    }
   ],
   "source": [
    "w.keys # These are the options that we can derive from the slider"
   ]
  },
  {
   "cell_type": "code",
   "execution_count": 21,
   "id": "bd3a9272-fc95-4fb4-bacd-b00cde25e414",
   "metadata": {},
   "outputs": [
    {
     "data": {
      "text/plain": [
       "100"
      ]
     },
     "execution_count": 21,
     "metadata": {},
     "output_type": "execute_result"
    }
   ],
   "source": [
    "w.max"
   ]
  },
  {
   "cell_type": "code",
   "execution_count": 23,
   "id": "64cabbf9-25a9-4280-b0f5-791163574319",
   "metadata": {},
   "outputs": [],
   "source": [
    "w.max = 2000 # This is to set the max value of the actual widget"
   ]
  },
  {
   "cell_type": "code",
   "execution_count": 27,
   "id": "ed2c3413-b03b-4b0f-a40d-e44c9e8302d3",
   "metadata": {},
   "outputs": [
    {
     "data": {
      "application/vnd.jupyter.widget-view+json": {
       "model_id": "266fd0510113417e9203a18cbc6b3fd1",
       "version_major": 2,
       "version_minor": 0
      },
      "text/plain": [
       "FloatText(value=0.0)"
      ]
     },
     "metadata": {},
     "output_type": "display_data"
    },
    {
     "data": {
      "application/vnd.jupyter.widget-view+json": {
       "model_id": "7b2e8d6a21704b97bfc9454a472839f8",
       "version_major": 2,
       "version_minor": 0
      },
      "text/plain": [
       "FloatSlider(value=0.0)"
      ]
     },
     "metadata": {},
     "output_type": "display_data"
    }
   ],
   "source": [
    "a = widgets.FloatText()\n",
    "b = widgets.FloatSlider()\n",
    "\n",
    "display(a,b)\n",
    "\n",
    "# This will link the values in both widgets. That is one appears in the other and vice versa\n",
    "mylink = widgets.jslink((a,'value'), (b, 'value'))"
   ]
  },
  {
   "cell_type": "code",
   "execution_count": 29,
   "id": "def32c19-08d6-433d-951d-a57cf8f6c213",
   "metadata": {},
   "outputs": [],
   "source": [
    "mylink.unlink() # We have to remember to unlink"
   ]
  },
  {
   "cell_type": "code",
   "execution_count": null,
   "id": "65652b0d-b53f-4225-8464-24d00debda79",
   "metadata": {},
   "outputs": [],
   "source": []
  }
 ],
 "metadata": {
  "kernelspec": {
   "display_name": "Python [conda env:base] *",
   "language": "python",
   "name": "conda-base-py"
  },
  "language_info": {
   "codemirror_mode": {
    "name": "ipython",
    "version": 3
   },
   "file_extension": ".py",
   "mimetype": "text/x-python",
   "name": "python",
   "nbconvert_exporter": "python",
   "pygments_lexer": "ipython3",
   "version": "3.12.7"
  }
 },
 "nbformat": 4,
 "nbformat_minor": 5
}
