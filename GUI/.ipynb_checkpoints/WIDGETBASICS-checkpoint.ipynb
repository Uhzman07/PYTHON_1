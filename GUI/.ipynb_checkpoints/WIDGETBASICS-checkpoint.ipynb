{
 "cells": [
  {
   "cell_type": "code",
   "execution_count": 13,
   "id": "662e3231-0420-40de-b5f2-cffa9f1b1291",
   "metadata": {},
   "outputs": [],
   "source": [
    "# Note: We have to install the widgets -> pip install ipywidgets\n"
   ]
  },
  {
   "cell_type": "code",
   "execution_count": 3,
   "id": "c07b136e-bc3a-41e8-b998-ddc813c6f6d2",
   "metadata": {},
   "outputs": [],
   "source": [
    "from ipywidgets import interact,interactive,fixed\n",
    "import ipywidgets as widgets"
   ]
  },
  {
   "cell_type": "code",
   "execution_count": 5,
   "id": "34180ce1-3f57-4a51-8c98-f23b99a986d1",
   "metadata": {},
   "outputs": [],
   "source": [
    "def func(x):\n",
    "    return x"
   ]
  },
  {
   "cell_type": "code",
   "execution_count": 17,
   "id": "60863102-0316-4993-89ed-2a3c8930c319",
   "metadata": {},
   "outputs": [
    {
     "data": {
      "application/vnd.jupyter.widget-view+json": {
       "model_id": "37265d0bd15c4aec8853457e21c9ed19",
       "version_major": 2,
       "version_minor": 0
      },
      "text/plain": [
       "interactive(children=(IntSlider(value=10, description='x', max=30, min=-10), Output()), _dom_classes=('widget-…"
      ]
     },
     "metadata": {},
     "output_type": "display_data"
    },
    {
     "data": {
      "text/plain": [
       "<function __main__.func(x)>"
      ]
     },
     "execution_count": 17,
     "metadata": {},
     "output_type": "execute_result"
    }
   ],
   "source": [
    "interact(func, x=10) # This diplays an interactable slide bar"
   ]
  },
  {
   "cell_type": "code",
   "execution_count": 23,
   "id": "07adaff9-7ff9-43ed-acfe-2c87ff36ce76",
   "metadata": {},
   "outputs": [
    {
     "data": {
      "application/vnd.jupyter.widget-view+json": {
       "model_id": "db1443aa900741e29f67bf5a34c0b257",
       "version_major": 2,
       "version_minor": 0
      },
      "text/plain": [
       "interactive(children=(Checkbox(value=True, description='x'), Output()), _dom_classes=('widget-interact',))"
      ]
     },
     "metadata": {},
     "output_type": "display_data"
    },
    {
     "data": {
      "text/plain": [
       "<function __main__.func(x)>"
      ]
     },
     "execution_count": 23,
     "metadata": {},
     "output_type": "execute_result"
    }
   ],
   "source": [
    "interact(func, x =True) # This displays a tick"
   ]
  },
  {
   "cell_type": "code",
   "execution_count": 25,
   "id": "4d9c77bc-cf85-4426-99d8-d6406d2d1274",
   "metadata": {},
   "outputs": [
    {
     "data": {
      "application/vnd.jupyter.widget-view+json": {
       "model_id": "53c0fa843d8347daab7a892cf38fa7b6",
       "version_major": 2,
       "version_minor": 0
      },
      "text/plain": [
       "interactive(children=(Text(value='Hello', description='x'), Output()), _dom_classes=('widget-interact',))"
      ]
     },
     "metadata": {},
     "output_type": "display_data"
    },
    {
     "data": {
      "text/plain": [
       "<function __main__.func(x)>"
      ]
     },
     "execution_count": 25,
     "metadata": {},
     "output_type": "execute_result"
    }
   ],
   "source": [
    "interact(func, x= 'Hello') # This is like a text box"
   ]
  },
  {
   "cell_type": "code",
   "execution_count": 29,
   "id": "dd932aa7-8e04-4917-9cec-fb6ca870117f",
   "metadata": {},
   "outputs": [
    {
     "data": {
      "application/vnd.jupyter.widget-view+json": {
       "model_id": "481b2067b0504b899d36ace67ac39fff",
       "version_major": 2,
       "version_minor": 0
      },
      "text/plain": [
       "interactive(children=(Checkbox(value=True, description='x'), FloatSlider(value=1.0, description='y', max=3.0, …"
      ]
     },
     "metadata": {},
     "output_type": "display_data"
    }
   ],
   "source": [
    "@interact(x=True, y=1.0) # Note that we can also decide to alter the arguments for the main function needed\n",
    "def g(x,y):\n",
    "    return (x,y) # This displays two widgets. One is like a \"TICK\" and the other is a \"SLIDE BAR\""
   ]
  },
  {
   "cell_type": "code",
   "execution_count": 31,
   "id": "3fe54216-0e58-4ae4-a0ad-dbfd6e96f7be",
   "metadata": {},
   "outputs": [
    {
     "data": {
      "application/vnd.jupyter.widget-view+json": {
       "model_id": "841333b488ea4f9f95fda1aef3052a79",
       "version_major": 2,
       "version_minor": 0
      },
      "text/plain": [
       "interactive(children=(IntSlider(value=0, description='x', min=-100), Output()), _dom_classes=('widget-interact…"
      ]
     },
     "metadata": {},
     "output_type": "display_data"
    },
    {
     "data": {
      "text/plain": [
       "<function __main__.func(x)>"
      ]
     },
     "execution_count": 31,
     "metadata": {},
     "output_type": "execute_result"
    }
   ],
   "source": [
    "interact(func, x = widgets.IntSlider(min=-100, max = 100, step = 1, value =0))"
   ]
  },
  {
   "cell_type": "code",
   "execution_count": 35,
   "id": "b93184da-e058-4532-837a-8e77215d1522",
   "metadata": {},
   "outputs": [
    {
     "data": {
      "application/vnd.jupyter.widget-view+json": {
       "model_id": "b2503fa61bd24515a8433f12bd199591",
       "version_major": 2,
       "version_minor": 0
      },
      "text/plain": [
       "interactive(children=(FloatSlider(value=0.0, description='x', max=10.0, min=-10.0), Output()), _dom_classes=('…"
      ]
     },
     "metadata": {},
     "output_type": "display_data"
    },
    {
     "data": {
      "text/plain": [
       "<function __main__.func(x)>"
      ]
     },
     "execution_count": 35,
     "metadata": {},
     "output_type": "execute_result"
    }
   ],
   "source": [
    "interact(func, x = (-10.0,10.0, .1)) # This means min: -10; max : 10; Step : 0.1"
   ]
  },
  {
   "cell_type": "code",
   "execution_count": 37,
   "id": "92f11bf4-daf3-47e8-93fe-ec3c1e929407",
   "metadata": {},
   "outputs": [
    {
     "data": {
      "application/vnd.jupyter.widget-view+json": {
       "model_id": "4be267a92178463fb348bf703e46363f",
       "version_major": 2,
       "version_minor": 0
      },
      "text/plain": [
       "interactive(children=(FloatSlider(value=5.0, description='x', max=20.0, step=0.5), Output()), _dom_classes=('w…"
      ]
     },
     "metadata": {},
     "output_type": "display_data"
    }
   ],
   "source": [
    "@interact(x= (0.0,20.0,0.5)) # This is the one that will replace the second argument\n",
    "def h(x=5.0): # This is the function that will be passed into the interact method\n",
    "    return x "
   ]
  },
  {
   "cell_type": "code",
   "execution_count": 39,
   "id": "7cc6c7d3-6cac-4a1c-8b87-a4cccf60dba5",
   "metadata": {},
   "outputs": [
    {
     "data": {
      "application/vnd.jupyter.widget-view+json": {
       "model_id": "b0cd52b18c314708b797f7147fd1e84e",
       "version_major": 2,
       "version_minor": 0
      },
      "text/plain": [
       "interactive(children=(Dropdown(description='x', options=('hello', 'option 2', 'option 3'), value='hello'), Out…"
      ]
     },
     "metadata": {},
     "output_type": "display_data"
    },
    {
     "data": {
      "text/plain": [
       "<function __main__.func(x)>"
      ]
     },
     "execution_count": 39,
     "metadata": {},
     "output_type": "execute_result"
    }
   ],
   "source": [
    "interact(func, x = ['hello', 'option 2', 'option 3'])  # This appears as a select option one"
   ]
  },
  {
   "cell_type": "code",
   "execution_count": 41,
   "id": "c74c02c1-1e32-4010-af13-d11148d9172b",
   "metadata": {},
   "outputs": [
    {
     "data": {
      "application/vnd.jupyter.widget-view+json": {
       "model_id": "1906b1ae40124a4f96b71ce01650b7ef",
       "version_major": 2,
       "version_minor": 0
      },
      "text/plain": [
       "interactive(children=(Dropdown(description='x', options={'one': 10, 'two': 20}, value=10), Output()), _dom_cla…"
      ]
     },
     "metadata": {},
     "output_type": "display_data"
    },
    {
     "data": {
      "text/plain": [
       "<function __main__.func(x)>"
      ]
     },
     "execution_count": 41,
     "metadata": {},
     "output_type": "execute_result"
    }
   ],
   "source": [
    "interact(func, x = {'one':10, 'two':20}) # Here if we select one option it returns the value (But the keys are the actual options)"
   ]
  },
  {
   "cell_type": "code",
   "execution_count": 43,
   "id": "d9317059-84d8-411b-a730-c55f58c50292",
   "metadata": {},
   "outputs": [],
   "source": [
    "# DISPLAY"
   ]
  },
  {
   "cell_type": "code",
   "execution_count": 45,
   "id": "9f9b84a9-c8dd-4f11-8969-ffc4e3a0b3fc",
   "metadata": {},
   "outputs": [],
   "source": [
    "from IPython.display import display\n",
    "\n",
    "def f(a,b):\n",
    "    display(a+b)\n",
    "    return a+b"
   ]
  },
  {
   "cell_type": "code",
   "execution_count": 47,
   "id": "c9a5210a-e942-4052-8498-ecd80a7b830f",
   "metadata": {},
   "outputs": [],
   "source": [
    "w = interactive(f, a=10, b=20)"
   ]
  },
  {
   "cell_type": "code",
   "execution_count": 49,
   "id": "223e9da6-0bb0-4eee-b470-68503291c199",
   "metadata": {},
   "outputs": [
    {
     "data": {
      "text/plain": [
       "ipywidgets.widgets.interaction.interactive"
      ]
     },
     "execution_count": 49,
     "metadata": {},
     "output_type": "execute_result"
    }
   ],
   "source": [
    "type(w)"
   ]
  },
  {
   "cell_type": "code",
   "execution_count": 51,
   "id": "a02944fd-29bc-40c8-9944-cb970a78322a",
   "metadata": {},
   "outputs": [
    {
     "data": {
      "text/plain": [
       "(IntSlider(value=10, description='a', max=30, min=-10),\n",
       " IntSlider(value=20, description='b', max=60, min=-20),\n",
       " Output())"
      ]
     },
     "execution_count": 51,
     "metadata": {},
     "output_type": "execute_result"
    }
   ],
   "source": [
    "w.children"
   ]
  },
  {
   "cell_type": "code",
   "execution_count": 55,
   "id": "9b5a1368-202a-4695-9cdb-d59c76739e0b",
   "metadata": {},
   "outputs": [
    {
     "data": {
      "application/vnd.jupyter.widget-view+json": {
       "model_id": "cfb0e889b0d44b509986898037b44a28",
       "version_major": 2,
       "version_minor": 0
      },
      "text/plain": [
       "interactive(children=(IntSlider(value=10, description='a', max=30, min=-10), IntSlider(value=20, description='…"
      ]
     },
     "metadata": {},
     "output_type": "display_data"
    }
   ],
   "source": [
    "display(w) # This is used to display the actual widget"
   ]
  },
  {
   "cell_type": "code",
   "execution_count": null,
   "id": "c8af74d0-d4c0-4b4b-8f22-38dfc070aa46",
   "metadata": {},
   "outputs": [],
   "source": []
  }
 ],
 "metadata": {
  "kernelspec": {
   "display_name": "Python [conda env:base] *",
   "language": "python",
   "name": "conda-base-py"
  },
  "language_info": {
   "codemirror_mode": {
    "name": "ipython",
    "version": 3
   },
   "file_extension": ".py",
   "mimetype": "text/x-python",
   "name": "python",
   "nbconvert_exporter": "python",
   "pygments_lexer": "ipython3",
   "version": "3.12.7"
  }
 },
 "nbformat": 4,
 "nbformat_minor": 5
}
