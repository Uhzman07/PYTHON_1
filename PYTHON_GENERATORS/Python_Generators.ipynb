{
 "cells": [
  {
   "cell_type": "code",
   "execution_count": 3,
   "id": "a68ea343-072e-483b-8077-2aa739334a07",
   "metadata": {},
   "outputs": [],
   "source": [
    "# GENERATORS IN PYTHON\n",
    "def create_cubes(n):\n",
    "    result = []\n",
    "    for x in range (n):\n",
    "        result.append(x**3)\n",
    "    return result\n"
   ]
  },
  {
   "cell_type": "code",
   "execution_count": 9,
   "id": "1eb23354-a328-476a-ba8f-fdb9cceebd4c",
   "metadata": {},
   "outputs": [
    {
     "name": "stdout",
     "output_type": "stream",
     "text": [
      "0\n",
      "1\n",
      "8\n",
      "27\n",
      "64\n",
      "125\n",
      "216\n",
      "343\n",
      "512\n",
      "729\n"
     ]
    }
   ],
   "source": [
    "for x in create_cubes(10):\n",
    "    print(x)"
   ]
  },
  {
   "cell_type": "code",
   "execution_count": 11,
   "id": "1226e7b8-09e2-4b62-b7f6-ac442b46f883",
   "metadata": {},
   "outputs": [],
   "source": [
    "# A more efficient way of doing this\n",
    "def create_cubes(n):\n",
    "    for x in range (n):\n",
    "        yield x**3 # This will prevent having to create a very large list in memory"
   ]
  },
  {
   "cell_type": "code",
   "execution_count": 25,
   "id": "43229461-c9b2-4ed1-8cc2-e374d9331a0a",
   "metadata": {},
   "outputs": [
    {
     "data": {
      "text/plain": [
       "[0, 1, 8, 27, 64, 125, 216, 343, 512, 729]"
      ]
     },
     "execution_count": 25,
     "metadata": {},
     "output_type": "execute_result"
    }
   ],
   "source": [
    "list(create_cubes(10)) # Note that we must convert it to a list to used it as one"
   ]
  },
  {
   "cell_type": "code",
   "execution_count": 19,
   "id": "b7971a0d-324a-45b6-949d-5d2cd6bc33f1",
   "metadata": {},
   "outputs": [],
   "source": [
    "# FIBONACCI SEQUENCE\n",
    "def gen_fibon(n):\n",
    "\n",
    "    a = 1\n",
    "    b = 1\n",
    "    for i in range(n):\n",
    "        # Here we are yielding as we are deriving so we do not have to store it\n",
    "        yield a \n",
    "        a,b = b, a+b"
   ]
  },
  {
   "cell_type": "code",
   "execution_count": 21,
   "id": "407e612d-85c6-4156-8e63-713ef59841ae",
   "metadata": {},
   "outputs": [
    {
     "name": "stdout",
     "output_type": "stream",
     "text": [
      "1\n",
      "1\n",
      "2\n",
      "3\n",
      "5\n",
      "8\n",
      "13\n",
      "21\n",
      "34\n",
      "55\n"
     ]
    }
   ],
   "source": [
    "for number in gen_fibon(10):\n",
    "    print(number)"
   ]
  },
  {
   "cell_type": "code",
   "execution_count": 27,
   "id": "8798a4a3-7f5d-4243-aa25-8ea27ea8cee5",
   "metadata": {},
   "outputs": [
    {
     "name": "stdout",
     "output_type": "stream",
     "text": [
      "[1, 1, 2, 3, 5, 8, 13, 21, 34, 55, 89]\n"
     ]
    }
   ],
   "source": [
    "print(list(gen_fibon(11)))"
   ]
  },
  {
   "cell_type": "code",
   "execution_count": 29,
   "id": "a8287e4c-0610-48c8-b844-706fed78bcfb",
   "metadata": {},
   "outputs": [],
   "source": [
    "def simple_gen():\n",
    "    for x in range(3):\n",
    "        yield x"
   ]
  },
  {
   "cell_type": "code",
   "execution_count": 47,
   "id": "a2d6abc8-68d7-49a3-96b3-f89d1f5f1f6a",
   "metadata": {},
   "outputs": [
    {
     "name": "stdout",
     "output_type": "stream",
     "text": [
      "0\n",
      "1\n",
      "2\n"
     ]
    }
   ],
   "source": [
    "for number in simple_gen(): # We can also use this for loop for the iteration\n",
    "    print(number)"
   ]
  },
  {
   "cell_type": "code",
   "execution_count": 33,
   "id": "ab00c807-4d33-4be4-8ad0-0a97e86e4292",
   "metadata": {},
   "outputs": [],
   "source": [
    "g = simple_gen()"
   ]
  },
  {
   "cell_type": "code",
   "execution_count": 35,
   "id": "d5373b63-390c-4e99-bd78-0f43466c48a7",
   "metadata": {},
   "outputs": [
    {
     "data": {
      "text/plain": [
       "<generator object simple_gen at 0x1364c2bc0>"
      ]
     },
     "execution_count": 35,
     "metadata": {},
     "output_type": "execute_result"
    }
   ],
   "source": [
    "g"
   ]
  },
  {
   "cell_type": "code",
   "execution_count": 39,
   "id": "534d08fd-c2d6-4342-b84a-0553e35b8d4b",
   "metadata": {},
   "outputs": [],
   "source": [
    "# Here we can also iterate through a yielded value (using \"next\") (but we have to be careful of the end of it "
   ]
  },
  {
   "cell_type": "code",
   "execution_count": 49,
   "id": "033b0915-968e-4e1b-95e4-ea7306d84d5a",
   "metadata": {},
   "outputs": [],
   "source": [
    "# We can use the next() function to iterate through the generator\n",
    "# Unlike the while loop that helps handle the iteration, we need to be able to check for the end of this"
   ]
  },
  {
   "cell_type": "code",
   "execution_count": 43,
   "id": "45c6b7c8-90de-4ee2-8503-5424a106714e",
   "metadata": {},
   "outputs": [
    {
     "name": "stdout",
     "output_type": "stream",
     "text": [
      "0\n"
     ]
    }
   ],
   "source": [
    "print(next(g))"
   ]
  },
  {
   "cell_type": "code",
   "execution_count": 45,
   "id": "dcf2bd2e-371a-44f5-b14d-fb9c6decd102",
   "metadata": {},
   "outputs": [
    {
     "name": "stdout",
     "output_type": "stream",
     "text": [
      "1\n"
     ]
    }
   ],
   "source": [
    "print(next(g))"
   ]
  },
  {
   "cell_type": "code",
   "execution_count": 51,
   "id": "13c93dc7-dc76-4da9-ae91-66cc5a0d512a",
   "metadata": {},
   "outputs": [],
   "source": [
    "s = 'hello'"
   ]
  },
  {
   "cell_type": "code",
   "execution_count": 53,
   "id": "c07089f3-e851-4fb4-9b59-0de49afaea98",
   "metadata": {},
   "outputs": [
    {
     "name": "stdout",
     "output_type": "stream",
     "text": [
      "h\n",
      "e\n",
      "l\n",
      "l\n",
      "o\n"
     ]
    }
   ],
   "source": [
    "for letter in s:\n",
    "    print(letter)"
   ]
  },
  {
   "cell_type": "code",
   "execution_count": 55,
   "id": "412c7846-5d68-4038-94b5-44b78962d452",
   "metadata": {},
   "outputs": [],
   "source": [
    "# In order to treat the string as an iterable one"
   ]
  },
  {
   "cell_type": "code",
   "execution_count": 57,
   "id": "ec26b756-036f-444e-9923-58c301d0034b",
   "metadata": {},
   "outputs": [],
   "source": [
    "s_iter = iter(s)"
   ]
  },
  {
   "cell_type": "code",
   "execution_count": 59,
   "id": "d822c836-d234-401b-ba9c-89c98b994e73",
   "metadata": {},
   "outputs": [
    {
     "data": {
      "text/plain": [
       "'h'"
      ]
     },
     "execution_count": 59,
     "metadata": {},
     "output_type": "execute_result"
    }
   ],
   "source": [
    "next(s_iter)"
   ]
  },
  {
   "cell_type": "code",
   "execution_count": 61,
   "id": "0d47f9e2-2aff-498a-8ac0-f0827a5067bf",
   "metadata": {},
   "outputs": [
    {
     "data": {
      "text/plain": [
       "'e'"
      ]
     },
     "execution_count": 61,
     "metadata": {},
     "output_type": "execute_result"
    }
   ],
   "source": [
    "next(s_iter)"
   ]
  },
  {
   "cell_type": "code",
   "execution_count": null,
   "id": "9fa3ebc9-ab9f-4e2b-b4a3-7c1473f9593c",
   "metadata": {},
   "outputs": [],
   "source": []
  },
  {
   "cell_type": "code",
   "execution_count": 64,
   "id": "8f77e4e5-b87d-4943-806f-52c231693577",
   "metadata": {},
   "outputs": [],
   "source": [
    "# GENERATOR HOME WORK\n",
    "# 1 Create a generator that generate the squares of numbers up to some number N"
   ]
  },
  {
   "cell_type": "code",
   "execution_count": 66,
   "id": "0a5a3a87-b7b7-4ac5-99d3-2ba1e934d036",
   "metadata": {},
   "outputs": [],
   "source": [
    "def gensquares(N):\n",
    "    for i in range(N):\n",
    "        yield i**2"
   ]
  },
  {
   "cell_type": "code",
   "execution_count": 68,
   "id": "a01624be-b278-4b88-a499-b38f9005de12",
   "metadata": {},
   "outputs": [
    {
     "name": "stdout",
     "output_type": "stream",
     "text": [
      "0\n",
      "1\n",
      "4\n",
      "9\n",
      "16\n",
      "25\n",
      "36\n",
      "49\n",
      "64\n",
      "81\n"
     ]
    }
   ],
   "source": [
    "for x in gensquares(10):\n",
    "    print(x)"
   ]
  },
  {
   "cell_type": "code",
   "execution_count": 70,
   "id": "7f4e9aa9-95fe-4231-adf3-bdb82c68d3e6",
   "metadata": {},
   "outputs": [
    {
     "data": {
      "text/plain": [
       "5"
      ]
     },
     "execution_count": 70,
     "metadata": {},
     "output_type": "execute_result"
    }
   ],
   "source": [
    "# 2 \n",
    "# Generator that yields \"n\" random numbers between a low and high number (that are inputs)\n",
    "import random\n",
    "\n",
    "random.randint(1,10)"
   ]
  },
  {
   "cell_type": "code",
   "execution_count": 72,
   "id": "9b45f1da-9cc4-4256-bac6-ac74aef9ad66",
   "metadata": {},
   "outputs": [],
   "source": [
    "def rand_num(low, high, n):\n",
    "    for i in range(n):\n",
    "        yield random.randint(low, high)"
   ]
  },
  {
   "cell_type": "code",
   "execution_count": 74,
   "id": "40860430-3d73-4117-8aeb-159f8acac445",
   "metadata": {},
   "outputs": [
    {
     "name": "stdout",
     "output_type": "stream",
     "text": [
      "10\n",
      "5\n",
      "7\n",
      "6\n",
      "10\n",
      "10\n",
      "1\n",
      "10\n",
      "4\n",
      "8\n",
      "10\n",
      "6\n"
     ]
    }
   ],
   "source": [
    "for num in rand_num(1, 10, 12):\n",
    "    print(num)"
   ]
  },
  {
   "cell_type": "code",
   "execution_count": 76,
   "id": "03f50ffb-c2ad-4d43-a7df-dcd2d1827c25",
   "metadata": {},
   "outputs": [
    {
     "name": "stdout",
     "output_type": "stream",
     "text": [
      "h\n"
     ]
    }
   ],
   "source": [
    "# Convert string into an iterator\n",
    "s = 'hello'\n",
    "\n",
    "s = iter(s)\n",
    "\n",
    "print(next(s))"
   ]
  },
  {
   "cell_type": "code",
   "execution_count": 78,
   "id": "0105ab97-7f07-485b-bf48-ca03f324abba",
   "metadata": {},
   "outputs": [
    {
     "name": "stdout",
     "output_type": "stream",
     "text": [
      "4\n",
      "5\n"
     ]
    }
   ],
   "source": [
    "# 4\n",
    "my_list = [1,2,3,4,5]\n",
    "\n",
    "gencomp = (item for item in my_list if item > 3)\n",
    "\n",
    "for item in gencomp:\n",
    "    print(item)"
   ]
  },
  {
   "cell_type": "code",
   "execution_count": null,
   "id": "8c6151c5-69f4-4b46-aae4-97cda8339dfa",
   "metadata": {},
   "outputs": [],
   "source": []
  }
 ],
 "metadata": {
  "kernelspec": {
   "display_name": "Python [conda env:base] *",
   "language": "python",
   "name": "conda-base-py"
  },
  "language_info": {
   "codemirror_mode": {
    "name": "ipython",
    "version": 3
   },
   "file_extension": ".py",
   "mimetype": "text/x-python",
   "name": "python",
   "nbconvert_exporter": "python",
   "pygments_lexer": "ipython3",
   "version": "3.12.7"
  }
 },
 "nbformat": 4,
 "nbformat_minor": 5
}
