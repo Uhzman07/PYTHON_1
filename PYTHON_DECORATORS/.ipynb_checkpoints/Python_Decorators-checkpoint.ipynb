{
 "cells": [
  {
   "cell_type": "code",
   "execution_count": 3,
   "id": "e113ab14-03fb-4bf5-9574-ad345972eb05",
   "metadata": {},
   "outputs": [
    {
     "data": {
      "text/plain": [
       "'\\nPython has DECORATORS that allow you to tack on extra functionality to an already existing function\\nThey use the @ operator and are then places on top of the original function\\n'"
      ]
     },
     "execution_count": 3,
     "metadata": {},
     "output_type": "execute_result"
    }
   ],
   "source": [
    "# PYTHON DECORATORS\n",
    "# We have two options \n",
    "'''\n",
    "1. Add that extra code (functionality) to your old function\n",
    "2. Create a brand new function that contains the old code, and then add new code to that\n",
    "'''\n",
    "'''\n",
    "Python has DECORATORS that allow you to tack on extra functionality to an already existing function\n",
    "They use the @ operator and are then places on top of the original function\n",
    "'''"
   ]
  },
  {
   "cell_type": "code",
   "execution_count": 7,
   "id": "ef0107f2-1701-473f-8d6b-5358bc098ff1",
   "metadata": {},
   "outputs": [],
   "source": [
    "def func():\n",
    "    return 1"
   ]
  },
  {
   "cell_type": "code",
   "execution_count": 9,
   "id": "7aa75cfc-6d55-4b8c-b134-104fefd60f8a",
   "metadata": {},
   "outputs": [
    {
     "data": {
      "text/plain": [
       "1"
      ]
     },
     "execution_count": 9,
     "metadata": {},
     "output_type": "execute_result"
    }
   ],
   "source": [
    "func()"
   ]
  },
  {
   "cell_type": "code",
   "execution_count": 11,
   "id": "d4a3efe1-950e-45be-8a73-0f9bb88c378e",
   "metadata": {},
   "outputs": [
    {
     "data": {
      "text/plain": [
       "<function __main__.func()>"
      ]
     },
     "execution_count": 11,
     "metadata": {},
     "output_type": "execute_result"
    }
   ],
   "source": [
    "func"
   ]
  },
  {
   "cell_type": "code",
   "execution_count": 13,
   "id": "fe3f7dce-b7fb-4f07-97f7-09fbca1df724",
   "metadata": {},
   "outputs": [],
   "source": [
    "def hello():\n",
    "    return \"Hello!\""
   ]
  },
  {
   "cell_type": "code",
   "execution_count": 15,
   "id": "0127609f-1f44-48fb-b056-45e12bf83ee0",
   "metadata": {},
   "outputs": [
    {
     "data": {
      "text/plain": [
       "'Hello!'"
      ]
     },
     "execution_count": 15,
     "metadata": {},
     "output_type": "execute_result"
    }
   ],
   "source": [
    "hello()"
   ]
  },
  {
   "cell_type": "code",
   "execution_count": 17,
   "id": "254ad993-83b8-4eed-ad53-153791c96d30",
   "metadata": {},
   "outputs": [
    {
     "data": {
      "text/plain": [
       "<function __main__.hello()>"
      ]
     },
     "execution_count": 17,
     "metadata": {},
     "output_type": "execute_result"
    }
   ],
   "source": [
    "hello"
   ]
  },
  {
   "cell_type": "code",
   "execution_count": 19,
   "id": "94b4d24c-add3-4038-8dc8-b6e2e5d960b7",
   "metadata": {},
   "outputs": [],
   "source": [
    "greet = hello"
   ]
  },
  {
   "cell_type": "code",
   "execution_count": 21,
   "id": "8faf1c23-fc47-41f7-a2c8-f786ad4e0e70",
   "metadata": {},
   "outputs": [
    {
     "data": {
      "text/plain": [
       "'Hello!'"
      ]
     },
     "execution_count": 21,
     "metadata": {},
     "output_type": "execute_result"
    }
   ],
   "source": [
    "greet()"
   ]
  },
  {
   "cell_type": "code",
   "execution_count": 23,
   "id": "26a3adec-8939-4739-b724-d9a95e9aa98c",
   "metadata": {},
   "outputs": [],
   "source": [
    "# If we try to delete the hello method\n",
    "del hello"
   ]
  },
  {
   "cell_type": "code",
   "execution_count": 25,
   "id": "ec5116ac-274d-4593-805e-44842b0618b9",
   "metadata": {},
   "outputs": [
    {
     "ename": "NameError",
     "evalue": "name 'hello' is not defined",
     "output_type": "error",
     "traceback": [
      "\u001b[0;31m---------------------------------------------------------------------------\u001b[0m",
      "\u001b[0;31mNameError\u001b[0m                                 Traceback (most recent call last)",
      "Cell \u001b[0;32mIn[25], line 2\u001b[0m\n\u001b[1;32m      1\u001b[0m \u001b[38;5;66;03m# After deleting, we will not be able to call it anymore\u001b[39;00m\n\u001b[0;32m----> 2\u001b[0m hello()\n",
      "\u001b[0;31mNameError\u001b[0m: name 'hello' is not defined"
     ]
    }
   ],
   "source": [
    "# After deleting, we will not be able to call it anymore\n",
    "hello()"
   ]
  },
  {
   "cell_type": "code",
   "execution_count": 29,
   "id": "ed3bdceb-19c5-498d-bd98-724f303842e6",
   "metadata": {},
   "outputs": [
    {
     "data": {
      "text/plain": [
       "'Hello!'"
      ]
     },
     "execution_count": 29,
     "metadata": {},
     "output_type": "execute_result"
    }
   ],
   "source": [
    "# Even if we have deleted the \"hello\" function, we can still access greet\n",
    "# The fact is that functions are like objects and greet is still pointing to the same object as the \"hello\" function\n",
    "greet()"
   ]
  },
  {
   "cell_type": "code",
   "execution_count": 35,
   "id": "08d0f8f7-3a60-4dc1-be13-46d4dc1375af",
   "metadata": {},
   "outputs": [],
   "source": [
    "def hello (name = \"Jose\"):\n",
    "    print('The hello() function has been executed!')\n",
    "\n",
    "    def greet():\n",
    "        return '\\t This is the greet() func inside hello!'\n",
    "\n",
    "    def welcome():\n",
    "        return '\\t This is welcome() inside hello!'\n",
    "    # Note that we \n",
    "    print(greet())\n",
    "    print(welcome())\n",
    "    print('This is the end of the hello function!')"
   ]
  },
  {
   "cell_type": "code",
   "execution_count": 37,
   "id": "ec9903e6-34e7-474f-8d37-912c54f22b00",
   "metadata": {},
   "outputs": [
    {
     "name": "stdout",
     "output_type": "stream",
     "text": [
      "The hello() function has been executed!\n",
      "\t This is the greet() func inside hello!\n",
      "\t This is welcome() inside hello!\n"
     ]
    }
   ],
   "source": [
    "hello() # If we run this, only the "
   ]
  },
  {
   "cell_type": "code",
   "execution_count": 39,
   "id": "134a480a-6ab4-4a71-abdf-eddf3cc3590d",
   "metadata": {},
   "outputs": [
    {
     "ename": "NameError",
     "evalue": "name 'welcome' is not defined",
     "output_type": "error",
     "traceback": [
      "\u001b[0;31m---------------------------------------------------------------------------\u001b[0m",
      "\u001b[0;31mNameError\u001b[0m                                 Traceback (most recent call last)",
      "Cell \u001b[0;32mIn[39], line 1\u001b[0m\n\u001b[0;32m----> 1\u001b[0m welcome()\n",
      "\u001b[0;31mNameError\u001b[0m: name 'welcome' is not defined"
     ]
    }
   ],
   "source": [
    "welcome() # This will not work because they were only defined in greed()"
   ]
  },
  {
   "cell_type": "code",
   "execution_count": 45,
   "id": "f99f7d80-ca77-402e-8c21-d988d650d868",
   "metadata": {},
   "outputs": [],
   "source": [
    "def hello (name = \"Jose\"):\n",
    "    print('The hello() function has been executed!')\n",
    "\n",
    "    def greet():\n",
    "        return '\\t This is the greet() func inside hello!'\n",
    "\n",
    "    def welcome():\n",
    "        return '\\t This is welcome() inside hello!'\n",
    "        \n",
    "    print (\"I am going to return a function!\")\n",
    "\n",
    "    # This returns one of the functions above based on the input given\n",
    "    if name == 'Jose':\n",
    "        return greet\n",
    "    else:\n",
    "        return welcome"
   ]
  },
  {
   "cell_type": "code",
   "execution_count": 47,
   "id": "b6387eb0-a9fe-4821-af9d-a7e242e499e5",
   "metadata": {},
   "outputs": [
    {
     "name": "stdout",
     "output_type": "stream",
     "text": [
      "The hello() function has been executed!\n",
      "I am going to return a function!\n"
     ]
    }
   ],
   "source": [
    "my_new_func = hello('Jose')"
   ]
  },
  {
   "cell_type": "code",
   "execution_count": 49,
   "id": "f61467d4-5e46-4b63-a553-401b1627376a",
   "metadata": {},
   "outputs": [
    {
     "name": "stdout",
     "output_type": "stream",
     "text": [
      "\t This is the greet() func inside hello!\n"
     ]
    }
   ],
   "source": [
    "print(my_new_func())"
   ]
  },
  {
   "cell_type": "code",
   "execution_count": 51,
   "id": "14cb4e01-b679-43cc-b494-c8ae863a55c6",
   "metadata": {},
   "outputs": [],
   "source": [
    "def cool():\n",
    "\n",
    "    def super_cool():\n",
    "        return 'I am very cool!'\n",
    "\n",
    "    return super_cool"
   ]
  },
  {
   "cell_type": "code",
   "execution_count": 53,
   "id": "f91b6409-fa1d-432e-bd50-5638dd52b239",
   "metadata": {},
   "outputs": [],
   "source": [
    "some_func = cool()"
   ]
  },
  {
   "cell_type": "code",
   "execution_count": 55,
   "id": "7707e66b-48b1-456b-9096-2a4c5bf8650f",
   "metadata": {},
   "outputs": [
    {
     "data": {
      "text/plain": [
       "<function __main__.cool.<locals>.super_cool()>"
      ]
     },
     "execution_count": 55,
     "metadata": {},
     "output_type": "execute_result"
    }
   ],
   "source": [
    "some_func"
   ]
  },
  {
   "cell_type": "code",
   "execution_count": 57,
   "id": "e6344be2-ca15-40dd-8ede-459156532754",
   "metadata": {},
   "outputs": [
    {
     "data": {
      "text/plain": [
       "'I am very cool!'"
      ]
     },
     "execution_count": 57,
     "metadata": {},
     "output_type": "execute_result"
    }
   ],
   "source": [
    "some_func()"
   ]
  },
  {
   "cell_type": "code",
   "execution_count": null,
   "id": "67f6e088-e787-41aa-860b-39e66611aaac",
   "metadata": {},
   "outputs": [],
   "source": []
  },
  {
   "cell_type": "code",
   "execution_count": null,
   "id": "9405c296-6e46-4d74-8357-1503f3703eef",
   "metadata": {},
   "outputs": [],
   "source": []
  },
  {
   "cell_type": "code",
   "execution_count": null,
   "id": "c6c33fb2-5a87-4879-bf1b-c78e998cc5ef",
   "metadata": {},
   "outputs": [],
   "source": []
  },
  {
   "cell_type": "code",
   "execution_count": null,
   "id": "6971df71-f25b-4d24-9183-b8ffafc7c1b5",
   "metadata": {},
   "outputs": [],
   "source": []
  },
  {
   "cell_type": "code",
   "execution_count": 63,
   "id": "652dc9ab-4489-4900-b2ef-84faf4aa47df",
   "metadata": {},
   "outputs": [],
   "source": [
    "def hello():\n",
    "    return 'Hi Jose!'"
   ]
  },
  {
   "cell_type": "code",
   "execution_count": 65,
   "id": "0db5ad2b-08c8-4f50-91ce-cb7d6db4b442",
   "metadata": {},
   "outputs": [],
   "source": [
    "def other(some_def_func):\n",
    "    print('Other code runs here!')\n",
    "    print(some_def_func())"
   ]
  },
  {
   "cell_type": "code",
   "execution_count": 67,
   "id": "9bc1f0d7-d158-4c32-bc0c-cc979d58a871",
   "metadata": {},
   "outputs": [
    {
     "data": {
      "text/plain": [
       "<function __main__.hello()>"
      ]
     },
     "execution_count": 67,
     "metadata": {},
     "output_type": "execute_result"
    }
   ],
   "source": [
    "hello"
   ]
  },
  {
   "cell_type": "code",
   "execution_count": 69,
   "id": "072c8de5-df80-44db-9e34-5ba3a187497a",
   "metadata": {},
   "outputs": [
    {
     "data": {
      "text/plain": [
       "'Hi Jose!'"
      ]
     },
     "execution_count": 69,
     "metadata": {},
     "output_type": "execute_result"
    }
   ],
   "source": [
    "hello()"
   ]
  },
  {
   "cell_type": "code",
   "execution_count": 71,
   "id": "6a5db9e4-b64b-4dbf-93f2-82cfcbd09f53",
   "metadata": {},
   "outputs": [
    {
     "name": "stdout",
     "output_type": "stream",
     "text": [
      "Other code runs here!\n",
      "Hi Jose!\n"
     ]
    }
   ],
   "source": [
    "other(hello)"
   ]
  },
  {
   "cell_type": "code",
   "execution_count": 73,
   "id": "d7490bc9-a159-4b16-8c96-99dd4003931e",
   "metadata": {},
   "outputs": [],
   "source": [
    "# Note that we can pass functions as arguments and objects"
   ]
  },
  {
   "cell_type": "code",
   "execution_count": 75,
   "id": "93a8b3d7-cb03-452b-964e-cacdd2c721ff",
   "metadata": {},
   "outputs": [],
   "source": [
    "def new_decorator(original_func):\n",
    "    def wrap_func():\n",
    "        print('Some extra code, before the original function')\n",
    "\n",
    "        original_func()\n",
    "\n",
    "        print('Some extra code, after the original function!')\n",
    "        \n",
    "    return wrap_func"
   ]
  },
  {
   "cell_type": "code",
   "execution_count": 79,
   "id": "1373b345-0681-4877-8752-554f1866f310",
   "metadata": {},
   "outputs": [],
   "source": [
    "def func_needs_decorator():\n",
    "    print(\"I want to be decorated!!\")"
   ]
  },
  {
   "cell_type": "code",
   "execution_count": 81,
   "id": "11036cb2-11b3-48f1-92bd-1ee5b677b8eb",
   "metadata": {},
   "outputs": [
    {
     "name": "stdout",
     "output_type": "stream",
     "text": [
      "I want to be decorated!!\n"
     ]
    }
   ],
   "source": [
    "func_needs_decorator()"
   ]
  },
  {
   "cell_type": "code",
   "execution_count": 83,
   "id": "949947f3-9839-4552-b605-2e54208b2d46",
   "metadata": {},
   "outputs": [],
   "source": [
    "# Here we can return a function and call another at the same time\n",
    "decorated_func = new_decorator(func_needs_decorator)"
   ]
  },
  {
   "cell_type": "code",
   "execution_count": 85,
   "id": "d6118276-6c73-4714-b3ee-df943146e6df",
   "metadata": {},
   "outputs": [
    {
     "name": "stdout",
     "output_type": "stream",
     "text": [
      "Some extra code, before the original function\n",
      "I want to be decorated!!\n",
      "Some extra code, after the original function!\n"
     ]
    }
   ],
   "source": [
    "decorated_func()"
   ]
  },
  {
   "cell_type": "code",
   "execution_count": 89,
   "id": "9a9c5272-2ae3-47e2-8256-1abb81d31cfb",
   "metadata": {},
   "outputs": [],
   "source": [
    "# PROPER SYNTAX FOR THIS"
   ]
  },
  {
   "cell_type": "code",
   "execution_count": 95,
   "id": "5f783ac7-96df-4ea1-a935-1a5d2da98da8",
   "metadata": {},
   "outputs": [],
   "source": [
    "# This is to automatically wrap a required function into another\n",
    "# If we do not add the @\".....\" line, it simply just runs the function code only\n",
    "# Decorators are just to pad our functions\n",
    "@new_decorator\n",
    "def func_needs_decorator():\n",
    "    print(\"I want to be decorated!!\")"
   ]
  },
  {
   "cell_type": "code",
   "execution_count": 97,
   "id": "c3fbc2cf-5473-4030-8e19-2dab54b97686",
   "metadata": {},
   "outputs": [
    {
     "name": "stdout",
     "output_type": "stream",
     "text": [
      "Some extra code, before the original function\n",
      "I want to be decorated!!\n",
      "Some extra code, after the original function!\n"
     ]
    }
   ],
   "source": [
    "func_needs_decorator()"
   ]
  },
  {
   "cell_type": "code",
   "execution_count": null,
   "id": "859bf50b-30e0-4f82-aa2e-e8ad1073803c",
   "metadata": {},
   "outputs": [],
   "source": []
  },
  {
   "cell_type": "code",
   "execution_count": null,
   "id": "220c5b6b-f27c-494f-99ab-e95a6f67750a",
   "metadata": {},
   "outputs": [],
   "source": []
  }
 ],
 "metadata": {
  "kernelspec": {
   "display_name": "Python [conda env:base] *",
   "language": "python",
   "name": "conda-base-py"
  },
  "language_info": {
   "codemirror_mode": {
    "name": "ipython",
    "version": 3
   },
   "file_extension": ".py",
   "mimetype": "text/x-python",
   "name": "python",
   "nbconvert_exporter": "python",
   "pygments_lexer": "ipython3",
   "version": "3.12.7"
  }
 },
 "nbformat": 4,
 "nbformat_minor": 5
}
