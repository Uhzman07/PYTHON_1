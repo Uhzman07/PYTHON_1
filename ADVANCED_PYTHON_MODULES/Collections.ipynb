{
 "cells": [
  {
   "cell_type": "code",
   "execution_count": 1,
   "id": "81f0746d-5bd6-42a9-8c3b-6945f5a0156e",
   "metadata": {},
   "outputs": [],
   "source": [
    "# Collections module"
   ]
  },
  {
   "cell_type": "code",
   "execution_count": 3,
   "id": "39a747f4-56d6-4971-9fda-c7bfd57875bb",
   "metadata": {},
   "outputs": [],
   "source": [
    "from collections import Counter"
   ]
  },
  {
   "cell_type": "code",
   "execution_count": 5,
   "id": "a73a9a26-4928-4599-9f8f-cb42025e2b84",
   "metadata": {},
   "outputs": [],
   "source": [
    "mylist = [1,1,1,1,1,1,2,2,2,2,2,3,3,3,3,3]"
   ]
  },
  {
   "cell_type": "code",
   "execution_count": 9,
   "id": "37978451-e121-4d85-a810-3e3f0b752d17",
   "metadata": {},
   "outputs": [
    {
     "data": {
      "text/plain": [
       "Counter({1: 6, 2: 5, 3: 5})"
      ]
     },
     "execution_count": 9,
     "metadata": {},
     "output_type": "execute_result"
    }
   ],
   "source": [
    "Counter(mylist) # This shows a dictionary like count"
   ]
  },
  {
   "cell_type": "code",
   "execution_count": 11,
   "id": "3a861a8c-beec-404c-82b8-20e0684e3ce7",
   "metadata": {},
   "outputs": [],
   "source": [
    "mylist = ['a', 'a', 10, 10, 10]"
   ]
  },
  {
   "cell_type": "code",
   "execution_count": 13,
   "id": "9e5d3e2d-91f6-4a40-9199-e09b277285fb",
   "metadata": {},
   "outputs": [
    {
     "data": {
      "text/plain": [
       "Counter({10: 3, 'a': 2})"
      ]
     },
     "execution_count": 13,
     "metadata": {},
     "output_type": "execute_result"
    }
   ],
   "source": [
    "Counter(mylist)"
   ]
  },
  {
   "cell_type": "code",
   "execution_count": 15,
   "id": "3961b725-babf-4b5d-a08d-a6700ce34bbb",
   "metadata": {},
   "outputs": [],
   "source": [
    "sentence = \"How many times does each word show up in this sentence with a word\""
   ]
  },
  {
   "cell_type": "code",
   "execution_count": 19,
   "id": "bdc0c7a5-3025-4a42-b368-dc80e17049ab",
   "metadata": {},
   "outputs": [
    {
     "data": {
      "text/plain": [
       "Counter({'word': 2,\n",
       "         'how': 1,\n",
       "         'many': 1,\n",
       "         'times': 1,\n",
       "         'does': 1,\n",
       "         'each': 1,\n",
       "         'show': 1,\n",
       "         'up': 1,\n",
       "         'in': 1,\n",
       "         'this': 1,\n",
       "         'sentence': 1,\n",
       "         'with': 1,\n",
       "         'a': 1})"
      ]
     },
     "execution_count": 19,
     "metadata": {},
     "output_type": "execute_result"
    }
   ],
   "source": [
    "Counter(sentence.lower().split()) # This will allow it to split the sentence into a list that can be used"
   ]
  },
  {
   "cell_type": "code",
   "execution_count": 21,
   "id": "3a02e883-a834-4048-9645-2bece252e987",
   "metadata": {},
   "outputs": [],
   "source": [
    "letters = 'aaaabbbbcccccdddddddddfffffffffffff'"
   ]
  },
  {
   "cell_type": "code",
   "execution_count": 23,
   "id": "e6308883-8298-4e94-b899-8730bc81ea48",
   "metadata": {},
   "outputs": [],
   "source": [
    "c = Counter(letters)"
   ]
  },
  {
   "cell_type": "code",
   "execution_count": 25,
   "id": "74dd83c3-93fc-441f-b692-6665f37843c7",
   "metadata": {},
   "outputs": [
    {
     "data": {
      "text/plain": [
       "Counter({'f': 13, 'd': 9, 'c': 5, 'a': 4, 'b': 4})"
      ]
     },
     "execution_count": 25,
     "metadata": {},
     "output_type": "execute_result"
    }
   ],
   "source": [
    "c"
   ]
  },
  {
   "cell_type": "code",
   "execution_count": 29,
   "id": "e18c8746-d22b-4bd8-b21e-18c58ae59754",
   "metadata": {},
   "outputs": [
    {
     "data": {
      "text/plain": [
       "[('f', 13), ('d', 9), ('c', 5)]"
      ]
     },
     "execution_count": 29,
     "metadata": {},
     "output_type": "execute_result"
    }
   ],
   "source": [
    "c.most_common(3) # This is to provide the n most common that we have "
   ]
  },
  {
   "cell_type": "code",
   "execution_count": 31,
   "id": "2470ac27-e100-4bc0-8cd9-e6cad700e126",
   "metadata": {},
   "outputs": [
    {
     "data": {
      "text/plain": [
       "Counter({'f': 13, 'd': 9, 'c': 5, 'a': 4, 'b': 4})"
      ]
     },
     "execution_count": 31,
     "metadata": {},
     "output_type": "execute_result"
    }
   ],
   "source": [
    "c"
   ]
  },
  {
   "cell_type": "code",
   "execution_count": 35,
   "id": "916c16aa-01c8-45c4-8b1e-181fea12d6a0",
   "metadata": {},
   "outputs": [
    {
     "data": {
      "text/plain": [
       "['a', 'b', 'c', 'd', 'f']"
      ]
     },
     "execution_count": 35,
     "metadata": {},
     "output_type": "execute_result"
    }
   ],
   "source": [
    "list(c) # This is to convert it into a list"
   ]
  },
  {
   "cell_type": "code",
   "execution_count": 37,
   "id": "f8a6eb0b-810b-41c0-8917-28ea13445c4c",
   "metadata": {},
   "outputs": [],
   "source": [
    "# DICTIONARY"
   ]
  },
  {
   "cell_type": "code",
   "execution_count": 39,
   "id": "0801ea60-25ae-43d0-bf1e-4c0bb9978080",
   "metadata": {},
   "outputs": [],
   "source": [
    "from collections import defaultdict"
   ]
  },
  {
   "cell_type": "code",
   "execution_count": 41,
   "id": "2d70a29a-bef8-4824-ad63-acdf2400304b",
   "metadata": {},
   "outputs": [],
   "source": [
    "d = {'a':10}"
   ]
  },
  {
   "cell_type": "code",
   "execution_count": 43,
   "id": "4ba77734-c850-411b-a4b9-2b220a71dd0e",
   "metadata": {},
   "outputs": [
    {
     "data": {
      "text/plain": [
       "{'a': 10}"
      ]
     },
     "execution_count": 43,
     "metadata": {},
     "output_type": "execute_result"
    }
   ],
   "source": [
    "d"
   ]
  },
  {
   "cell_type": "code",
   "execution_count": 45,
   "id": "0201e52a-0634-4587-b97f-013c7d85c5dc",
   "metadata": {},
   "outputs": [
    {
     "data": {
      "text/plain": [
       "10"
      ]
     },
     "execution_count": 45,
     "metadata": {},
     "output_type": "execute_result"
    }
   ],
   "source": [
    "d['a']"
   ]
  },
  {
   "cell_type": "code",
   "execution_count": 49,
   "id": "ebe465d5-63be-441c-a1ec-d50d2bc5f405",
   "metadata": {},
   "outputs": [
    {
     "ename": "KeyError",
     "evalue": "220",
     "output_type": "error",
     "traceback": [
      "\u001b[0;31m---------------------------------------------------------------------------\u001b[0m",
      "\u001b[0;31mKeyError\u001b[0m                                  Traceback (most recent call last)",
      "Cell \u001b[0;32mIn[49], line 1\u001b[0m\n\u001b[0;32m----> 1\u001b[0m d[\u001b[38;5;241m220\u001b[39m]\n",
      "\u001b[0;31mKeyError\u001b[0m: 220"
     ]
    }
   ],
   "source": [
    "d[220] # If we run this, we get an error because the normal python dictionary is sensitive"
   ]
  },
  {
   "cell_type": "code",
   "execution_count": 51,
   "id": "11cf1c0f-4b32-4132-b08d-a25bdc6968b6",
   "metadata": {},
   "outputs": [],
   "source": [
    "# Then to make use of the normal dictionary"
   ]
  },
  {
   "cell_type": "code",
   "execution_count": 53,
   "id": "abef6622-3fc6-42b6-834a-ee8f32646f53",
   "metadata": {},
   "outputs": [],
   "source": [
    "from collections import defaultdict"
   ]
  },
  {
   "cell_type": "code",
   "execution_count": 55,
   "id": "03d8b133-5327-4698-93b2-9b306f4c4e06",
   "metadata": {},
   "outputs": [],
   "source": [
    "d = {'a':10}"
   ]
  },
  {
   "cell_type": "code",
   "execution_count": 57,
   "id": "70a9f7ed-af93-49bd-b133-3692b3b8cfc8",
   "metadata": {},
   "outputs": [
    {
     "data": {
      "text/plain": [
       "{'a': 10}"
      ]
     },
     "execution_count": 57,
     "metadata": {},
     "output_type": "execute_result"
    }
   ],
   "source": [
    "d"
   ]
  },
  {
   "cell_type": "code",
   "execution_count": 59,
   "id": "63d2bf7c-ea95-4f7b-8b63-4441217f9e4b",
   "metadata": {},
   "outputs": [
    {
     "data": {
      "text/plain": [
       "10"
      ]
     },
     "execution_count": 59,
     "metadata": {},
     "output_type": "execute_result"
    }
   ],
   "source": [
    "d['a']"
   ]
  },
  {
   "cell_type": "code",
   "execution_count": 61,
   "id": "96474781-52e5-4cb7-a414-4d056aea601d",
   "metadata": {},
   "outputs": [],
   "source": [
    "# To create the default dictionary"
   ]
  },
  {
   "cell_type": "code",
   "execution_count": 63,
   "id": "0ac65943-66be-4b2e-b430-0be340a165a3",
   "metadata": {},
   "outputs": [],
   "source": [
    "d = defaultdict(lambda:0) # This is to set the default to 0"
   ]
  },
  {
   "cell_type": "code",
   "execution_count": 65,
   "id": "bb016b2a-501b-4a69-b3df-445e3851bf90",
   "metadata": {},
   "outputs": [],
   "source": [
    "d['correct'] = 100"
   ]
  },
  {
   "cell_type": "code",
   "execution_count": 67,
   "id": "4dad3b78-9521-4afe-89fb-d0b0669acf76",
   "metadata": {},
   "outputs": [
    {
     "data": {
      "text/plain": [
       "100"
      ]
     },
     "execution_count": 67,
     "metadata": {},
     "output_type": "execute_result"
    }
   ],
   "source": [
    "d['correct']"
   ]
  },
  {
   "cell_type": "code",
   "execution_count": 71,
   "id": "956c437a-65d8-43e5-b54d-99ef88ad5613",
   "metadata": {},
   "outputs": [
    {
     "data": {
      "text/plain": [
       "0"
      ]
     },
     "execution_count": 71,
     "metadata": {},
     "output_type": "execute_result"
    }
   ],
   "source": [
    "d['WRONG'] # This does not result in an error since we are using a default dictionary. What it does it that it returns the default value instead"
   ]
  },
  {
   "cell_type": "code",
   "execution_count": 73,
   "id": "8f9b2434-b8d3-401b-8848-6e43cc9ce025",
   "metadata": {},
   "outputs": [
    {
     "data": {
      "text/plain": [
       "defaultdict(<function __main__.<lambda>()>, {'correct': 100, 'WRONG': 0})"
      ]
     },
     "execution_count": 73,
     "metadata": {},
     "output_type": "execute_result"
    }
   ],
   "source": [
    "d"
   ]
  },
  {
   "cell_type": "code",
   "execution_count": 75,
   "id": "0a5df10e-b102-47cb-8d3e-f067017e86e6",
   "metadata": {},
   "outputs": [],
   "source": [
    "# NAMED TUPLE"
   ]
  },
  {
   "cell_type": "code",
   "execution_count": 77,
   "id": "048414ed-717d-4323-b4e2-56ae8ddd404f",
   "metadata": {},
   "outputs": [],
   "source": [
    "mytuple = (10,20,30)"
   ]
  },
  {
   "cell_type": "code",
   "execution_count": 79,
   "id": "19270677-cf87-4bc0-8370-37faf6e2c438",
   "metadata": {},
   "outputs": [
    {
     "data": {
      "text/plain": [
       "10"
      ]
     },
     "execution_count": 79,
     "metadata": {},
     "output_type": "execute_result"
    }
   ],
   "source": [
    "mytuple[0]"
   ]
  },
  {
   "cell_type": "code",
   "execution_count": 81,
   "id": "d8e7499a-7bfd-4d9b-9dbc-6d01c8cd659c",
   "metadata": {},
   "outputs": [],
   "source": [
    "# IMPORT"
   ]
  },
  {
   "cell_type": "code",
   "execution_count": 85,
   "id": "958fb940-4338-43e9-aa05-8021c053a429",
   "metadata": {},
   "outputs": [],
   "source": [
    "from collections import namedtuple"
   ]
  },
  {
   "cell_type": "code",
   "execution_count": 87,
   "id": "20a81c53-1f0a-45d4-8276-911a02cadaf3",
   "metadata": {},
   "outputs": [],
   "source": [
    "Dog = namedtuple('Dog', ['age', 'breed', 'name'])"
   ]
  },
  {
   "cell_type": "code",
   "execution_count": 89,
   "id": "8cc619e3-0b64-414c-a830-225ab0ff083b",
   "metadata": {},
   "outputs": [],
   "source": [
    "sammy = Dog(age =5, breed = 'Husky', name = 'Sam')"
   ]
  },
  {
   "cell_type": "code",
   "execution_count": 91,
   "id": "d39a62e1-99aa-4fb5-a793-f9a5dfa5142c",
   "metadata": {},
   "outputs": [
    {
     "data": {
      "text/plain": [
       "__main__.Dog"
      ]
     },
     "execution_count": 91,
     "metadata": {},
     "output_type": "execute_result"
    }
   ],
   "source": [
    "type(sammy)"
   ]
  },
  {
   "cell_type": "code",
   "execution_count": 93,
   "id": "0c0e5384-e857-40db-89b8-5d4bcc84d6c5",
   "metadata": {},
   "outputs": [
    {
     "data": {
      "text/plain": [
       "5"
      ]
     },
     "execution_count": 93,
     "metadata": {},
     "output_type": "execute_result"
    }
   ],
   "source": [
    "sammy.age"
   ]
  },
  {
   "cell_type": "code",
   "execution_count": 95,
   "id": "55f2331a-e08a-4f57-8138-a8cbfddee2b2",
   "metadata": {},
   "outputs": [
    {
     "data": {
      "text/plain": [
       "'Husky'"
      ]
     },
     "execution_count": 95,
     "metadata": {},
     "output_type": "execute_result"
    }
   ],
   "source": [
    "sammy.breed"
   ]
  },
  {
   "cell_type": "code",
   "execution_count": 99,
   "id": "40836297-7545-41c9-919d-dc2fe4862964",
   "metadata": {},
   "outputs": [
    {
     "data": {
      "text/plain": [
       "'Sam'"
      ]
     },
     "execution_count": 99,
     "metadata": {},
     "output_type": "execute_result"
    }
   ],
   "source": [
    "sammy.name"
   ]
  },
  {
   "cell_type": "code",
   "execution_count": null,
   "id": "6f148df9-3486-4df1-bfe1-643de93a84cb",
   "metadata": {},
   "outputs": [],
   "source": []
  }
 ],
 "metadata": {
  "kernelspec": {
   "display_name": "Python [conda env:base] *",
   "language": "python",
   "name": "conda-base-py"
  },
  "language_info": {
   "codemirror_mode": {
    "name": "ipython",
    "version": 3
   },
   "file_extension": ".py",
   "mimetype": "text/x-python",
   "name": "python",
   "nbconvert_exporter": "python",
   "pygments_lexer": "ipython3",
   "version": "3.12.7"
  }
 },
 "nbformat": 4,
 "nbformat_minor": 5
}
