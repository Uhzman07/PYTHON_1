{
 "cells": [
  {
   "cell_type": "code",
   "execution_count": 1,
   "id": "5c1754f0-e100-4189-954e-9f9b3a205209",
   "metadata": {},
   "outputs": [],
   "source": [
    "import re"
   ]
  },
  {
   "cell_type": "code",
   "execution_count": 3,
   "id": "fdf6248f-f718-4394-a4ea-0f197ddd8231",
   "metadata": {},
   "outputs": [
    {
     "data": {
      "text/plain": [
       "<re.Match object; span=(4, 7), match='cat'>"
      ]
     },
     "execution_count": 3,
     "metadata": {},
     "output_type": "execute_result"
    }
   ],
   "source": [
    "re.search(r'cat|dog', 'The cat is here')"
   ]
  },
  {
   "cell_type": "code",
   "execution_count": 5,
   "id": "9a1eaac1-70d1-4129-8c87-e27dde4fc9ac",
   "metadata": {},
   "outputs": [
    {
     "data": {
      "text/plain": [
       "['e cat', 'e hat', 'splat']"
      ]
     },
     "execution_count": 5,
     "metadata": {},
     "output_type": "execute_result"
    }
   ],
   "source": [
    "re.findall(r'...at', 'The cat in the hat went splat.')"
   ]
  },
  {
   "cell_type": "code",
   "execution_count": 23,
   "id": "bfc8f47e-e089-414d-8477-b27e5d423a82",
   "metadata": {},
   "outputs": [
    {
     "data": {
      "text/plain": [
       "['2']"
      ]
     },
     "execution_count": 23,
     "metadata": {},
     "output_type": "execute_result"
    }
   ],
   "source": [
    "re.findall(r'^\\d', '2 The number') # This is to check for the one that starts with a letter "
   ]
  },
  {
   "cell_type": "code",
   "execution_count": 31,
   "id": "2e7d1425-62e8-4852-aab4-c6c30fc1d37e",
   "metadata": {},
   "outputs": [],
   "source": [
    "phrase = 'three are 3 numbers 34 inside 5 this sentence'"
   ]
  },
  {
   "cell_type": "code",
   "execution_count": 47,
   "id": "64c5125c-add8-4491-9272-ffef9821e03d",
   "metadata": {},
   "outputs": [],
   "source": [
    "# pattern = r'[^\\D]' # This will exclude the the normal characters\n",
    "pattern = r'[^\\d]'  # This will exclude digits"
   ]
  },
  {
   "cell_type": "code",
   "execution_count": 49,
   "id": "55318ccc-bb95-47a9-9d5b-429c5b0a13f3",
   "metadata": {},
   "outputs": [
    {
     "data": {
      "text/plain": [
       "['t',\n",
       " 'h',\n",
       " 'r',\n",
       " 'e',\n",
       " 'e',\n",
       " ' ',\n",
       " 'a',\n",
       " 'r',\n",
       " 'e',\n",
       " ' ',\n",
       " ' ',\n",
       " 'n',\n",
       " 'u',\n",
       " 'm',\n",
       " 'b',\n",
       " 'e',\n",
       " 'r',\n",
       " 's',\n",
       " ' ',\n",
       " ' ',\n",
       " 'i',\n",
       " 'n',\n",
       " 's',\n",
       " 'i',\n",
       " 'd',\n",
       " 'e',\n",
       " ' ',\n",
       " ' ',\n",
       " 't',\n",
       " 'h',\n",
       " 'i',\n",
       " 's',\n",
       " ' ',\n",
       " 's',\n",
       " 'e',\n",
       " 'n',\n",
       " 't',\n",
       " 'e',\n",
       " 'n',\n",
       " 'c',\n",
       " 'e']"
      ]
     },
     "execution_count": 49,
     "metadata": {},
     "output_type": "execute_result"
    }
   ],
   "source": [
    "re.findall(pattern,phrase)"
   ]
  },
  {
   "cell_type": "code",
   "execution_count": 51,
   "id": "6057e557-d5b2-4e0a-bc52-8396d54090de",
   "metadata": {},
   "outputs": [],
   "source": [
    "pattern = r'[^\\d]+' # This packs them as words with digits in between"
   ]
  },
  {
   "cell_type": "code",
   "execution_count": 53,
   "id": "5601a99b-9378-4bb5-b007-621320c44a32",
   "metadata": {},
   "outputs": [
    {
     "data": {
      "text/plain": [
       "['three are ', ' numbers ', ' inside ', ' this sentence']"
      ]
     },
     "execution_count": 53,
     "metadata": {},
     "output_type": "execute_result"
    }
   ],
   "source": [
    "re.findall(pattern,phrase)"
   ]
  },
  {
   "cell_type": "code",
   "execution_count": 55,
   "id": "45a2f1fd-e50b-483e-8b08-cd814bab7fc8",
   "metadata": {},
   "outputs": [],
   "source": [
    "test_phrase = 'This is a string! But it has punctuation. How can we remove it?'"
   ]
  },
  {
   "cell_type": "code",
   "execution_count": 69,
   "id": "49a1ed28-a28f-491f-ae60-48947ef2fe7b",
   "metadata": {},
   "outputs": [],
   "source": [
    "clean = re.findall(r'[^!.? ]+', test_phrase)"
   ]
  },
  {
   "cell_type": "code",
   "execution_count": 71,
   "id": "bcb83f79-9ce5-42c5-8a55-73c38a4135f3",
   "metadata": {},
   "outputs": [
    {
     "data": {
      "text/plain": [
       "'This is a string But it has punctuation How can we remove it'"
      ]
     },
     "execution_count": 71,
     "metadata": {},
     "output_type": "execute_result"
    }
   ],
   "source": [
    "' '.join(clean)"
   ]
  },
  {
   "cell_type": "code",
   "execution_count": null,
   "id": "3d2f838a-d54b-4254-b48a-79748fa0b78b",
   "metadata": {},
   "outputs": [],
   "source": []
  },
  {
   "cell_type": "code",
   "execution_count": 74,
   "id": "7265e891-23ce-4c36-b8cc-8f4db170ef42",
   "metadata": {},
   "outputs": [],
   "source": [
    "text = 'Only find the hypen-words in this sentence. But you do not know long-ish they are'"
   ]
  },
  {
   "cell_type": "code",
   "execution_count": 99,
   "id": "62d128b0-f9b1-48bd-b898-085bca7bc4ed",
   "metadata": {},
   "outputs": [],
   "source": [
    "pattern = r'[\\w]+' # This is to find words "
   ]
  },
  {
   "cell_type": "code",
   "execution_count": 101,
   "id": "3f2fec41-01e5-447d-ac37-4044857a5053",
   "metadata": {},
   "outputs": [
    {
     "data": {
      "text/plain": [
       "['Only',\n",
       " 'find',\n",
       " 'the',\n",
       " 'hypen',\n",
       " 'words',\n",
       " 'in',\n",
       " 'this',\n",
       " 'sentence',\n",
       " 'But',\n",
       " 'you',\n",
       " 'do',\n",
       " 'not',\n",
       " 'know',\n",
       " 'long',\n",
       " 'ish',\n",
       " 'they',\n",
       " 'are']"
      ]
     },
     "execution_count": 101,
     "metadata": {},
     "output_type": "execute_result"
    }
   ],
   "source": [
    "re.findall(pattern,text)"
   ]
  },
  {
   "cell_type": "code",
   "execution_count": 115,
   "id": "212fc4d6-3761-4656-8a93-0e6914ddcfaa",
   "metadata": {},
   "outputs": [],
   "source": [
    "pattern = r'[\\w]+-[\\w]+' # This regular expression is meant to match strings that contain a word-like pattern on both sides of a hyphen."
   ]
  },
  {
   "cell_type": "code",
   "execution_count": 117,
   "id": "582f11d3-724b-4e8e-99a3-97f1539d3048",
   "metadata": {},
   "outputs": [
    {
     "data": {
      "text/plain": [
       "['hypen-words', 'long-ish']"
      ]
     },
     "execution_count": 117,
     "metadata": {},
     "output_type": "execute_result"
    }
   ],
   "source": [
    "re.findall(pattern, text)"
   ]
  },
  {
   "cell_type": "code",
   "execution_count": 125,
   "id": "abe197a9-517a-4490-82e3-71a8ef2f635b",
   "metadata": {},
   "outputs": [],
   "source": [
    "text = 'Hello, would you like some catfish?'\n",
    "texttwo = 'Hello, would you like to take a cat nap?'\n",
    "textthree = 'Hello, have you seen this caterpillar?'"
   ]
  },
  {
   "cell_type": "code",
   "execution_count": 129,
   "id": "36acc152-7861-4ae9-b741-734d59a569af",
   "metadata": {},
   "outputs": [
    {
     "data": {
      "text/plain": [
       "<re.Match object; span=(26, 37), match='caterpillar'>"
      ]
     },
     "execution_count": 129,
     "metadata": {},
     "output_type": "execute_result"
    }
   ],
   "source": [
    "re.search(r'cat(fish|nap|erpillar)', textthree)\n"
   ]
  },
  {
   "cell_type": "code",
   "execution_count": null,
   "id": "4e0e2c41-512c-4c59-a178-6a2865b3709c",
   "metadata": {},
   "outputs": [],
   "source": []
  }
 ],
 "metadata": {
  "kernelspec": {
   "display_name": "Python [conda env:base] *",
   "language": "python",
   "name": "conda-base-py"
  },
  "language_info": {
   "codemirror_mode": {
    "name": "ipython",
    "version": 3
   },
   "file_extension": ".py",
   "mimetype": "text/x-python",
   "name": "python",
   "nbconvert_exporter": "python",
   "pygments_lexer": "ipython3",
   "version": "3.12.7"
  }
 },
 "nbformat": 4,
 "nbformat_minor": 5
}
