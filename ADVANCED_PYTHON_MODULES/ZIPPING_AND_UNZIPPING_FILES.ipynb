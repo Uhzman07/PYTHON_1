{
 "cells": [
  {
   "cell_type": "code",
   "execution_count": 1,
   "id": "f7060277-b274-4b7d-8258-c4465e2f1185",
   "metadata": {},
   "outputs": [],
   "source": [
    "f = open('fileone.txt', 'w+')\n",
    "f.write('ONE FILE')\n",
    "f.close()"
   ]
  },
  {
   "cell_type": "code",
   "execution_count": 3,
   "id": "bb933ef3-0c36-4fcb-8153-23f897bc928e",
   "metadata": {},
   "outputs": [],
   "source": [
    "f = open('filetwo.txt', 'w+')\n",
    "f.write('TWO FILE')\n",
    "f.close()"
   ]
  },
  {
   "cell_type": "code",
   "execution_count": 5,
   "id": "a9effa4e-b18a-4c44-851e-2f98aac358bf",
   "metadata": {},
   "outputs": [],
   "source": [
    "import zipfile # This is used to compress large files to a smaller one"
   ]
  },
  {
   "cell_type": "code",
   "execution_count": 7,
   "id": "476183b0-0fc7-4ecc-9e7a-8c94d04df4b1",
   "metadata": {},
   "outputs": [],
   "source": [
    "# To create the ZIP file\n",
    "# Note that this zip file can contain multiple files\n",
    "comp_file = zipfile.ZipFile('comp_file.zip', 'w')"
   ]
  },
  {
   "cell_type": "code",
   "execution_count": 17,
   "id": "5c121650-942a-4bf9-8fc0-a916660a9a05",
   "metadata": {},
   "outputs": [
    {
     "name": "stderr",
     "output_type": "stream",
     "text": [
      "/opt/anaconda3/lib/python3.12/zipfile/__init__.py:1607: UserWarning: Duplicate name: 'fileone.txt'\n",
      "  return self._open_to_write(zinfo, force_zip64=force_zip64)\n"
     ]
    }
   ],
   "source": [
    "comp_file.write('fileone.txt', compress_type = zipfile.ZIP_DEFLATED) # This is to put the file to the compressed one "
   ]
  },
  {
   "cell_type": "code",
   "execution_count": 19,
   "id": "1fd25ea2-dcb0-4ef3-9332-ded3a5dc9d7c",
   "metadata": {},
   "outputs": [],
   "source": [
    "comp_file.write('filetwo.txt', compress_type = zipfile.ZIP_DEFLATED)"
   ]
  },
  {
   "cell_type": "code",
   "execution_count": 23,
   "id": "35158c40-acc6-4542-a7b2-d4a683d2b32f",
   "metadata": {},
   "outputs": [],
   "source": [
    "comp_file.close()"
   ]
  },
  {
   "cell_type": "code",
   "execution_count": 27,
   "id": "b85f7e8f-c210-4121-ac8a-d87c677dee30",
   "metadata": {},
   "outputs": [],
   "source": [
    "zip_obj = zipfile.ZipFile('comp_file.zip', 'r') # This is to read all from the ZIPPED file "
   ]
  },
  {
   "cell_type": "code",
   "execution_count": 31,
   "id": "57e81e04-aa09-4e55-82a0-3137f56e92eb",
   "metadata": {},
   "outputs": [],
   "source": [
    "zip_obj.extractall('extracted_content') # This then creates a folder where we can find all out extracted files"
   ]
  },
  {
   "cell_type": "code",
   "execution_count": 33,
   "id": "350e4e28-ef39-4503-8635-03a3d3b558b0",
   "metadata": {},
   "outputs": [
    {
     "data": {
      "text/plain": [
       "'/Users/abosede/PROJECTS/DATA SCIENCE/PYTHON_1/PYTHON_1/ADVANCED_PYTHON_MODULES'"
      ]
     },
     "execution_count": 33,
     "metadata": {},
     "output_type": "execute_result"
    }
   ],
   "source": [
    "pwd"
   ]
  },
  {
   "cell_type": "code",
   "execution_count": 35,
   "id": "827e3579-88c1-41cf-b5d4-bfbc3b2f3e4d",
   "metadata": {},
   "outputs": [],
   "source": [
    "import shutil"
   ]
  },
  {
   "cell_type": "code",
   "execution_count": 50,
   "id": "d384a8d1-ee92-4918-b99b-d2bab64f77e8",
   "metadata": {},
   "outputs": [],
   "source": [
    "dir_to_zip = '/Users/abosede/PROJECTS/DATA SCIENCE/PYTHON_1/PYTHON_1/ADVANCED_PYTHON_MODULES/extracted_content'"
   ]
  },
  {
   "cell_type": "code",
   "execution_count": 52,
   "id": "da08c2dc-9208-4649-86c0-c43ec3e708a4",
   "metadata": {},
   "outputs": [],
   "source": [
    "output_filename = 'example'"
   ]
  },
  {
   "cell_type": "code",
   "execution_count": null,
   "id": "4f7cba6e-db93-4119-b53f-2ed0d43a675e",
   "metadata": {},
   "outputs": [],
   "source": [
    "# Then, to zip an entire folder"
   ]
  },
  {
   "cell_type": "code",
   "execution_count": 58,
   "id": "3c1c8eb4-f07c-48b7-acf3-027a95cfd71e",
   "metadata": {},
   "outputs": [
    {
     "data": {
      "text/plain": [
       "'/Users/abosede/PROJECTS/DATA SCIENCE/PYTHON_1/PYTHON_1/ADVANCED_PYTHON_MODULES/example.zip'"
      ]
     },
     "execution_count": 58,
     "metadata": {},
     "output_type": "execute_result"
    }
   ],
   "source": [
    "shutil.make_archive(output_filename, 'zip', dir_to_zip) # name of the zipped folder, type of folder to create (ZIP), the folder we are referring to"
   ]
  },
  {
   "cell_type": "code",
   "execution_count": 56,
   "id": "5979f5e4-3556-4593-915d-eaa9f6553d36",
   "metadata": {},
   "outputs": [],
   "source": [
    "# Then to extract a folder from the zipped folder"
   ]
  },
  {
   "cell_type": "code",
   "execution_count": 60,
   "id": "f5040c23-ad16-4116-b975-8da86d5f8239",
   "metadata": {},
   "outputs": [],
   "source": [
    "shutil.unpack_archive('example.zip', 'final_unzip', 'zip') # Zipped folder to unzip; folder to store extracted folder, type of folder"
   ]
  },
  {
   "cell_type": "code",
   "execution_count": null,
   "id": "bbd1120e-431c-45d1-8020-42d6f4c9cc67",
   "metadata": {},
   "outputs": [],
   "source": []
  }
 ],
 "metadata": {
  "kernelspec": {
   "display_name": "Python [conda env:base] *",
   "language": "python",
   "name": "conda-base-py"
  },
  "language_info": {
   "codemirror_mode": {
    "name": "ipython",
    "version": 3
   },
   "file_extension": ".py",
   "mimetype": "text/x-python",
   "name": "python",
   "nbconvert_exporter": "python",
   "pygments_lexer": "ipython3",
   "version": "3.12.7"
  }
 },
 "nbformat": 4,
 "nbformat_minor": 5
}
