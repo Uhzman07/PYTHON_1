{
 "cells": [
  {
   "cell_type": "code",
   "execution_count": 3,
   "id": "ebbb658d-7516-47e3-adc0-76e6a0ce6e87",
   "metadata": {},
   "outputs": [],
   "source": [
    "import re"
   ]
  },
  {
   "cell_type": "code",
   "execution_count": 5,
   "id": "1f21116f-6ce0-4c6d-9792-89f3bad90aca",
   "metadata": {},
   "outputs": [],
   "source": [
    "text = 'My phone number is 408-555-1234'"
   ]
  },
  {
   "cell_type": "code",
   "execution_count": 7,
   "id": "4af3d792-ba03-491e-86b5-25ad76b53a67",
   "metadata": {},
   "outputs": [],
   "source": [
    "phone = re.search('408-555-1234', text)"
   ]
  },
  {
   "cell_type": "code",
   "execution_count": 9,
   "id": "24376362-2514-4490-8198-1793ee182d81",
   "metadata": {},
   "outputs": [
    {
     "data": {
      "text/plain": [
       "<re.Match object; span=(19, 31), match='408-555-1234'>"
      ]
     },
     "execution_count": 9,
     "metadata": {},
     "output_type": "execute_result"
    }
   ],
   "source": [
    "phone"
   ]
  },
  {
   "cell_type": "code",
   "execution_count": 11,
   "id": "7b2aa70c-09ec-4d9a-bc7d-248a57340833",
   "metadata": {},
   "outputs": [],
   "source": [
    "phone = re.search(r'\\d\\d\\d-\\d\\d\\d-\\d\\d\\d\\d',text)"
   ]
  },
  {
   "cell_type": "code",
   "execution_count": 13,
   "id": "8c255055-53d2-474c-a966-f42525392052",
   "metadata": {},
   "outputs": [
    {
     "data": {
      "text/plain": [
       "<re.Match object; span=(19, 31), match='408-555-1234'>"
      ]
     },
     "execution_count": 13,
     "metadata": {},
     "output_type": "execute_result"
    }
   ],
   "source": [
    "phone"
   ]
  },
  {
   "cell_type": "code",
   "execution_count": 15,
   "id": "82dd648a-bdbb-417f-8e1d-9dde345fa280",
   "metadata": {},
   "outputs": [
    {
     "data": {
      "text/plain": [
       "'408-555-1234'"
      ]
     },
     "execution_count": 15,
     "metadata": {},
     "output_type": "execute_result"
    }
   ],
   "source": [
    "phone.group()"
   ]
  },
  {
   "cell_type": "code",
   "execution_count": 17,
   "id": "7c34db9a-1df6-4dfa-a8f4-321d523d1ef3",
   "metadata": {},
   "outputs": [
    {
     "data": {
      "text/plain": [
       "(19, 31)"
      ]
     },
     "execution_count": 17,
     "metadata": {},
     "output_type": "execute_result"
    }
   ],
   "source": [
    "phone.span()"
   ]
  },
  {
   "cell_type": "code",
   "execution_count": 19,
   "id": "5bdbf879-76d2-4378-8137-3666fa00bc98",
   "metadata": {},
   "outputs": [
    {
     "name": "stderr",
     "output_type": "stream",
     "text": [
      "<>:1: SyntaxWarning: invalid escape sequence '\\w'\n",
      "<>:1: SyntaxWarning: invalid escape sequence '\\w'\n",
      "/var/folders/x0/g5d5m7fs7616s3x9yqm5r09m0000gn/T/ipykernel_12756/3936662263.py:1: SyntaxWarning: invalid escape sequence '\\w'\n",
      "  '''\n"
     ]
    },
    {
     "data": {
      "text/plain": [
       "'\\n+ Occurs one or more times \\\\w-\\\\w+ A-b1_1\\n{3} Occurs exactly 3 times \\\\D{3} abc\\n{2,4} Occurs 2 to 4 times \\\\d{2,4} 123\\n{3,} Occurs 3 or more \\\\w{3,} anycharacters\\n* Occurs zero or more times A*B*C* AAACC\\n? Once or none plurals? plural\\n'"
      ]
     },
     "execution_count": 19,
     "metadata": {},
     "output_type": "execute_result"
    }
   ],
   "source": [
    "'''\n",
    "+ Occurs one or more times \\w-\\w+ A-b1_1\n",
    "{3} Occurs exactly 3 times \\D{3} abc\n",
    "{2,4} Occurs 2 to 4 times \\d{2,4} 123\n",
    "{3,} Occurs 3 or more \\w{3,} anycharacters\n",
    "* Occurs zero or more times A*B*C* AAACC\n",
    "? Once or none ->  plurals? plural\n",
    "'''"
   ]
  },
  {
   "cell_type": "code",
   "execution_count": 21,
   "id": "1e80a9e9-3ce2-475c-8431-79da1deb4fcf",
   "metadata": {},
   "outputs": [],
   "source": [
    "phone = re.search(r'\\d{3}-\\d{3}-\\d{4}', text)"
   ]
  },
  {
   "cell_type": "code",
   "execution_count": 23,
   "id": "fc77ce45-5088-42a5-8f21-2ba060eb95f0",
   "metadata": {},
   "outputs": [
    {
     "data": {
      "text/plain": [
       "<re.Match object; span=(19, 31), match='408-555-1234'>"
      ]
     },
     "execution_count": 23,
     "metadata": {},
     "output_type": "execute_result"
    }
   ],
   "source": [
    "phone"
   ]
  },
  {
   "cell_type": "code",
   "execution_count": 25,
   "id": "ea71df1f-24b4-4dff-9e37-e501ec8340f0",
   "metadata": {},
   "outputs": [],
   "source": [
    "phone_pattern = re.compile(r'(\\d{3})-(\\d{3})-(\\d{4})')"
   ]
  },
  {
   "cell_type": "code",
   "execution_count": 27,
   "id": "4b75dba4-0a29-4d7e-a702-42cdda91414c",
   "metadata": {},
   "outputs": [],
   "source": [
    "results = re.search(phone_pattern, text)"
   ]
  },
  {
   "cell_type": "code",
   "execution_count": 29,
   "id": "407e9267-d10f-4365-97e8-049f9f6d1208",
   "metadata": {},
   "outputs": [
    {
     "data": {
      "text/plain": [
       "'408-555-1234'"
      ]
     },
     "execution_count": 29,
     "metadata": {},
     "output_type": "execute_result"
    }
   ],
   "source": [
    "results.group()"
   ]
  },
  {
   "cell_type": "code",
   "execution_count": 31,
   "id": "921aa6d8-445b-4563-9290-a66f6e9aa614",
   "metadata": {},
   "outputs": [
    {
     "data": {
      "text/plain": [
       "'408'"
      ]
     },
     "execution_count": 31,
     "metadata": {},
     "output_type": "execute_result"
    }
   ],
   "source": [
    "results.group(1)"
   ]
  },
  {
   "cell_type": "code",
   "execution_count": 33,
   "id": "6e6de00a-2f9b-45c7-898b-16cd2420442f",
   "metadata": {},
   "outputs": [
    {
     "data": {
      "text/plain": [
       "'555'"
      ]
     },
     "execution_count": 33,
     "metadata": {},
     "output_type": "execute_result"
    }
   ],
   "source": [
    "results.group(2)"
   ]
  },
  {
   "cell_type": "code",
   "execution_count": 39,
   "id": "fa52f043-7008-4296-96cd-252dd3e19f96",
   "metadata": {},
   "outputs": [
    {
     "data": {
      "text/plain": [
       "'1234'"
      ]
     },
     "execution_count": 39,
     "metadata": {},
     "output_type": "execute_result"
    }
   ],
   "source": [
    "results.group(3)"
   ]
  },
  {
   "cell_type": "code",
   "execution_count": null,
   "id": "5edfb846-c5e2-4c80-aa72-cbe70f780532",
   "metadata": {},
   "outputs": [],
   "source": []
  }
 ],
 "metadata": {
  "kernelspec": {
   "display_name": "Python [conda env:base] *",
   "language": "python",
   "name": "conda-base-py"
  },
  "language_info": {
   "codemirror_mode": {
    "name": "ipython",
    "version": 3
   },
   "file_extension": ".py",
   "mimetype": "text/x-python",
   "name": "python",
   "nbconvert_exporter": "python",
   "pygments_lexer": "ipython3",
   "version": "3.12.7"
  }
 },
 "nbformat": 4,
 "nbformat_minor": 5
}
