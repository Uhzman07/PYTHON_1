{
 "cells": [
  {
   "cell_type": "code",
   "execution_count": 1,
   "id": "ec5873ec-9976-418b-93e9-05cafbd76f21",
   "metadata": {},
   "outputs": [],
   "source": [
    "import math"
   ]
  },
  {
   "cell_type": "code",
   "execution_count": 3,
   "id": "b9de814b-e90b-404d-bc2d-36fb5c60547e",
   "metadata": {},
   "outputs": [],
   "source": [
    "value = 4.35"
   ]
  },
  {
   "cell_type": "code",
   "execution_count": 5,
   "id": "0c8943a9-174f-41b6-a3a0-c0c7b1f14465",
   "metadata": {},
   "outputs": [
    {
     "data": {
      "text/plain": [
       "4"
      ]
     },
     "execution_count": 5,
     "metadata": {},
     "output_type": "execute_result"
    }
   ],
   "source": [
    "math.floor(value)"
   ]
  },
  {
   "cell_type": "code",
   "execution_count": 7,
   "id": "74b434d1-7b14-4c14-984b-f04004595bf6",
   "metadata": {},
   "outputs": [
    {
     "data": {
      "text/plain": [
       "5"
      ]
     },
     "execution_count": 7,
     "metadata": {},
     "output_type": "execute_result"
    }
   ],
   "source": [
    "math.ceil(value)"
   ]
  },
  {
   "cell_type": "code",
   "execution_count": 9,
   "id": "9ba8be12-6eb1-4f13-a27c-230394c812b2",
   "metadata": {},
   "outputs": [
    {
     "data": {
      "text/plain": [
       "4"
      ]
     },
     "execution_count": 9,
     "metadata": {},
     "output_type": "execute_result"
    }
   ],
   "source": [
    "round(4.35)"
   ]
  },
  {
   "cell_type": "code",
   "execution_count": 11,
   "id": "adfd5f26-45b6-40b9-861f-48b25eb9f189",
   "metadata": {},
   "outputs": [
    {
     "data": {
      "text/plain": [
       "3.141592653589793"
      ]
     },
     "execution_count": 11,
     "metadata": {},
     "output_type": "execute_result"
    }
   ],
   "source": [
    "math.pi"
   ]
  },
  {
   "cell_type": "code",
   "execution_count": 13,
   "id": "932422eb-2f03-47c8-bde6-b14ec42e0f11",
   "metadata": {},
   "outputs": [
    {
     "data": {
      "text/plain": [
       "2.718281828459045"
      ]
     },
     "execution_count": 13,
     "metadata": {},
     "output_type": "execute_result"
    }
   ],
   "source": [
    "math.e"
   ]
  },
  {
   "cell_type": "code",
   "execution_count": 15,
   "id": "774c3cfd-c8b5-4190-9b90-113a9c382fa6",
   "metadata": {},
   "outputs": [
    {
     "data": {
      "text/plain": [
       "3.141592653589793"
      ]
     },
     "execution_count": 15,
     "metadata": {},
     "output_type": "execute_result"
    }
   ],
   "source": [
    "math.pi"
   ]
  },
  {
   "cell_type": "code",
   "execution_count": 17,
   "id": "bd91a8a3-ee08-4dbd-a920-cfb4e9e0632a",
   "metadata": {},
   "outputs": [
    {
     "data": {
      "text/plain": [
       "1.0"
      ]
     },
     "execution_count": 17,
     "metadata": {},
     "output_type": "execute_result"
    }
   ],
   "source": [
    "math.log(math.e)"
   ]
  },
  {
   "cell_type": "code",
   "execution_count": 19,
   "id": "5762126c-db6b-4895-bffb-6869aa726feb",
   "metadata": {},
   "outputs": [
    {
     "data": {
      "text/plain": [
       "2.0"
      ]
     },
     "execution_count": 19,
     "metadata": {},
     "output_type": "execute_result"
    }
   ],
   "source": [
    "math.log(100,10)"
   ]
  },
  {
   "cell_type": "code",
   "execution_count": 21,
   "id": "1df72ed2-4bb0-4d39-9462-83197b4bf0f9",
   "metadata": {},
   "outputs": [
    {
     "data": {
      "text/plain": [
       "100"
      ]
     },
     "execution_count": 21,
     "metadata": {},
     "output_type": "execute_result"
    }
   ],
   "source": [
    "10**2"
   ]
  },
  {
   "cell_type": "code",
   "execution_count": 23,
   "id": "404b1a25-2d66-4e9b-8f0b-77accfe81d62",
   "metadata": {},
   "outputs": [
    {
     "data": {
      "text/plain": [
       "-0.5440211108893698"
      ]
     },
     "execution_count": 23,
     "metadata": {},
     "output_type": "execute_result"
    }
   ],
   "source": [
    "math.sin(10)"
   ]
  },
  {
   "cell_type": "code",
   "execution_count": 27,
   "id": "5e66c780-81cd-403f-a7ff-d5364c5d3a87",
   "metadata": {},
   "outputs": [
    {
     "data": {
      "text/plain": [
       "179.9087476710785"
      ]
     },
     "execution_count": 27,
     "metadata": {},
     "output_type": "execute_result"
    }
   ],
   "source": [
    "math.degrees(3.14)"
   ]
  },
  {
   "cell_type": "code",
   "execution_count": 29,
   "id": "e9614917-c6e6-462a-96dc-36065b9d5542",
   "metadata": {},
   "outputs": [
    {
     "data": {
      "text/plain": [
       "3.141592653589793"
      ]
     },
     "execution_count": 29,
     "metadata": {},
     "output_type": "execute_result"
    }
   ],
   "source": [
    "math.radians(180)"
   ]
  },
  {
   "cell_type": "code",
   "execution_count": 31,
   "id": "00765858-b79a-4ed0-80b1-fcdadf0ff44f",
   "metadata": {},
   "outputs": [],
   "source": [
    "import random"
   ]
  },
  {
   "cell_type": "code",
   "execution_count": 33,
   "id": "2e6d6086-0657-47b3-bf98-7db0540eee07",
   "metadata": {},
   "outputs": [
    {
     "data": {
      "text/plain": [
       "36"
      ]
     },
     "execution_count": 33,
     "metadata": {},
     "output_type": "execute_result"
    }
   ],
   "source": [
    "random.randint(0,100)"
   ]
  },
  {
   "cell_type": "code",
   "execution_count": 39,
   "id": "6a48477f-5145-4f5b-af63-3d66f017c449",
   "metadata": {},
   "outputs": [
    {
     "data": {
      "text/plain": [
       "74"
      ]
     },
     "execution_count": 39,
     "metadata": {},
     "output_type": "execute_result"
    }
   ],
   "source": [
    "random.seed(101) # This will allow us to run the same number \n",
    "\n",
    "random.randint(0,100)"
   ]
  },
  {
   "cell_type": "code",
   "execution_count": 41,
   "id": "4952d06a-fed5-448a-8249-0d585816d809",
   "metadata": {},
   "outputs": [],
   "source": [
    "mylist = list(range(0,20))"
   ]
  },
  {
   "cell_type": "code",
   "execution_count": 43,
   "id": "146ae24e-5e17-49ea-8677-1d3ffc83f22a",
   "metadata": {},
   "outputs": [
    {
     "data": {
      "text/plain": [
       "[0, 1, 2, 3, 4, 5, 6, 7, 8, 9, 10, 11, 12, 13, 14, 15, 16, 17, 18, 19]"
      ]
     },
     "execution_count": 43,
     "metadata": {},
     "output_type": "execute_result"
    }
   ],
   "source": [
    "mylist"
   ]
  },
  {
   "cell_type": "code",
   "execution_count": 45,
   "id": "593b95f5-847a-4141-88de-c9882e89fef7",
   "metadata": {},
   "outputs": [
    {
     "data": {
      "text/plain": [
       "6"
      ]
     },
     "execution_count": 45,
     "metadata": {},
     "output_type": "execute_result"
    }
   ],
   "source": [
    "random.choice(mylist)"
   ]
  },
  {
   "cell_type": "code",
   "execution_count": 47,
   "id": "bf558f86-5417-4e7e-bdcb-552d465e9d2c",
   "metadata": {},
   "outputs": [
    {
     "data": {
      "text/plain": [
       "[0, 1, 2, 3, 4, 5, 6, 7, 8, 9, 10, 11, 12, 13, 14, 15, 16, 17, 18, 19]"
      ]
     },
     "execution_count": 47,
     "metadata": {},
     "output_type": "execute_result"
    }
   ],
   "source": [
    "mylist"
   ]
  },
  {
   "cell_type": "code",
   "execution_count": 49,
   "id": "1198b0a0-dd04-4383-848d-f5863cbcd483",
   "metadata": {},
   "outputs": [],
   "source": [
    "# SAMPLE WITH REPLACEMENT"
   ]
  },
  {
   "cell_type": "code",
   "execution_count": 51,
   "id": "02544d51-dc0a-412f-a1e5-25075f7bca6b",
   "metadata": {},
   "outputs": [
    {
     "data": {
      "text/plain": [
       "[18, 10, 7, 0, 10, 12, 18, 9, 15, 6]"
      ]
     },
     "execution_count": 51,
     "metadata": {},
     "output_type": "execute_result"
    }
   ],
   "source": [
    "random.choices(population=mylist, k=10)"
   ]
  },
  {
   "cell_type": "code",
   "execution_count": 53,
   "id": "b6d19604-36a1-474a-8e95-e7e75a53769f",
   "metadata": {},
   "outputs": [
    {
     "data": {
      "text/plain": [
       "[14, 2, 8, 6, 5, 1, 7, 12, 17, 15]"
      ]
     },
     "execution_count": 53,
     "metadata": {},
     "output_type": "execute_result"
    }
   ],
   "source": [
    "# SAMPLE WITHOUT REPLACEMENT\n",
    "random.sample(population=mylist, k=10)"
   ]
  },
  {
   "cell_type": "code",
   "execution_count": 55,
   "id": "ef88c367-bfbb-4129-9057-7a512ebaaf27",
   "metadata": {},
   "outputs": [
    {
     "data": {
      "text/plain": [
       "[0, 1, 2, 3, 4, 5, 6, 7, 8, 9, 10, 11, 12, 13, 14, 15, 16, 17, 18, 19]"
      ]
     },
     "execution_count": 55,
     "metadata": {},
     "output_type": "execute_result"
    }
   ],
   "source": [
    "mylist"
   ]
  },
  {
   "cell_type": "code",
   "execution_count": 57,
   "id": "24a76762-c23c-4467-9ea8-25176106f548",
   "metadata": {},
   "outputs": [],
   "source": [
    "random.shuffle(mylist)"
   ]
  },
  {
   "cell_type": "code",
   "execution_count": 59,
   "id": "dd82c3a6-fd8b-437c-8242-b9e386b53864",
   "metadata": {},
   "outputs": [
    {
     "data": {
      "text/plain": [
       "[0, 8, 17, 11, 2, 9, 5, 18, 13, 4, 16, 14, 1, 3, 19, 12, 7, 10, 15, 6]"
      ]
     },
     "execution_count": 59,
     "metadata": {},
     "output_type": "execute_result"
    }
   ],
   "source": [
    "mylist"
   ]
  },
  {
   "cell_type": "code",
   "execution_count": 69,
   "id": "b040279a-2777-4a9e-91ff-9e8d52eb797f",
   "metadata": {},
   "outputs": [
    {
     "data": {
      "text/plain": [
       "87.182873833258"
      ]
     },
     "execution_count": 69,
     "metadata": {},
     "output_type": "execute_result"
    }
   ],
   "source": [
    "random.uniform(a=0,b=100) # This includes floating point numbers"
   ]
  },
  {
   "cell_type": "code",
   "execution_count": 71,
   "id": "78e103a5-f0bb-4571-9e55-011a88e0c6d9",
   "metadata": {},
   "outputs": [
    {
     "data": {
      "text/plain": [
       "0.09265143714835958"
      ]
     },
     "execution_count": 71,
     "metadata": {},
     "output_type": "execute_result"
    }
   ],
   "source": [
    "random.gauss(mu=0, sigma=1) # This includes the mean of 0, and standard deviation = 1"
   ]
  },
  {
   "cell_type": "code",
   "execution_count": 73,
   "id": "0843da79-bb6b-4eb9-8ef3-97830c5f098b",
   "metadata": {},
   "outputs": [],
   "source": [
    "# We can use the numpy library as well"
   ]
  },
  {
   "cell_type": "code",
   "execution_count": null,
   "id": "3be46028-57aa-4ebd-9993-eadaad5ff1db",
   "metadata": {},
   "outputs": [],
   "source": []
  }
 ],
 "metadata": {
  "kernelspec": {
   "display_name": "Python [conda env:base] *",
   "language": "python",
   "name": "conda-base-py"
  },
  "language_info": {
   "codemirror_mode": {
    "name": "ipython",
    "version": 3
   },
   "file_extension": ".py",
   "mimetype": "text/x-python",
   "name": "python",
   "nbconvert_exporter": "python",
   "pygments_lexer": "ipython3",
   "version": "3.12.7"
  }
 },
 "nbformat": 4,
 "nbformat_minor": 5
}
