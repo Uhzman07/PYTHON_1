{
 "cells": [
  {
   "cell_type": "code",
   "execution_count": 1,
   "id": "d1840f9e-08c9-49bb-8211-6d525056bc47",
   "metadata": {},
   "outputs": [
    {
     "data": {
      "text/plain": [
       "10"
      ]
     },
     "execution_count": 1,
     "metadata": {},
     "output_type": "execute_result"
    }
   ],
   "source": [
    "10"
   ]
  },
  {
   "cell_type": "code",
   "execution_count": 3,
   "id": "55272f6c-0bb0-42c1-b588-9d20e3535cb1",
   "metadata": {},
   "outputs": [
    {
     "data": {
      "text/plain": [
       "3"
      ]
     },
     "execution_count": 3,
     "metadata": {},
     "output_type": "execute_result"
    }
   ],
   "source": [
    "3"
   ]
  },
  {
   "cell_type": "code",
   "execution_count": 5,
   "id": "23683693-57e8-4a57-861d-554725295f50",
   "metadata": {},
   "outputs": [
    {
     "data": {
      "text/plain": [
       "['1', '2', '3']"
      ]
     },
     "execution_count": 5,
     "metadata": {},
     "output_type": "execute_result"
    }
   ],
   "source": [
    "['1','2','3']"
   ]
  },
  {
   "cell_type": "code",
   "execution_count": 7,
   "id": "56c97066-c372-44d4-a652-e684744435d3",
   "metadata": {},
   "outputs": [],
   "source": [
    "def func_one(n):\n",
    "    return [str(num) for num in range(n)]"
   ]
  },
  {
   "cell_type": "code",
   "execution_count": 9,
   "id": "00358bc6-ff76-4b00-b0cc-ee5cfa41038d",
   "metadata": {},
   "outputs": [
    {
     "data": {
      "text/plain": [
       "['0', '1', '2', '3', '4', '5', '6', '7', '8', '9']"
      ]
     },
     "execution_count": 9,
     "metadata": {},
     "output_type": "execute_result"
    }
   ],
   "source": [
    "func_one(10)"
   ]
  },
  {
   "cell_type": "code",
   "execution_count": 11,
   "id": "c969863d-82d3-47c0-a1f5-475027e16f92",
   "metadata": {},
   "outputs": [],
   "source": [
    "# same way to do it"
   ]
  },
  {
   "cell_type": "code",
   "execution_count": 13,
   "id": "69e1bdde-1ab6-4d5a-8322-368de512a2a1",
   "metadata": {},
   "outputs": [],
   "source": [
    "def func_two(n):\n",
    "    return list(map(str, range(n)))"
   ]
  },
  {
   "cell_type": "code",
   "execution_count": 15,
   "id": "65db5339-dba0-47f0-81b8-2dd59bac29e4",
   "metadata": {},
   "outputs": [
    {
     "data": {
      "text/plain": [
       "['0', '1', '2', '3', '4', '5', '6', '7', '8', '9']"
      ]
     },
     "execution_count": 15,
     "metadata": {},
     "output_type": "execute_result"
    }
   ],
   "source": [
    "func_two(10)"
   ]
  },
  {
   "cell_type": "code",
   "execution_count": 17,
   "id": "dcb28207-f005-4d56-b47c-40dd7ebe0712",
   "metadata": {},
   "outputs": [],
   "source": [
    "import time"
   ]
  },
  {
   "cell_type": "code",
   "execution_count": 23,
   "id": "4bc7c1a4-a43f-4449-a9a0-dc434f00f667",
   "metadata": {},
   "outputs": [
    {
     "name": "stdout",
     "output_type": "stream",
     "text": [
      "0.12154698371887207\n"
     ]
    }
   ],
   "source": [
    "# CURRENT TIME BEFORE \n",
    "start_time = time.time()\n",
    "\n",
    "# RUN CODE\n",
    "result = func_one(1000000)\n",
    "# CURRENT TIME AFTER RUNNING CODE\n",
    "end_time = time.time()\n",
    "# ELAPSED TIME\n",
    "elapsed_time = end_time - start_time\n",
    "\n",
    "print(elapsed_time)"
   ]
  },
  {
   "cell_type": "code",
   "execution_count": 25,
   "id": "e7087776-7768-48cb-9e4c-f83f058315ce",
   "metadata": {},
   "outputs": [
    {
     "name": "stdout",
     "output_type": "stream",
     "text": [
      "0.03583788871765137\n"
     ]
    }
   ],
   "source": [
    "# CURRENT TIME BEFORE \n",
    "start_time = time.time()\n",
    "\n",
    "# RUN CODE\n",
    "result = func_one(1)\n",
    "# CURRENT TIME AFTER RUNNING CODE\n",
    "end_time = time.time()\n",
    "# ELAPSED TIME\n",
    "elapsed_time = end_time - start_time\n",
    "\n",
    "print(elapsed_time)"
   ]
  },
  {
   "cell_type": "code",
   "execution_count": 27,
   "id": "fdd4b6f2-f7c9-4e45-908f-5de6ce4d5a95",
   "metadata": {},
   "outputs": [],
   "source": [
    "# In order to time multiple functions that we run"
   ]
  },
  {
   "cell_type": "code",
   "execution_count": 29,
   "id": "5472501a-1083-495d-8053-721dcd5e2847",
   "metadata": {},
   "outputs": [],
   "source": [
    "import timeit"
   ]
  },
  {
   "cell_type": "code",
   "execution_count": 31,
   "id": "faf8cb9c-7024-4fe6-8fe6-66eb17a21bd8",
   "metadata": {},
   "outputs": [],
   "source": [
    "stmt = '''\n",
    "func_one(100)\n",
    "'''"
   ]
  },
  {
   "cell_type": "code",
   "execution_count": 33,
   "id": "4cf95b54-4205-4c11-8c20-5f88a28cd28e",
   "metadata": {},
   "outputs": [],
   "source": [
    "setup = '''\n",
    "def func_one(n):\n",
    "    return [str(num) for num in range(n)]\n",
    "'''"
   ]
  },
  {
   "cell_type": "code",
   "execution_count": 35,
   "id": "90b31b70-aa28-4a85-9a34-71b0b11f3247",
   "metadata": {},
   "outputs": [
    {
     "data": {
      "text/plain": [
       "0.8690131250004924"
      ]
     },
     "execution_count": 35,
     "metadata": {},
     "output_type": "execute_result"
    }
   ],
   "source": [
    "timeit.timeit(stmt, setup, number= 100000) # This takes in the inputs the actual function call, the defined function, and then the number of times we want to run that called function"
   ]
  },
  {
   "cell_type": "code",
   "execution_count": 50,
   "id": "8faee6e0-f0aa-464f-a857-0dc55b8f24ee",
   "metadata": {},
   "outputs": [],
   "source": [
    "stmt2 = '''\n",
    "func_two(100)\n",
    "'''"
   ]
  },
  {
   "cell_type": "code",
   "execution_count": 51,
   "id": "f5146513-7adc-4ad6-bba4-f8bdef1232d5",
   "metadata": {},
   "outputs": [],
   "source": [
    "setup2 = '''\n",
    "def func_two(n):\n",
    "    return list(map(str,range(n)))\n",
    "'''"
   ]
  },
  {
   "cell_type": "code",
   "execution_count": 52,
   "id": "200dde62-b022-45b9-b8da-4448eb6b6607",
   "metadata": {},
   "outputs": [
    {
     "data": {
      "text/plain": [
       "10.629885582999123"
      ]
     },
     "execution_count": 52,
     "metadata": {},
     "output_type": "execute_result"
    }
   ],
   "source": [
    "timeit.timeit(stmt2, setup2, number = 1000000)"
   ]
  },
  {
   "cell_type": "code",
   "execution_count": 56,
   "id": "70aff5ba-2c86-4c62-b6cb-d796a1466587",
   "metadata": {},
   "outputs": [],
   "source": [
    "# We have a built-in way of checking this as well"
   ]
  },
  {
   "cell_type": "code",
   "execution_count": 58,
   "id": "8c9c106e-f8a2-489a-add0-ef1f9bb22fab",
   "metadata": {},
   "outputs": [
    {
     "name": "stdout",
     "output_type": "stream",
     "text": [
      "7.6 μs ± 922 ns per loop (mean ± std. dev. of 7 runs, 100,000 loops each)\n"
     ]
    }
   ],
   "source": [
    "%%timeit\n",
    "func_one(100)"
   ]
  },
  {
   "cell_type": "code",
   "execution_count": 60,
   "id": "fdbd35c3-4916-44ed-900b-1f1b004a0600",
   "metadata": {},
   "outputs": [
    {
     "name": "stdout",
     "output_type": "stream",
     "text": [
      "10.8 μs ± 1.09 μs per loop (mean ± std. dev. of 7 runs, 10,000 loops each)\n"
     ]
    }
   ],
   "source": [
    "%%timeit\n",
    "func_two(100)"
   ]
  },
  {
   "cell_type": "code",
   "execution_count": null,
   "id": "11dcf1bd-311b-4089-aa56-07123b40e9f8",
   "metadata": {},
   "outputs": [],
   "source": []
  }
 ],
 "metadata": {
  "kernelspec": {
   "display_name": "Python [conda env:base] *",
   "language": "python",
   "name": "conda-base-py"
  },
  "language_info": {
   "codemirror_mode": {
    "name": "ipython",
    "version": 3
   },
   "file_extension": ".py",
   "mimetype": "text/x-python",
   "name": "python",
   "nbconvert_exporter": "python",
   "pygments_lexer": "ipython3",
   "version": "3.12.7"
  }
 },
 "nbformat": 4,
 "nbformat_minor": 5
}
