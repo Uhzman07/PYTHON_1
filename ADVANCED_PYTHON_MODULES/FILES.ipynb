{
 "cells": [
  {
   "cell_type": "code",
   "execution_count": 3,
   "id": "255500ff-7b21-4487-977b-05d0e5dae36f",
   "metadata": {},
   "outputs": [
    {
     "data": {
      "text/plain": [
       "'/Users/abosede/PROJECTS/DATA SCIENCE/PYTHON_1/PYTHON_1/ADVANCED_PYTHON_MODULES'"
      ]
     },
     "execution_count": 3,
     "metadata": {},
     "output_type": "execute_result"
    }
   ],
   "source": [
    "pwd # This gives the current working directory"
   ]
  },
  {
   "cell_type": "code",
   "execution_count": 59,
   "id": "cccf5268-1a4e-48fb-abdb-fc745848e231",
   "metadata": {},
   "outputs": [
    {
     "data": {
      "text/plain": [
       "<function TextIOWrapper.close()>"
      ]
     },
     "execution_count": 59,
     "metadata": {},
     "output_type": "execute_result"
    }
   ],
   "source": [
    "f = open('practice.txt', 'w+')\n",
    "f.write('This is is a test string')\n",
    "f.close"
   ]
  },
  {
   "cell_type": "code",
   "execution_count": 9,
   "id": "24728c56-ae06-40bd-b8b8-04b77889d576",
   "metadata": {},
   "outputs": [],
   "source": [
    "import os"
   ]
  },
  {
   "cell_type": "code",
   "execution_count": 13,
   "id": "56453db0-5085-497b-82fd-559663b20fb9",
   "metadata": {},
   "outputs": [
    {
     "data": {
      "text/plain": [
       "'/Users/abosede/PROJECTS/DATA SCIENCE/PYTHON_1/PYTHON_1/ADVANCED_PYTHON_MODULES'"
      ]
     },
     "execution_count": 13,
     "metadata": {},
     "output_type": "execute_result"
    }
   ],
   "source": [
    "os.getcwd() # This is used to get the current working directory"
   ]
  },
  {
   "cell_type": "code",
   "execution_count": 17,
   "id": "ab4ed990-fb79-492c-add5-cfe7ebd6d4cf",
   "metadata": {},
   "outputs": [
    {
     "data": {
      "text/plain": [
       "['practice.txt', 'Collections.ipynb', 'FILES.ipynb', '.ipynb_checkpoints']"
      ]
     },
     "execution_count": 17,
     "metadata": {},
     "output_type": "execute_result"
    }
   ],
   "source": [
    "os.listdir() # This will list all that we have in our current working directory"
   ]
  },
  {
   "cell_type": "code",
   "execution_count": 23,
   "id": "0577ad72-841c-426e-92b8-6f2a85caad0d",
   "metadata": {},
   "outputs": [
    {
     "data": {
      "text/plain": [
       "['abosede', '.localized', 'Shared']"
      ]
     },
     "execution_count": 23,
     "metadata": {},
     "output_type": "execute_result"
    }
   ],
   "source": [
    "# To specify directories\n",
    "os.listdir('/Users')"
   ]
  },
  {
   "cell_type": "code",
   "execution_count": 25,
   "id": "5f11345c-e4f7-422a-8a93-23643626f643",
   "metadata": {},
   "outputs": [],
   "source": [
    "# TO MOVE FILES BETWEEN FOLDERS"
   ]
  },
  {
   "cell_type": "code",
   "execution_count": 27,
   "id": "0a5bb072-3c58-4633-9b51-4fd179c12395",
   "metadata": {},
   "outputs": [],
   "source": [
    "import shutil"
   ]
  },
  {
   "cell_type": "code",
   "execution_count": 29,
   "id": "f3e613aa-c22e-46e8-a45e-37b43ed22af5",
   "metadata": {},
   "outputs": [
    {
     "data": {
      "text/plain": [
       "'/Users/abosede/practice.txt'"
      ]
     },
     "execution_count": 29,
     "metadata": {},
     "output_type": "execute_result"
    }
   ],
   "source": [
    "shutil.move('practice.txt', '/Users/abosede/')"
   ]
  },
  {
   "cell_type": "code",
   "execution_count": 33,
   "id": "6ca522a9-4abb-4814-b9ea-03aa88421cf0",
   "metadata": {},
   "outputs": [
    {
     "data": {
      "text/plain": [
       "['.Rhistory',\n",
       " '.config',\n",
       " 'Music',\n",
       " 'DAL_CS_PROJECTS',\n",
       " '.condarc',\n",
       " 'Assignment.R',\n",
       " 'Untitled1.ipynb',\n",
       " '.DS_Store',\n",
       " '.CFUserTextEncoding',\n",
       " '.xonshrc',\n",
       " 'anaconda_projects',\n",
       " 'Untitled.ipynb',\n",
       " '.zshrc',\n",
       " '.local',\n",
       " 'PROJECTS',\n",
       " 'Pictures',\n",
       " '.zprofile',\n",
       " 'practice.txt',\n",
       " '.nuget',\n",
       " '.zsh_history',\n",
       " '.ipython',\n",
       " 'Desktop',\n",
       " 'Library',\n",
       " '.android',\n",
       " 'Public',\n",
       " '.idlerc',\n",
       " '.tcshrc',\n",
       " '.RData',\n",
       " '.anaconda',\n",
       " 'CLionProjects',\n",
       " '.ssh',\n",
       " 'Movies',\n",
       " '.Rapp.history',\n",
       " '.Trash',\n",
       " '.ipynb_checkpoints',\n",
       " '.jupyter',\n",
       " '.npm',\n",
       " 'Documents',\n",
       " '.vscode',\n",
       " '.bash_profile',\n",
       " 'Downloads',\n",
       " '.python_history',\n",
       " '.continuum',\n",
       " 'C Programming',\n",
       " '.gitconfig',\n",
       " '.viminfo',\n",
       " '.zsh_sessions',\n",
       " '.conda']"
      ]
     },
     "execution_count": 33,
     "metadata": {},
     "output_type": "execute_result"
    }
   ],
   "source": [
    "os.listdir('/Users/abosede/')"
   ]
  },
  {
   "cell_type": "code",
   "execution_count": 35,
   "id": "3ef1883c-81ec-4a8b-9ef2-2d9b64183a64",
   "metadata": {},
   "outputs": [],
   "source": [
    "# TO DELETE A FILE"
   ]
  },
  {
   "cell_type": "code",
   "execution_count": 37,
   "id": "2a11d515-2f09-47fd-9b17-1109e7d7b7e4",
   "metadata": {},
   "outputs": [
    {
     "data": {
      "text/plain": [
       "'\\n1. os.unlink(path) this deletes the file at the path you provide\\n2. os.rmdir(path) this deletes a folder (folder must be empty) at the path you provide\\n3. shutil.rmtree(path) this is the most dangerous, as it will remove all files contained in the path\\n'"
      ]
     },
     "execution_count": 37,
     "metadata": {},
     "output_type": "execute_result"
    }
   ],
   "source": [
    "'''\n",
    "1. os.unlink(path) this deletes the file at the path you provide\n",
    "2. os.rmdir(path) this deletes a folder (folder must be empty) at the path you provide\n",
    "3. shutil.rmtree(path) this is the most dangerous, as it will remove all files contained in the path\n",
    "'''"
   ]
  },
  {
   "cell_type": "code",
   "execution_count": 39,
   "id": "6236f832-ff17-4d4a-9f58-fdf00f2c8022",
   "metadata": {},
   "outputs": [],
   "source": [
    "# A safer way to do this is to make use of the \"SEND TO TRASH MODULE\"\n",
    "# pip install send2trash"
   ]
  },
  {
   "cell_type": "code",
   "execution_count": 41,
   "id": "1beedcbf-e688-4212-b6ae-702fa709612b",
   "metadata": {},
   "outputs": [],
   "source": [
    "import send2trash"
   ]
  },
  {
   "cell_type": "code",
   "execution_count": 43,
   "id": "fa38ad19-1e35-43f5-a7a9-da721cd47878",
   "metadata": {},
   "outputs": [
    {
     "data": {
      "text/plain": [
       "['Collections.ipynb', 'FILES.ipynb', '.ipynb_checkpoints']"
      ]
     },
     "execution_count": 43,
     "metadata": {},
     "output_type": "execute_result"
    }
   ],
   "source": [
    "os.listdir()"
   ]
  },
  {
   "cell_type": "code",
   "execution_count": 45,
   "id": "6f646014-f769-4ac3-b32c-4fc1a3cffe83",
   "metadata": {},
   "outputs": [
    {
     "data": {
      "text/plain": [
       "'/Users/abosede/PROJECTS/DATA SCIENCE/PYTHON_1/PYTHON_1/ADVANCED_PYTHON_MODULES/practice.txt'"
      ]
     },
     "execution_count": 45,
     "metadata": {},
     "output_type": "execute_result"
    }
   ],
   "source": [
    "shutil.move('/Users/abosede/practice.txt', os.getcwd())"
   ]
  },
  {
   "cell_type": "code",
   "execution_count": 47,
   "id": "b98bba4d-cc2f-43fd-ae5b-64fe3f1189fd",
   "metadata": {},
   "outputs": [],
   "source": [
    "import send2trash"
   ]
  },
  {
   "cell_type": "code",
   "execution_count": 49,
   "id": "87bc9d25-1abe-434b-ba30-ec062e35ca46",
   "metadata": {},
   "outputs": [
    {
     "data": {
      "text/plain": [
       "['practice.txt', 'Collections.ipynb', 'FILES.ipynb', '.ipynb_checkpoints']"
      ]
     },
     "execution_count": 49,
     "metadata": {},
     "output_type": "execute_result"
    }
   ],
   "source": [
    "os.listdir()"
   ]
  },
  {
   "cell_type": "code",
   "execution_count": 51,
   "id": "219e8b35-b64b-491e-8cab-0d2c58b47148",
   "metadata": {},
   "outputs": [],
   "source": [
    "# Then to send to trash # This can be recovered\n",
    "send2trash.send2trash('practice.txt')"
   ]
  },
  {
   "cell_type": "code",
   "execution_count": 53,
   "id": "54d02033-755e-4d84-b32d-f0232235b4f7",
   "metadata": {},
   "outputs": [
    {
     "data": {
      "text/plain": [
       "['Collections.ipynb', 'FILES.ipynb', '.ipynb_checkpoints']"
      ]
     },
     "execution_count": 53,
     "metadata": {},
     "output_type": "execute_result"
    }
   ],
   "source": [
    "os.listdir()"
   ]
  },
  {
   "cell_type": "code",
   "execution_count": 55,
   "id": "d9974b19-c6b1-4e98-a886-9437a7faca3f",
   "metadata": {},
   "outputs": [],
   "source": [
    "# Then to iterate through folders, files, and all"
   ]
  },
  {
   "cell_type": "code",
   "execution_count": 57,
   "id": "afe13819-0b5b-4334-8525-be10c5eef93e",
   "metadata": {},
   "outputs": [
    {
     "data": {
      "text/plain": [
       "'/Users/abosede/PROJECTS/DATA SCIENCE/PYTHON_1/PYTHON_1/ADVANCED_PYTHON_MODULES'"
      ]
     },
     "execution_count": 57,
     "metadata": {},
     "output_type": "execute_result"
    }
   ],
   "source": [
    "os.getcwd()"
   ]
  },
  {
   "cell_type": "code",
   "execution_count": 61,
   "id": "c7f4a33b-89fe-492d-8ffd-7cae1b109a6b",
   "metadata": {},
   "outputs": [
    {
     "data": {
      "text/plain": [
       "['practice.txt', 'Collections.ipynb', 'FILES.ipynb', '.ipynb_checkpoints']"
      ]
     },
     "execution_count": 61,
     "metadata": {},
     "output_type": "execute_result"
    }
   ],
   "source": [
    "os.listdir()"
   ]
  },
  {
   "cell_type": "code",
   "execution_count": 101,
   "id": "da11de3f-7dfb-4926-8936-844d2f946593",
   "metadata": {},
   "outputs": [],
   "source": [
    "file_path = '/Users/abosede/PROJECTS/DATA SCIENCE/PYTHON_1/PYTHON_1/ERRORS_AND_EXCEPTION_HANDLING/'"
   ]
  },
  {
   "cell_type": "code",
   "execution_count": 105,
   "id": "90c808b0-4cdd-4514-963d-312be3b09d23",
   "metadata": {},
   "outputs": [
    {
     "name": "stdout",
     "output_type": "stream",
     "text": [
      "Currently looking at /Users/abosede/PROJECTS/DATA SCIENCE/PYTHON_1/PYTHON_1/ERRORS_AND_EXCEPTION_HANDLING/\n",
      "\n",
      "\n",
      "The subfolders are: \n",
      "Subfolder: SMA\n",
      "Subfolder: .ipynb_checkpoints\n",
      "\n",
      "\n",
      "The files are: \n",
      "File: Errors_and_Exception_Handling.ipynb\n",
      "File: Untitled.ipynb\n",
      "File: practice.txt\n",
      "File: testfile\n",
      "\n",
      "\n",
      "Currently looking at /Users/abosede/PROJECTS/DATA SCIENCE/PYTHON_1/PYTHON_1/ERRORS_AND_EXCEPTION_HANDLING/SMA\n",
      "\n",
      "\n",
      "The subfolders are: \n",
      "\n",
      "\n",
      "The files are: \n",
      "\n",
      "\n",
      "Currently looking at /Users/abosede/PROJECTS/DATA SCIENCE/PYTHON_1/PYTHON_1/ERRORS_AND_EXCEPTION_HANDLING/.ipynb_checkpoints\n",
      "\n",
      "\n",
      "The subfolders are: \n",
      "\n",
      "\n",
      "The files are: \n",
      "File: Errors_and_Exception_Handling-checkpoint.ipynb\n",
      "File: Untitled-checkpoint.ipynb\n",
      "\n",
      "\n"
     ]
    }
   ],
   "source": [
    "# The walk function is used to check through all folders, subfolders, and files\n",
    "# All will be within  the same general folder that we have\n",
    "# Starting at that folder as the main one, it iterates down checking the subfolder and files under each\n",
    "for folder, sub_folders, files in os.walk(file_path):\n",
    "    print(f\"Currently looking at {folder}\")\n",
    "    print(\"\\n\")\n",
    "    print('The subfolders are: ')\n",
    "    for sub_fold in sub_folders:\n",
    "        print(f\"Subfolder: {sub_fold}\")\n",
    "    print(\"\\n\")\n",
    "    print(\"The files are: \")\n",
    "    for f in files:\n",
    "        print(f\"File: {f}\")\n",
    "    print('\\n')\n",
    "    "
   ]
  },
  {
   "cell_type": "code",
   "execution_count": null,
   "id": "186e27ac-5fe2-401d-ad5d-0d37341be397",
   "metadata": {},
   "outputs": [],
   "source": []
  }
 ],
 "metadata": {
  "kernelspec": {
   "display_name": "Python [conda env:base] *",
   "language": "python",
   "name": "conda-base-py"
  },
  "language_info": {
   "codemirror_mode": {
    "name": "ipython",
    "version": 3
   },
   "file_extension": ".py",
   "mimetype": "text/x-python",
   "name": "python",
   "nbconvert_exporter": "python",
   "pygments_lexer": "ipython3",
   "version": "3.12.7"
  }
 },
 "nbformat": 4,
 "nbformat_minor": 5
}
