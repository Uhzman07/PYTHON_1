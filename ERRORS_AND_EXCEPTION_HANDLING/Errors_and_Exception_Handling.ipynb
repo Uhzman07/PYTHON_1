{
 "cells": [
  {
   "cell_type": "code",
   "execution_count": 12,
   "id": "7ae491ec-a09d-448d-a23d-d0b392a1db78",
   "metadata": {},
   "outputs": [
    {
     "name": "stdout",
     "output_type": "stream",
     "text": [
      "[4, 8, 12, 16]\n"
     ]
    }
   ],
   "source": [
    "print([x * 2 for x in range (1, 10) if x % 2 == 0])"
   ]
  },
  {
   "cell_type": "code",
   "execution_count": 17,
   "id": "8511be33-155c-4198-83bb-5c107ee75e6b",
   "metadata": {},
   "outputs": [
    {
     "data": {
      "text/plain": [
       "'\\ntry  -- This is the block of code that will be attempted (may lead to an error)\\nexcept -- This is the block of code that will be executed in case there is an error in the \"try\" block\\nfinally -- A final block of code to be executed, regardless of an error\\n'"
      ]
     },
     "execution_count": 17,
     "metadata": {},
     "output_type": "execute_result"
    }
   ],
   "source": [
    "# ERROR HANDLING\n",
    "'''\n",
    "try  -- This is the block of code that will be attempted (may lead to an error)\n",
    "except -- This is the block of code that will be executed in case there is an error in the \"try\" block\n",
    "finally -- A final block of code to be executed, regardless of an error\n",
    "'''"
   ]
  },
  {
   "cell_type": "code",
   "execution_count": 19,
   "id": "787d169c-f18b-4adb-b1f2-a8ccb040e8da",
   "metadata": {},
   "outputs": [],
   "source": [
    "def add(n1, n2):\n",
    "    print(n1+n2)"
   ]
  },
  {
   "cell_type": "code",
   "execution_count": 21,
   "id": "0684985f-0329-49de-93cd-5734ee5d6146",
   "metadata": {},
   "outputs": [
    {
     "name": "stdout",
     "output_type": "stream",
     "text": [
      "60\n"
     ]
    }
   ],
   "source": [
    "add(20,40)"
   ]
  },
  {
   "cell_type": "code",
   "execution_count": 23,
   "id": "5632a465-efc9-4a89-8b7b-e6c5d54021ca",
   "metadata": {},
   "outputs": [],
   "source": [
    "number1 = 10"
   ]
  },
  {
   "cell_type": "code",
   "execution_count": 25,
   "id": "a1a61315-371c-4079-a1dc-b0354f881036",
   "metadata": {},
   "outputs": [
    {
     "name": "stdin",
     "output_type": "stream",
     "text": [
      "Please provide a number:  20\n"
     ]
    }
   ],
   "source": [
    "number2 = input(\"Please provide a number: \")"
   ]
  },
  {
   "cell_type": "code",
   "execution_count": 27,
   "id": "4e1615cb-7471-4faa-8aa6-d0a46739bb31",
   "metadata": {},
   "outputs": [
    {
     "ename": "TypeError",
     "evalue": "unsupported operand type(s) for +: 'int' and 'str'",
     "output_type": "error",
     "traceback": [
      "\u001b[0;31m---------------------------------------------------------------------------\u001b[0m",
      "\u001b[0;31mTypeError\u001b[0m                                 Traceback (most recent call last)",
      "Cell \u001b[0;32mIn[27], line 1\u001b[0m\n\u001b[0;32m----> 1\u001b[0m add(number1, number2)\n",
      "Cell \u001b[0;32mIn[19], line 2\u001b[0m, in \u001b[0;36madd\u001b[0;34m(n1, n2)\u001b[0m\n\u001b[1;32m      1\u001b[0m \u001b[38;5;28;01mdef\u001b[39;00m \u001b[38;5;21madd\u001b[39m(n1, n2):\n\u001b[0;32m----> 2\u001b[0m     \u001b[38;5;28mprint\u001b[39m(n1\u001b[38;5;241m+\u001b[39mn2)\n",
      "\u001b[0;31mTypeError\u001b[0m: unsupported operand type(s) for +: 'int' and 'str'"
     ]
    }
   ],
   "source": [
    "add(number1, number2) # We could get a type Error if trying to add a String and an Integer -- This errors stops the execution"
   ]
  },
  {
   "cell_type": "code",
   "execution_count": 37,
   "id": "eeb0a7a4-8807-4d9e-a577-7942e4f28fa8",
   "metadata": {},
   "outputs": [
    {
     "name": "stdout",
     "output_type": "stream",
     "text": [
      "Add went well\n",
      "12\n"
     ]
    }
   ],
   "source": [
    "try:\n",
    "    # WANT TO ATTEMPT THIS CODE\n",
    "    # MAY HAVE AN ERROR\n",
    "    result = 10 + 2\n",
    "except:\n",
    "    # If there is an error\n",
    "    print(\"Hey it looks like you aren't adding correctly!\")\n",
    "else:\n",
    "    # If we have no errors\n",
    "    print(\"Add went well\")\n",
    "    print(result)"
   ]
  },
  {
   "cell_type": "code",
   "execution_count": 39,
   "id": "4a34c7db-44ac-4ba0-9666-faad830372d2",
   "metadata": {},
   "outputs": [
    {
     "data": {
      "text/plain": [
       "12"
      ]
     },
     "execution_count": 39,
     "metadata": {},
     "output_type": "execute_result"
    }
   ],
   "source": [
    "result"
   ]
  },
  {
   "cell_type": "code",
   "execution_count": 49,
   "id": "8bdda464-67f9-4a61-828b-5e3b1eaf3904",
   "metadata": {},
   "outputs": [
    {
     "name": "stdout",
     "output_type": "stream",
     "text": [
      "I will always run\n"
     ]
    }
   ],
   "source": [
    "#  TRY, EXCEPT, FINALLY\n",
    "try:\n",
    "    f = open('testfile', 'w')\n",
    "    f.write(\"Write a test line\")\n",
    "except TypeError: # These are the errors associated with the actual files\n",
    "    print(\"There was a type error!\")\n",
    "except OSError: # This is the exception that occurs and is related to permissions to open files and all\n",
    "    print(\"Hey you have an OS Error\")\n",
    "except: # This is to catch all other possible exceptions that we might not have dictated\n",
    "    print('All other exceptions!')\n",
    "finally: # This runs regardless if there is an error or not! -- This adds to the except - It is an addition\n",
    "    print(\"I will always run\")\n",
    "          "
   ]
  },
  {
   "cell_type": "code",
   "execution_count": 55,
   "id": "644e7f54-a220-4b65-9559-1260c33fcc2a",
   "metadata": {},
   "outputs": [],
   "source": [
    "# This only catches the error once\n",
    "def ask_for_int():\n",
    "    try:\n",
    "        result =  int(input(\"Please provide number: \"))\n",
    "    except:\n",
    "        print(\"Whoops! That is not a number\")\n",
    "    finally:\n",
    "        print(\"End of try/except/finally\")"
   ]
  },
  {
   "cell_type": "code",
   "execution_count": 57,
   "id": "7e8f436a-3309-45b3-a114-1fdd7ebd884c",
   "metadata": {},
   "outputs": [
    {
     "name": "stdin",
     "output_type": "stream",
     "text": [
      "Please provide number:  3s\n"
     ]
    },
    {
     "name": "stdout",
     "output_type": "stream",
     "text": [
      "Whoops! That is not a number\n",
      "End of try/except/finally\n"
     ]
    }
   ],
   "source": [
    "ask_for_int()"
   ]
  },
  {
   "cell_type": "code",
   "execution_count": 65,
   "id": "f09ac55e-b352-4287-a075-213010722092",
   "metadata": {},
   "outputs": [],
   "source": [
    "# This is to continuously check for exceptions until we reach a valid one\n",
    "def ask_for_int():\n",
    "    while True:\n",
    "        try:\n",
    "            result = int(input(\"Please provide a number: \"))\n",
    "        except:\n",
    "            print(\"Whoops! That is not a number\")\n",
    "            continue # This will allow iteration until we reach a valid one\n",
    "        else: # This is when there is no exception\n",
    "            print(\"Yes thank you\")\n",
    "            break # This is to break out of that loop\n",
    "        finally: # This runs every time -- It is powerful enough to still run after calling break\n",
    "            print(\"End of try/except/finally\")\n",
    "            print(\"I will always run at the end!\")\n",
    "            "
   ]
  },
  {
   "cell_type": "code",
   "execution_count": 67,
   "id": "bb10697f-e4a3-4664-8c8c-b96359886ed4",
   "metadata": {},
   "outputs": [
    {
     "name": "stdin",
     "output_type": "stream",
     "text": [
      "Please provide a number:  ww\n"
     ]
    },
    {
     "name": "stdout",
     "output_type": "stream",
     "text": [
      "Whoops! That is not a number\n",
      "End of try/except/finally\n",
      "I will always run at the end!\n"
     ]
    },
    {
     "name": "stdin",
     "output_type": "stream",
     "text": [
      "Please provide a number:  29\n"
     ]
    },
    {
     "name": "stdout",
     "output_type": "stream",
     "text": [
      "Yes thank you\n",
      "End of try/except/finally\n",
      "I will always run at the end!\n"
     ]
    }
   ],
   "source": [
    "ask_for_int()"
   ]
  },
  {
   "cell_type": "code",
   "execution_count": 75,
   "id": "cefd7c4c-0a6a-488f-9f47-2d39722f580c",
   "metadata": {},
   "outputs": [
    {
     "name": "stdout",
     "output_type": "stream",
     "text": [
      "General error! Watch out!\n"
     ]
    }
   ],
   "source": [
    "# ASSIGNMENTS\n",
    "# QUESTION 1\n",
    "# This is to handle Integer/String errors\n",
    "try:\n",
    "    for i in ['a','b','c']:\n",
    "        print(i**2)\n",
    "except:\n",
    "    print(\"General error! Watch out!\")"
   ]
  },
  {
   "cell_type": "code",
   "execution_count": 77,
   "id": "c19130d3-4284-4a81-818c-064514ebe1eb",
   "metadata": {},
   "outputs": [
    {
     "name": "stdout",
     "output_type": "stream",
     "text": [
      "Error\n",
      "All done!\n"
     ]
    }
   ],
   "source": [
    "# QUESTION 2\n",
    "try:\n",
    "    x = 5\n",
    "    y = 0\n",
    "    z = x/y\n",
    "except:\n",
    "    print(\"Error\")\n",
    "finally:\n",
    "    print(\"All done!\")"
   ]
  },
  {
   "cell_type": "code",
   "execution_count": 89,
   "id": "8e5e3b62-655f-44d5-84fe-bdac214a5e35",
   "metadata": {},
   "outputs": [],
   "source": [
    "# QUESTION 3\n",
    "def ask():\n",
    "    waiting = True\n",
    "    while waiting:\n",
    "        try:\n",
    "            n = int(input(\"Enter a number\"))\n",
    "        except:\n",
    "            print(\"Please try again! \\n\")\n",
    "            continue\n",
    "        else: \n",
    "            waiting = False\n",
    "        finally: # This runs no matter what\n",
    "            print(\"Always\")\n",
    "    print(\"Your number squared is: \")\n",
    "    print(n**2)"
   ]
  },
  {
   "cell_type": "code",
   "execution_count": 87,
   "id": "8309faab-1a69-478f-9334-8e0961000234",
   "metadata": {},
   "outputs": [
    {
     "name": "stdin",
     "output_type": "stream",
     "text": [
      "Enter a number 3he\n"
     ]
    },
    {
     "name": "stdout",
     "output_type": "stream",
     "text": [
      "Please try again! \n",
      "\n",
      "Always\n"
     ]
    },
    {
     "name": "stdin",
     "output_type": "stream",
     "text": [
      "Enter a number 2\n"
     ]
    },
    {
     "name": "stdout",
     "output_type": "stream",
     "text": [
      "Always\n",
      "Your number squared is: \n",
      "4\n"
     ]
    }
   ],
   "source": [
    "ask()"
   ]
  },
  {
   "cell_type": "code",
   "execution_count": null,
   "id": "b3df5a33-97ff-452c-937c-87483aebce4b",
   "metadata": {},
   "outputs": [],
   "source": []
  }
 ],
 "metadata": {
  "kernelspec": {
   "display_name": "Python [conda env:base] *",
   "language": "python",
   "name": "conda-base-py"
  },
  "language_info": {
   "codemirror_mode": {
    "name": "ipython",
    "version": 3
   },
   "file_extension": ".py",
   "mimetype": "text/x-python",
   "name": "python",
   "nbconvert_exporter": "python",
   "pygments_lexer": "ipython3",
   "version": "3.12.7"
  }
 },
 "nbformat": 4,
 "nbformat_minor": 5
}
