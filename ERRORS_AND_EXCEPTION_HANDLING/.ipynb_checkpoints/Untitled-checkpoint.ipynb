{
 "cells": [
  {
   "cell_type": "code",
   "execution_count": 2,
   "id": "7ae491ec-a09d-448d-a23d-d0b392a1db78",
   "metadata": {},
   "outputs": [
    {
     "data": {
      "text/plain": [
       "'/Users/abosede/PROJECTS/DATA SCIENCE/PYTHON_1/PYTHON_1/ERRORS_AND_EXCEPTION_HANDLING'"
      ]
     },
     "execution_count": 2,
     "metadata": {},
     "output_type": "execute_result"
    }
   ],
   "source": [
    "import os\n",
    "os.getcwd()"
   ]
  },
  {
   "cell_type": "code",
   "execution_count": 6,
   "id": "338e0604-3c07-46c1-a71e-f0e03fd51f66",
   "metadata": {},
   "outputs": [],
   "source": [
    "given_file = open('practice.txt', 'w+')\n",
    "given_file.write('My name is Usman')\n",
    "given_file.close()"
   ]
  },
  {
   "cell_type": "code",
   "execution_count": null,
   "id": "605c2221-aef8-4b16-98dc-38e4c0e9084c",
   "metadata": {},
   "outputs": [],
   "source": []
  }
 ],
 "metadata": {
  "kernelspec": {
   "display_name": "Python [conda env:base] *",
   "language": "python",
   "name": "conda-base-py"
  },
  "language_info": {
   "codemirror_mode": {
    "name": "ipython",
    "version": 3
   },
   "file_extension": ".py",
   "mimetype": "text/x-python",
   "name": "python",
   "nbconvert_exporter": "python",
   "pygments_lexer": "ipython3",
   "version": "3.12.7"
  }
 },
 "nbformat": 4,
 "nbformat_minor": 5
}
