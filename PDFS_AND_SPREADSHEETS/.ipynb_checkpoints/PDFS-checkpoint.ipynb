{
 "cells": [
  {
   "cell_type": "code",
   "execution_count": 1,
   "id": "38871817-6000-4ebd-9ca3-47b2f972e294",
   "metadata": {},
   "outputs": [],
   "source": [
    "# Install using pip install PYPDF2"
   ]
  },
  {
   "cell_type": "code",
   "execution_count": 3,
   "id": "fe49dd89-1651-4a1d-b463-0101bb42d67e",
   "metadata": {},
   "outputs": [],
   "source": [
    "import PyPDF2"
   ]
  },
  {
   "cell_type": "code",
   "execution_count": 21,
   "id": "654ce79f-913f-4f19-8c25-376ddbe27de6",
   "metadata": {},
   "outputs": [],
   "source": [
    "f = open('Working_Business_Proposal.pdf', 'rb')"
   ]
  },
  {
   "cell_type": "code",
   "execution_count": 23,
   "id": "f683204e-9972-4a43-897d-64cd25bc6dfd",
   "metadata": {},
   "outputs": [],
   "source": [
    "pdf_reader = PyPDF2.PdfReader(f)"
   ]
  },
  {
   "cell_type": "code",
   "execution_count": 33,
   "id": "fea22121-5b55-4253-bfb9-cd1d553c6a63",
   "metadata": {},
   "outputs": [
    {
     "data": {
      "text/plain": [
       "5"
      ]
     },
     "execution_count": 33,
     "metadata": {},
     "output_type": "execute_result"
    }
   ],
   "source": [
    "len(pdf_reader.pages) # This is used to check the length of the pdf file"
   ]
  },
  {
   "cell_type": "code",
   "execution_count": 37,
   "id": "d39f7d38-fcbf-4e3c-9693-d937438cc7ee",
   "metadata": {},
   "outputs": [],
   "source": [
    "page_one = pdf_reader.pages[0]"
   ]
  },
  {
   "cell_type": "code",
   "execution_count": 41,
   "id": "6a7ad831-1f5a-432b-9f0c-a5f87ad5c55e",
   "metadata": {},
   "outputs": [],
   "source": [
    "page_one_text = page_one.extract_text()"
   ]
  },
  {
   "cell_type": "code",
   "execution_count": 43,
   "id": "480b5812-5e3c-4c5c-913c-fcc5375cac6a",
   "metadata": {},
   "outputs": [
    {
     "data": {
      "text/plain": [
       "'Business Proposal The Revolution is Coming Leverage agile frameworks to provide a robust synopsis for high level overviews. Iterative approaches to corporate strategy foster collaborative thinking to further the overall value proposition. Organically grow the holistic world view of disruptive innovation via workplace diversity and empowerment. Bring to the table win-win survival strategies to ensure proactive domination. At the end of the day, going forward, a new normal that has evolved from generation X is on the runway heading towards a streamlined cloud solution. User generated content in real-time will have multiple touchpoints for offshoring. Capitalize on low hanging fruit to identify a ballpark value added activity to beta test. Override the digital divide with additional clickthroughs from DevOps. Nanotechnology immersion along the information highway will close the loop on focusing solely on the bottom line. Podcasting operational change management inside of workﬂows to establish a framework. Taking seamless key performance indicators ofﬂine to maximise the long tail. Keeping your eye on the ball while performing a deep dive on the start-up mentality to derive convergence on cross-platform integration. Collaboratively administrate empowered markets via plug-and-play networks. Dynamically procrastinate B2C users after installed base beneﬁts. Dramatically visualize customer directed convergence without revolutionary ROI. Efﬁciently unleash cross-media information without cross-media value. Quickly maximize timely deliverables for real-time schemas. Dramatically maintain clicks-and-mortar solutions without functional solutions. BUSINESS PROPOSAL!1'"
      ]
     },
     "execution_count": 43,
     "metadata": {},
     "output_type": "execute_result"
    }
   ],
   "source": [
    "page_one_text"
   ]
  },
  {
   "cell_type": "code",
   "execution_count": 45,
   "id": "30e1de14-a995-4d31-be11-21954f0df281",
   "metadata": {},
   "outputs": [],
   "source": [
    "f.close()"
   ]
  },
  {
   "cell_type": "code",
   "execution_count": 51,
   "id": "f23629cc-5748-443f-9fa2-4f9fc4be166d",
   "metadata": {},
   "outputs": [],
   "source": [
    "f = open('Working_Business_Proposal.pdf', 'rb')\n",
    "pdf_reader = PyPDF2.PdfReader(f)"
   ]
  },
  {
   "cell_type": "code",
   "execution_count": 53,
   "id": "e72e6a8d-7cac-4e0d-aee5-66820887a8f5",
   "metadata": {},
   "outputs": [],
   "source": [
    "first_page = pdf_reader.pages[0]"
   ]
  },
  {
   "cell_type": "code",
   "execution_count": 57,
   "id": "1fc4db90-7f20-447d-9e82-2b9107023615",
   "metadata": {},
   "outputs": [],
   "source": [
    "pdf_writer = PyPDF2.PdfWriter()"
   ]
  },
  {
   "cell_type": "code",
   "execution_count": 59,
   "id": "9af298b7-3a9c-4795-8bdf-0259cb3be1bc",
   "metadata": {},
   "outputs": [
    {
     "data": {
      "text/plain": [
       "PyPDF2._page.PageObject"
      ]
     },
     "execution_count": 59,
     "metadata": {},
     "output_type": "execute_result"
    }
   ],
   "source": [
    "type(first_page)"
   ]
  },
  {
   "cell_type": "code",
   "execution_count": 61,
   "id": "f9b30480-1134-492b-8369-f4a8ecde111e",
   "metadata": {},
   "outputs": [],
   "source": [
    "# Then to add a page to our pdf"
   ]
  },
  {
   "cell_type": "code",
   "execution_count": 65,
   "id": "44bb28db-2a6d-416d-a56b-c36df4900ab9",
   "metadata": {},
   "outputs": [
    {
     "data": {
      "text/plain": [
       "{'/Type': '/Page',\n",
       " '/Resources': {'/ProcSet': ['/PDF', '/Text'],\n",
       "  '/ColorSpace': {'/Cs1': ['/ICCBased', IndirectObject(7, 0, 5967452576)]},\n",
       "  '/Font': {'/TT2': {'/Type': '/Font',\n",
       "    '/Subtype': '/TrueType',\n",
       "    '/BaseFont': '/URTVHR+Helvetica-Light',\n",
       "    '/FontDescriptor': {'/Type': '/FontDescriptor',\n",
       "     '/FontName': '/URTVHR+Helvetica-Light',\n",
       "     '/Flags': 32,\n",
       "     '/FontBBox': [-453, -355, 1345, 1206],\n",
       "     '/ItalicAngle': 0,\n",
       "     '/Ascent': 770,\n",
       "     '/Descent': -230,\n",
       "     '/CapHeight': 718,\n",
       "     '/StemV': 68,\n",
       "     '/XHeight': 524,\n",
       "     '/StemH': 58,\n",
       "     '/AvgWidth': 600,\n",
       "     '/MaxWidth': 1445,\n",
       "     '/FontFile2': {'/Length1': 13268, '/Filter': '/FlateDecode'}},\n",
       "    '/Encoding': '/MacRomanEncoding',\n",
       "    '/FirstChar': 32,\n",
       "    '/LastChar': 223,\n",
       "    '/Widths': [278,\n",
       "     0,\n",
       "     278,\n",
       "     0,\n",
       "     0,\n",
       "     0,\n",
       "     0,\n",
       "     0,\n",
       "     0,\n",
       "     0,\n",
       "     0,\n",
       "     0,\n",
       "     278,\n",
       "     333,\n",
       "     278,\n",
       "     278,\n",
       "     556,\n",
       "     0,\n",
       "     556,\n",
       "     0,\n",
       "     556,\n",
       "     0,\n",
       "     0,\n",
       "     556,\n",
       "     0,\n",
       "     0,\n",
       "     0,\n",
       "     0,\n",
       "     0,\n",
       "     0,\n",
       "     0,\n",
       "     0,\n",
       "     0,\n",
       "     667,\n",
       "     667,\n",
       "     722,\n",
       "     722,\n",
       "     611,\n",
       "     0,\n",
       "     778,\n",
       "     722,\n",
       "     278,\n",
       "     0,\n",
       "     667,\n",
       "     556,\n",
       "     0,\n",
       "     722,\n",
       "     778,\n",
       "     611,\n",
       "     778,\n",
       "     667,\n",
       "     611,\n",
       "     556,\n",
       "     722,\n",
       "     0,\n",
       "     0,\n",
       "     611,\n",
       "     0,\n",
       "     0,\n",
       "     0,\n",
       "     0,\n",
       "     0,\n",
       "     0,\n",
       "     0,\n",
       "     0,\n",
       "     556,\n",
       "     611,\n",
       "     556,\n",
       "     611,\n",
       "     556,\n",
       "     278,\n",
       "     611,\n",
       "     556,\n",
       "     222,\n",
       "     222,\n",
       "     500,\n",
       "     222,\n",
       "     833,\n",
       "     556,\n",
       "     556,\n",
       "     611,\n",
       "     611,\n",
       "     333,\n",
       "     500,\n",
       "     278,\n",
       "     556,\n",
       "     500,\n",
       "     722,\n",
       "     500,\n",
       "     500,\n",
       "     500,\n",
       "     0,\n",
       "     0,\n",
       "     0,\n",
       "     0,\n",
       "     0,\n",
       "     0,\n",
       "     0,\n",
       "     0,\n",
       "     0,\n",
       "     0,\n",
       "     0,\n",
       "     0,\n",
       "     0,\n",
       "     0,\n",
       "     0,\n",
       "     0,\n",
       "     0,\n",
       "     0,\n",
       "     0,\n",
       "     0,\n",
       "     0,\n",
       "     0,\n",
       "     0,\n",
       "     0,\n",
       "     0,\n",
       "     0,\n",
       "     0,\n",
       "     0,\n",
       "     0,\n",
       "     0,\n",
       "     0,\n",
       "     0,\n",
       "     0,\n",
       "     0,\n",
       "     0,\n",
       "     0,\n",
       "     0,\n",
       "     0,\n",
       "     0,\n",
       "     0,\n",
       "     0,\n",
       "     0,\n",
       "     0,\n",
       "     0,\n",
       "     0,\n",
       "     0,\n",
       "     0,\n",
       "     0,\n",
       "     0,\n",
       "     0,\n",
       "     0,\n",
       "     0,\n",
       "     0,\n",
       "     0,\n",
       "     0,\n",
       "     0,\n",
       "     0,\n",
       "     0,\n",
       "     0,\n",
       "     0,\n",
       "     0,\n",
       "     0,\n",
       "     0,\n",
       "     0,\n",
       "     0,\n",
       "     0,\n",
       "     0,\n",
       "     0,\n",
       "     0,\n",
       "     0,\n",
       "     0,\n",
       "     0,\n",
       "     0,\n",
       "     0,\n",
       "     0,\n",
       "     0,\n",
       "     0,\n",
       "     0,\n",
       "     0,\n",
       "     0,\n",
       "     0,\n",
       "     0,\n",
       "     0,\n",
       "     0,\n",
       "     0,\n",
       "     0,\n",
       "     0,\n",
       "     0,\n",
       "     0,\n",
       "     0,\n",
       "     0,\n",
       "     0,\n",
       "     0,\n",
       "     0,\n",
       "     0,\n",
       "     0,\n",
       "     0,\n",
       "     0,\n",
       "     0,\n",
       "     500,\n",
       "     500]},\n",
       "   '/TT1': {'/Type': '/Font',\n",
       "    '/Subtype': '/TrueType',\n",
       "    '/BaseFont': '/SLRTDM+Baskerville',\n",
       "    '/FontDescriptor': {'/Type': '/FontDescriptor',\n",
       "     '/FontName': '/SLRTDM+Baskerville',\n",
       "     '/Flags': 32,\n",
       "     '/FontBBox': [-506, -344, 1765, 961],\n",
       "     '/ItalicAngle': 0,\n",
       "     '/Ascent': 898,\n",
       "     '/Descent': -246,\n",
       "     '/CapHeight': 669,\n",
       "     '/StemV': 96,\n",
       "     '/XHeight': 400,\n",
       "     '/StemH': 22,\n",
       "     '/AvgWidth': 579,\n",
       "     '/MaxWidth': 1791,\n",
       "     '/FontFile2': {'/Length1': 5016, '/Filter': '/FlateDecode'}},\n",
       "    '/Encoding': '/MacRomanEncoding',\n",
       "    '/FirstChar': 32,\n",
       "    '/LastChar': 118,\n",
       "    '/Widths': [250,\n",
       "     0,\n",
       "     0,\n",
       "     0,\n",
       "     0,\n",
       "     0,\n",
       "     0,\n",
       "     0,\n",
       "     0,\n",
       "     0,\n",
       "     0,\n",
       "     0,\n",
       "     0,\n",
       "     0,\n",
       "     0,\n",
       "     0,\n",
       "     0,\n",
       "     500,\n",
       "     500,\n",
       "     500,\n",
       "     500,\n",
       "     500,\n",
       "     0,\n",
       "     0,\n",
       "     0,\n",
       "     0,\n",
       "     0,\n",
       "     0,\n",
       "     0,\n",
       "     0,\n",
       "     0,\n",
       "     0,\n",
       "     0,\n",
       "     677,\n",
       "     615,\n",
       "     719,\n",
       "     0,\n",
       "     625,\n",
       "     0,\n",
       "     0,\n",
       "     0,\n",
       "     354,\n",
       "     0,\n",
       "     0,\n",
       "     604,\n",
       "     0,\n",
       "     750,\n",
       "     823,\n",
       "     563,\n",
       "     0,\n",
       "     729,\n",
       "     542,\n",
       "     698,\n",
       "     771,\n",
       "     0,\n",
       "     0,\n",
       "     0,\n",
       "     0,\n",
       "     0,\n",
       "     0,\n",
       "     0,\n",
       "     0,\n",
       "     0,\n",
       "     0,\n",
       "     0,\n",
       "     469,\n",
       "     0,\n",
       "     0,\n",
       "     0,\n",
       "     438,\n",
       "     0,\n",
       "     469,\n",
       "     531,\n",
       "     250,\n",
       "     0,\n",
       "     0,\n",
       "     240,\n",
       "     802,\n",
       "     531,\n",
       "     500,\n",
       "     521,\n",
       "     0,\n",
       "     365,\n",
       "     333,\n",
       "     292,\n",
       "     521,\n",
       "     458]},\n",
       "   '/TT3': {'/Type': '/Font',\n",
       "    '/Subtype': '/TrueType',\n",
       "    '/BaseFont': '/VJMLYK+Baskerville',\n",
       "    '/FontDescriptor': {'/Type': '/FontDescriptor',\n",
       "     '/FontName': '/VJMLYK+Baskerville',\n",
       "     '/Flags': 4,\n",
       "     '/FontBBox': [-506, -344, 1765, 961],\n",
       "     '/ItalicAngle': 0,\n",
       "     '/Ascent': 898,\n",
       "     '/Descent': -246,\n",
       "     '/CapHeight': 669,\n",
       "     '/StemV': 96,\n",
       "     '/XHeight': 400,\n",
       "     '/StemH': 22,\n",
       "     '/AvgWidth': 579,\n",
       "     '/MaxWidth': 1791,\n",
       "     '/FontFile2': {'/Length1': 508, '/Filter': '/FlateDecode'}},\n",
       "    '/ToUnicode': {'/Filter': '/FlateDecode'},\n",
       "    '/FirstChar': 33,\n",
       "    '/LastChar': 33,\n",
       "    '/Widths': [0]}}},\n",
       " '/Contents': {'/Filter': '/FlateDecode'},\n",
       " '/MediaBox': [0, 0, 612, 792],\n",
       " '/Parent': {'/Type': '/Pages',\n",
       "  '/Count': 1,\n",
       "  '/Kids': [IndirectObject(4, 0, 5967452576)]}}"
      ]
     },
     "execution_count": 65,
     "metadata": {},
     "output_type": "execute_result"
    }
   ],
   "source": [
    "pdf_writer.add_page(first_page)"
   ]
  },
  {
   "cell_type": "code",
   "execution_count": 67,
   "id": "753a6f74-1939-4e57-862b-78c288eec80a",
   "metadata": {},
   "outputs": [],
   "source": [
    "pdf_output = open('Some_BrandNew_Doc.pdf', 'wb')"
   ]
  },
  {
   "cell_type": "code",
   "execution_count": 69,
   "id": "37c4017c-23b8-477c-8deb-2debed48c5c0",
   "metadata": {},
   "outputs": [
    {
     "data": {
      "text/plain": [
       "(False, <_io.BufferedWriter name='Some_BrandNew_Doc.pdf'>)"
      ]
     },
     "execution_count": 69,
     "metadata": {},
     "output_type": "execute_result"
    }
   ],
   "source": [
    "# Then to use the pdf writer to write into an actual pdf file\n",
    "pdf_writer.write(pdf_output)"
   ]
  },
  {
   "cell_type": "code",
   "execution_count": 71,
   "id": "69c8c73b-4672-443d-b037-a95ad15352b5",
   "metadata": {},
   "outputs": [],
   "source": [
    "f.close() # We need to close this"
   ]
  },
  {
   "cell_type": "code",
   "execution_count": 73,
   "id": "6e0b1a25-448c-40fb-b25c-6d80c9e67675",
   "metadata": {},
   "outputs": [],
   "source": [
    "# We also need to close the file that we have written to since it will be opened automatically"
   ]
  },
  {
   "cell_type": "code",
   "execution_count": 75,
   "id": "d619b3de-191a-4b23-85cb-25efd19e68f6",
   "metadata": {},
   "outputs": [],
   "source": [
    "pdf_output.close()"
   ]
  },
  {
   "cell_type": "code",
   "execution_count": 83,
   "id": "5e4e6c27-e42b-4aac-9955-9fa0848440ed",
   "metadata": {},
   "outputs": [],
   "source": [
    "f = open('Working_Business_Proposal.pdf', 'rb')\n",
    "\n",
    "pdf_text = []\n",
    "\n",
    "pdf_reader = PyPDF2.PdfReader(f)\n",
    "\n",
    "for num in range(len(pdf_reader.pages)):\n",
    "    page = pdf_reader.pages[num]\n",
    "\n",
    "    pdf_text.append(page.extract_text())"
   ]
  },
  {
   "cell_type": "code",
   "execution_count": 85,
   "id": "a2d15edc-ab6c-42f1-83e0-5990b0e7bdae",
   "metadata": {},
   "outputs": [
    {
     "data": {
      "text/plain": [
       "'Business Proposal The Revolution is Coming Leverage agile frameworks to provide a robust synopsis for high level overviews. Iterative approaches to corporate strategy foster collaborative thinking to further the overall value proposition. Organically grow the holistic world view of disruptive innovation via workplace diversity and empowerment. Bring to the table win-win survival strategies to ensure proactive domination. At the end of the day, going forward, a new normal that has evolved from generation X is on the runway heading towards a streamlined cloud solution. User generated content in real-time will have multiple touchpoints for offshoring. Capitalize on low hanging fruit to identify a ballpark value added activity to beta test. Override the digital divide with additional clickthroughs from DevOps. Nanotechnology immersion along the information highway will close the loop on focusing solely on the bottom line. Podcasting operational change management inside of workﬂows to establish a framework. Taking seamless key performance indicators ofﬂine to maximise the long tail. Keeping your eye on the ball while performing a deep dive on the start-up mentality to derive convergence on cross-platform integration. Collaboratively administrate empowered markets via plug-and-play networks. Dynamically procrastinate B2C users after installed base beneﬁts. Dramatically visualize customer directed convergence without revolutionary ROI. Efﬁciently unleash cross-media information without cross-media value. Quickly maximize timely deliverables for real-time schemas. Dramatically maintain clicks-and-mortar solutions without functional solutions. BUSINESS PROPOSAL!1'"
      ]
     },
     "execution_count": 85,
     "metadata": {},
     "output_type": "execute_result"
    }
   ],
   "source": [
    "# Then to get the text on each page\n",
    "pdf_text[0] # This will be the first page"
   ]
  },
  {
   "cell_type": "code",
   "execution_count": 89,
   "id": "35ecff57-878c-4bca-9050-eec590173bbb",
   "metadata": {},
   "outputs": [
    {
     "data": {
      "text/plain": [
       "'applications. Quickly drive clicks-and-mortar catalysts for change before vertical architectures. Credibly reintermediate backend ideas for cross-platform models. Continually reintermediate integrated processes through technically sound intellectual capital. Holistically foster superior methodologies without market-driven best practices. Distinctively exploit optimal alignments for intuitive bandwidth. Quickly coordinate e-business applications through revolutionary catalysts for change. Seamlessly underwhelm optimal testing procedures whereas bricks-and-clicks processes. Synergistically evolve 2.0 technologies rather than just in time initiatives. Quickly deploy strategic networks with compelling e-business. Credibly pontiﬁcate highly efﬁcient manufactured products and enabled data. Dynamically target high-payoff intellectual capital for customized technologies. Objectively integrate emerging core competencies before process-centric communities. Dramatically evisculate holistic innovation rather than client-centric data. Progressively maintain extensive infomediaries via extensible niches. Dramatically disseminate standardized metrics after resource-leveling processes. Objectively pursue diverse catalysts for change for interoperable meta-services. Proactively fabricate one-to-one materials via effective e-business. Completely synergize scalable e-commerce rather than high standards in e-services. Assertively iterate resource maximizing products after leading-edge intellectual capital. Distinctively re-engineer revolutionary meta-services and premium architectures. Intrinsically incubate intuitive opportunities and real-time potentialities. Appropriately communicate one-to-one technology after plug-and-play networks. Quickly aggregate B2B users and worldwide potentialities. Progressively plagiarize resource-leveling e-commerce through resource-leveling core BUSINESS PROPOSAL!3'"
      ]
     },
     "execution_count": 89,
     "metadata": {},
     "output_type": "execute_result"
    }
   ],
   "source": [
    "pdf_text[2]"
   ]
  },
  {
   "cell_type": "code",
   "execution_count": null,
   "id": "ecf9f071-59e2-4633-9ce4-174c8056fa81",
   "metadata": {},
   "outputs": [],
   "source": []
  }
 ],
 "metadata": {
  "kernelspec": {
   "display_name": "Python [conda env:base] *",
   "language": "python",
   "name": "conda-base-py"
  },
  "language_info": {
   "codemirror_mode": {
    "name": "ipython",
    "version": 3
   },
   "file_extension": ".py",
   "mimetype": "text/x-python",
   "name": "python",
   "nbconvert_exporter": "python",
   "pygments_lexer": "ipython3",
   "version": "3.12.7"
  }
 },
 "nbformat": 4,
 "nbformat_minor": 5
}
