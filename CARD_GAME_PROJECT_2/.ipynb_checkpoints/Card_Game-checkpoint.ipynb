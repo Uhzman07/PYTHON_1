{
 "cells": [
  {
   "cell_type": "code",
   "execution_count": 5,
   "id": "894c81cc-4d00-4faf-ad4b-d1dbff048792",
   "metadata": {},
   "outputs": [],
   "source": [
    "# CARD\n",
    "# SUIT, RANK, VALUE\n",
    "suits = ('Hearts', 'Diamonds', 'Spades', 'Clubs')\n",
    "ranks = ('Two', 'Three', 'Four', 'Five', 'Six', 'Seven', 'Eight', 'Nine', 'Ten', 'Jack', 'Queen',\n",
    "         'King', 'Ace')\n",
    "values = {'Two':2, 'Three':3, 'Four' : 4, 'Five': 5, 'Six' : 6, 'Seven': 7, 'Eight': 8,\n",
    "          'Nine' : 9, 'Ten' : 10, 'Jack' : 10, 'Queen' : 10, 'King' : 10, 'Ace' : 11}"
   ]
  },
  {
   "cell_type": "code",
   "execution_count": 7,
   "id": "1b69a678-a30d-4f4c-9dd6-4a038175dc39",
   "metadata": {},
   "outputs": [],
   "source": [
    "import random \n",
    "\n",
    "suits = ('Hearts', 'Diamonds', 'Spades', 'Clubs')\n",
    "ranks = ('Two', 'Three', 'Four', 'Five', 'Six', 'Seven', 'Eight', 'Nine', 'Ten', 'Jack', 'Queen',\n",
    "         'King', 'Ace')\n",
    "values = {'Two':2, 'Three':3, 'Four' : 4, 'Five': 5, 'Six' : 6, 'Seven': 7, 'Eight': 8,\n",
    "          'Nine' : 9, 'Ten' : 10, 'Jack' : 10, 'Queen' : 10, 'King' : 10, 'Ace' : 11}\n",
    "\n",
    "playing = True"
   ]
  },
  {
   "cell_type": "code",
   "execution_count": 9,
   "id": "4139cea3-f67d-4a89-9ba6-c71ff0af36b8",
   "metadata": {},
   "outputs": [],
   "source": [
    "# CARD CLASS"
   ]
  },
  {
   "cell_type": "code",
   "execution_count": 31,
   "id": "c7ea3a56-f9df-456e-9440-5140efabf36b",
   "metadata": {},
   "outputs": [],
   "source": [
    "class Card:\n",
    "\n",
    "    # Constructor\n",
    "    def __init__(self, suit, rank):\n",
    "        self.suit = suit\n",
    "        self.rank = rank\n",
    "\n",
    "    def __str__(self):\n",
    "        return self.rank + \" of \" + self.suit"
   ]
  },
  {
   "cell_type": "code",
   "execution_count": 33,
   "id": "e58e4d38-7bf5-49d8-80c8-45a7db56f1ea",
   "metadata": {},
   "outputs": [],
   "source": [
    "class Deck:\n",
    "\n",
    "    def __init__(self):\n",
    "        self.deck = [] # Start with an empty list\n",
    "        for suit in suits:\n",
    "            for rank in ranks:\n",
    "                self.deck.append(Card(suit, rank))\n",
    "\n",
    "    def __str__(self):\n",
    "        deck_comp = ''\n",
    "        for card in self.deck:\n",
    "            deck_comp += '\\n' + card.__str__()\n",
    "        return \"The deck has: \"+ deck_comp\n",
    "\n",
    "    # Here we are just shuffling and not returning anything\n",
    "    def shuffle(self):\n",
    "        random.shuffle(self.deck)\n",
    "\n",
    "    # This is \n",
    "    def deal(self):\n",
    "        single_card = self.deck.pop()\n",
    "        return single_card"
   ]
  },
  {
   "cell_type": "code",
   "execution_count": 35,
   "id": "dd49ba25-d8e0-478a-a1da-8a57ec2508c7",
   "metadata": {},
   "outputs": [
    {
     "name": "stdout",
     "output_type": "stream",
     "text": [
      "The deck has: \n",
      "Two of Hearts\n",
      "Three of Hearts\n",
      "Four of Hearts\n",
      "Five of Hearts\n",
      "Six of Hearts\n",
      "Seven of Hearts\n",
      "Eight of Hearts\n",
      "Nine of Hearts\n",
      "Ten of Hearts\n",
      "Jack of Hearts\n",
      "Queen of Hearts\n",
      "King of Hearts\n",
      "Ace of Hearts\n",
      "Two of Diamonds\n",
      "Three of Diamonds\n",
      "Four of Diamonds\n",
      "Five of Diamonds\n",
      "Six of Diamonds\n",
      "Seven of Diamonds\n",
      "Eight of Diamonds\n",
      "Nine of Diamonds\n",
      "Ten of Diamonds\n",
      "Jack of Diamonds\n",
      "Queen of Diamonds\n",
      "King of Diamonds\n",
      "Ace of Diamonds\n",
      "Two of Spades\n",
      "Three of Spades\n",
      "Four of Spades\n",
      "Five of Spades\n",
      "Six of Spades\n",
      "Seven of Spades\n",
      "Eight of Spades\n",
      "Nine of Spades\n",
      "Ten of Spades\n",
      "Jack of Spades\n",
      "Queen of Spades\n",
      "King of Spades\n",
      "Ace of Spades\n",
      "Two of Clubs\n",
      "Three of Clubs\n",
      "Four of Clubs\n",
      "Five of Clubs\n",
      "Six of Clubs\n",
      "Seven of Clubs\n",
      "Eight of Clubs\n",
      "Nine of Clubs\n",
      "Ten of Clubs\n",
      "Jack of Clubs\n",
      "Queen of Clubs\n",
      "King of Clubs\n",
      "Ace of Clubs\n"
     ]
    }
   ],
   "source": [
    "test_deck = Deck()\n",
    "print(test_deck)"
   ]
  },
  {
   "cell_type": "code",
   "execution_count": 57,
   "id": "8c928efc-707e-4ca9-9750-36057b43c062",
   "metadata": {},
   "outputs": [],
   "source": [
    "# HAND CLASS\n",
    "class Hand:\n",
    "\n",
    "    def __init__ (self):\n",
    "        self.cards = [] # Start with an empty list as we did in the Deck Class\n",
    "        self.value = 0 # Start with ZERO Value\n",
    "        self.aces = 0 # Add an attribute to keep track of aces\n",
    "\n",
    "    # This is for the add a card to the hand\n",
    "    def add_card(self, card):\n",
    "        # Card passed in\n",
    "        # from Deck.deal() --> single Card(suit,rank)\n",
    "        self.cards.append(card)\n",
    "        self.value += values[card.rank]\n",
    "\n",
    "        # Track aces\n",
    "        if card.rank == 'Ace':\n",
    "            self.aces += 1\n",
    "\n",
    "    # This is to adjust for aces\n",
    "    def adjust_for_ace(self):\n",
    "\n",
    "        # IF TOTAL VALUE > 21 AND I STILL HAVE AN ACE\n",
    "        # Then change my ace to be a 1 instead of an 11\n",
    "        while self.value > 21 and self.aces > 0:\n",
    "            self.value -= 10\n",
    "            self.aces -= 1\n",
    "            \n",
    "        "
   ]
  },
  {
   "cell_type": "code",
   "execution_count": null,
   "id": "deed6cd2-cf8d-4372-87ac-347394e95963",
   "metadata": {},
   "outputs": [],
   "source": [
    "zero = 0\n",
    "one = 1\n",
    "two = 2"
   ]
  },
  {
   "cell_type": "code",
   "execution_count": 59,
   "id": "99096e0f-4e46-4793-b9bc-0897967127cb",
   "metadata": {},
   "outputs": [
    {
     "name": "stdout",
     "output_type": "stream",
     "text": [
      "TRUE\n"
     ]
    }
   ],
   "source": [
    "if 2:\n",
    "    print('TRUE')"
   ]
  },
  {
   "cell_type": "code",
   "execution_count": null,
   "id": "8f7e3e00-3209-48f7-b498-9fbe010eee41",
   "metadata": {},
   "outputs": [
    {
     "name": "stdout",
     "output_type": "stream",
     "text": [
      "Eight of Spades\n",
      "8\n"
     ]
    }
   ],
   "source": [
    "test_deck = Deck()\n",
    "test_deck.shuffle()\n",
    "\n",
    "# PLAYER\n",
    "test_player = Hand()\n",
    "\n",
    "# Deal 1 card from the deck CARD\n",
    "pulled_card = test_deck.deal()\n",
    "\n",
    "print(pulled_card)\n",
    "\n",
    "test_player.add_card(pulled_card)\n",
    "\n",
    "print(test_player.value)"
   ]
  },
  {
   "cell_type": "code",
   "execution_count": 53,
   "id": "fbc5a949-9ca7-429a-a7c4-af8bfe5b8ed1",
   "metadata": {},
   "outputs": [],
   "source": [
    "test_player.add_card(test_deck.deal())"
   ]
  },
  {
   "cell_type": "code",
   "execution_count": 55,
   "id": "462c9ab2-0aee-451f-8cf4-724179e29505",
   "metadata": {},
   "outputs": [
    {
     "data": {
      "text/plain": [
       "10"
      ]
     },
     "execution_count": 55,
     "metadata": {},
     "output_type": "execute_result"
    }
   ],
   "source": [
    "test_player.value"
   ]
  },
  {
   "cell_type": "code",
   "execution_count": 61,
   "id": "30c83e68-1c68-46b4-900c-86cd0515f423",
   "metadata": {},
   "outputs": [],
   "source": [
    "# CHIP CLASS\n",
    "# In addition to decks of cards and hands, we need to keep track of a Player's starting chips, bets, and ongoing winnings.\n",
    "# This could be done using global variables, but in the spirit of object-oriented programming"
   ]
  },
  {
   "cell_type": "code",
   "execution_count": 63,
   "id": "4ddd6dbe-28d1-465b-a7b2-5857f6190650",
   "metadata": {},
   "outputs": [],
   "source": [
    "class Chips:\n",
    "    def __init__(self, total=100):\n",
    "        self.total = total\n",
    "        self.bet = 0\n",
    "\n",
    "    def win_bet(self):\n",
    "        self.total += self.bet\n",
    "\n",
    "    def lose_bet(self):\n",
    "        self.total -= self.bet"
   ]
  },
  {
   "cell_type": "code",
   "execution_count": 65,
   "id": "56f03c4b-c85f-4a1c-ac50-8372007891d7",
   "metadata": {},
   "outputs": [],
   "source": [
    "# Taking bets\n",
    "# This would be a case to make use of the try/except \n",
    "# Player's bet can be covered by their available chips\n",
    "def take_bet(chips):\n",
    "    while True:\n",
    "        try:\n",
    "            chips.bet = int(input(\"How many chips would you like to bet? \"))\n",
    "        except ValueError:\n",
    "            print(\"Sorry please provide an integer\")\n",
    "        else:\n",
    "            if chips.bet > chips.total:\n",
    "                print('Sorry, you do not have enough chips! You have: {}'.format(chips.total))\n",
    "            else:\n",
    "                break"
   ]
  },
  {
   "cell_type": "code",
   "execution_count": 67,
   "id": "95bfd50a-33c3-467e-9570-264f586912cd",
   "metadata": {},
   "outputs": [],
   "source": [
    "# HIT\n",
    "def hit(deck, hand):\n",
    "    single_card = deck.deal()\n",
    "    hand.add_card(single_card)\n",
    "    hand.adjust_for_ace()\n",
    "    "
   ]
  },
  {
   "cell_type": "code",
   "execution_count": 71,
   "id": "362c48e2-1575-40d8-9d30-a0fa3ee1d344",
   "metadata": {},
   "outputs": [],
   "source": [
    "# HIT OR STAND\n",
    "def hit_or_stand(deck, hand):\n",
    "    global playing # to control an upcoming while loop\n",
    "\n",
    "    while True:\n",
    "        x = input('Hit or Stand? Enter h or s')\n",
    "\n",
    "        if x[0].lower() == 'h':\n",
    "            hit(deck,hand)\n",
    "\n",
    "        elif x[0].lower() == 's':\n",
    "            print(\"Player stands. Dealer is playing\")\n",
    "            playing = False\n",
    "            \n",
    "        else: \n",
    "            print(\"Sorry, please try again.\")\n",
    "            continue\n",
    "        break"
   ]
  },
  {
   "cell_type": "code",
   "execution_count": 75,
   "id": "bc1dc444-f804-4ee6-91d9-30e9c1ca4a72",
   "metadata": {},
   "outputs": [],
   "source": [
    "def show_some(player, dealer):\n",
    "    \n",
    "    # Dealer.cards[0]\n",
    "    \n",
    "    \n",
    "    # Show only ONE of the dealer's cards\n",
    "    print(\"\\n Dealer's Hand: \")\n",
    "    print(\"First card Hidden!\")\n",
    "    print(dealer.cards[1])\n",
    "\n",
    "    # Show all (2 cards) of the player's hand/\n",
    "    print(\"\\n Player's hand: \")\n",
    "    for card in player.cards:\n",
    "        print(card)\n",
    "\n",
    "def show_all(player, dealer):\n",
    "    \n",
    "    # Show all the dealer's cards\n",
    "    print(\"\\n Dealer's hand: \")\n",
    "    for card in dealer.cards:\n",
    "        print(card)\n",
    "        \n",
    "    # This is just like an iterator to iterate through every item in the list and print\n",
    "    print(\"\\n Dealer's hand: \", *dealer.cards, sep= '\\n')    # Note this please\n",
    "\n",
    "    # Calculate and display value (J+K == 20)\n",
    "    print(f\"Value of Dealer's hand is: {dealer.value}\")\n",
    "\n",
    "    # Show all the player's cards\n",
    "    print(\"\\n Player's hand: \")\n",
    "    for card in player.cards:\n",
    "        print(card)\n",
    "    print(f\"Value of Player's hand is : {player.value}\")\n",
    "    "
   ]
  },
  {
   "cell_type": "code",
   "execution_count": 77,
   "id": "9493c41b-84f5-4b93-b750-aca7745d7fc7",
   "metadata": {},
   "outputs": [],
   "source": [
    "# This handles the end of game scenarios\n",
    "def player_busts(player, dealer, chips):\n",
    "    print(\"BUST PLAYER!\")\n",
    "    chips.lose_bet()\n",
    "\n",
    "def player_wins(player, dealer, chips):\n",
    "    print('PLAYER WINS!')\n",
    "    chips.win_bet()\n",
    "\n",
    "def dealer_busts(player, dealer, chips):\n",
    "    print('PLAYER WINS! DEALER BUSTED!')\n",
    "    chips.win_bet()\n",
    "    \n",
    "def dealer_wins(player, dealer, chips):\n",
    "    print(\"DEALER WINS!\")\n",
    "    chips.lose_bet()\n",
    "\n",
    "def push(player, dealer):\n",
    "    print('Dealer and player tie! PUSH')\n",
    "    "
   ]
  },
  {
   "cell_type": "code",
   "execution_count": 79,
   "id": "e96dda20-5405-4aa9-93e4-e77b2ff0b1c0",
   "metadata": {},
   "outputs": [
    {
     "name": "stdout",
     "output_type": "stream",
     "text": [
      "WELCOME TO BLACKJACK\n"
     ]
    },
    {
     "name": "stdin",
     "output_type": "stream",
     "text": [
      "How many chips would you like to bet?  200\n"
     ]
    },
    {
     "name": "stdout",
     "output_type": "stream",
     "text": [
      "Sorry, you do not have enough chips! You have: 100\n"
     ]
    },
    {
     "name": "stdin",
     "output_type": "stream",
     "text": [
      "How many chips would you like to bet?  50\n"
     ]
    },
    {
     "name": "stdout",
     "output_type": "stream",
     "text": [
      "\n",
      " Dealer's Hand: \n",
      "First card Hidden!\n",
      "Nine of Diamonds\n",
      "\n",
      " Player's hand: \n",
      "Queen of Clubs\n",
      "Ten of Diamonds\n"
     ]
    },
    {
     "name": "stdin",
     "output_type": "stream",
     "text": [
      "Hit or Stand? Enter h or s h\n"
     ]
    },
    {
     "name": "stdout",
     "output_type": "stream",
     "text": [
      "\n",
      " Dealer's Hand: \n",
      "First card Hidden!\n",
      "Nine of Diamonds\n",
      "\n",
      " Player's hand: \n",
      "Queen of Clubs\n",
      "Ten of Diamonds\n",
      "King of Clubs\n",
      "BUST PLAYER!\n",
      "\n",
      " Player total chips are at: 50\n"
     ]
    },
    {
     "name": "stdin",
     "output_type": "stream",
     "text": [
      "Would you like to play another hand? y/n y\n"
     ]
    },
    {
     "name": "stdout",
     "output_type": "stream",
     "text": [
      "WELCOME TO BLACKJACK\n"
     ]
    },
    {
     "name": "stdin",
     "output_type": "stream",
     "text": [
      "How many chips would you like to bet?  100\n"
     ]
    },
    {
     "name": "stdout",
     "output_type": "stream",
     "text": [
      "\n",
      " Dealer's Hand: \n",
      "First card Hidden!\n",
      "King of Clubs\n",
      "\n",
      " Player's hand: \n",
      "Six of Spades\n",
      "Eight of Clubs\n"
     ]
    },
    {
     "name": "stdin",
     "output_type": "stream",
     "text": [
      "Hit or Stand? Enter h or s s\n"
     ]
    },
    {
     "name": "stdout",
     "output_type": "stream",
     "text": [
      "Player stands. Dealer is playing\n",
      "\n",
      " Dealer's Hand: \n",
      "First card Hidden!\n",
      "King of Clubs\n",
      "\n",
      " Player's hand: \n",
      "Six of Spades\n",
      "Eight of Clubs\n",
      "\n",
      " Dealer's hand: \n",
      "Four of Diamonds\n",
      "King of Clubs\n",
      "\n",
      " Dealer's hand: \n",
      "Four of Diamonds\n",
      "King of Clubs\n",
      "Value of Dealer's hand is: 14\n",
      "\n",
      " Player's hand: \n",
      "Six of Spades\n",
      "Eight of Clubs\n",
      "Value of Player's hand is : 14\n",
      "Dealer and player tie! PUSH\n",
      "\n",
      " Player total chips are at: 100\n"
     ]
    },
    {
     "name": "stdin",
     "output_type": "stream",
     "text": [
      "Would you like to play another hand? y/n n\n"
     ]
    },
    {
     "name": "stdout",
     "output_type": "stream",
     "text": [
      "Thank you for playing\n"
     ]
    }
   ],
   "source": [
    "# THIS IS TO RUN THE GAME\n",
    "while True:\n",
    "    # Print an opening statement\n",
    "    print(\"WELCOME TO BLACKJACK\")\n",
    "\n",
    "    # Create & Shuffle the deck, deal two cards to each player\n",
    "    deck = Deck()\n",
    "    deck.shuffle()\n",
    "\n",
    "    player_hand = Hand()\n",
    "    player_hand.add_card(deck.deal())\n",
    "    player_hand.add_card(deck.deal())\n",
    "\n",
    "    dealer_hand = Hand()\n",
    "    dealer_hand.add_card(deck.deal())\n",
    "    dealer_hand.add_card(deck.deal())\n",
    "\n",
    "    # Set up the Player's chips\n",
    "    player_chips = Chips()\n",
    "\n",
    "    # Prompt the Player for their bet\n",
    "    take_bet(player_chips)\n",
    "\n",
    "    # Show cards (but keep one dealer card hidden)\n",
    "    show_some(player_hand, dealer_hand)\n",
    "\n",
    "    while playing: # recall this variable from our hit_or_stand function\n",
    "        # Prompt for player to Hit or Stand\n",
    "        hit_or_stand(deck, player_hand)\n",
    "\n",
    "        # Show cards (but keep one dealer card hidden)\n",
    "        show_some(player_hand, dealer_hand)\n",
    "\n",
    "\n",
    "        # If player's hand exceeds 21, run player_busts() and break out of loop\n",
    "        if player_hand.value > 21:\n",
    "            player_busts(player_hand, dealer_hand, player_chips)\n",
    "            \n",
    "            break\n",
    "        \n",
    "    # If player hasn't busted, play Dealer's hand until Dealer reaches 17\n",
    "    if player_hand.value <= 21:\n",
    "        \n",
    "        while dealer_hand.value < player_hand.value:\n",
    "            hit(deck, dealer_hand)\n",
    "            \n",
    "        # Show all cards\n",
    "        show_all(player_hand, dealer_hand)\n",
    "\n",
    "        # Run different winning scenarios\n",
    "        if dealer_hand.value> 21:\n",
    "            dealer_busts(player_hand, dealer_hand, player_chips)\n",
    "            \n",
    "        elif dealer_hand.value > player_hand.value:\n",
    "            dealer_wins(player_hand, dealer_hand, player_chips)\n",
    "\n",
    "        elif dealer_hand.value < player_hand.value:\n",
    "            player_wins(player_hand, dealer_hand, player_chips)\n",
    "\n",
    "        else:\n",
    "            push(player_hand, dealer_hand)\n",
    "\n",
    "    # Inform Player of their chips total\n",
    "    print('\\n Player total chips are at: {}'.format(player_chips.total))\n",
    "\n",
    "    # Ask to play again\n",
    "    new_game = input (\"Would you like to play another hand? y/n\")\n",
    "\n",
    "    if new_game[0].lower() == 'y':\n",
    "        playing = True\n",
    "        continue\n",
    "    else:\n",
    "        print(\"Thank you for playing\")\n",
    "        break\n",
    "        "
   ]
  },
  {
   "cell_type": "code",
   "execution_count": null,
   "id": "a02b8e46-f7d5-42ba-9f3e-cc03a4f7a4a4",
   "metadata": {},
   "outputs": [],
   "source": []
  }
 ],
 "metadata": {
  "kernelspec": {
   "display_name": "Python [conda env:base] *",
   "language": "python",
   "name": "conda-base-py"
  },
  "language_info": {
   "codemirror_mode": {
    "name": "ipython",
    "version": 3
   },
   "file_extension": ".py",
   "mimetype": "text/x-python",
   "name": "python",
   "nbconvert_exporter": "python",
   "pygments_lexer": "ipython3",
   "version": "3.12.7"
  }
 },
 "nbformat": 4,
 "nbformat_minor": 5
}
