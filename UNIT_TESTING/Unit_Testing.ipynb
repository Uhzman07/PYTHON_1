{
 "cells": [
  {
   "cell_type": "code",
   "execution_count": 1,
   "id": "f509cae5-7b77-46b9-b07d-203b6138f344",
   "metadata": {},
   "outputs": [],
   "source": [
    "# We need to install the pylint \n",
    "# pip install pylint\n",
    "# To run the file \n",
    "# pylint filename.py -r y # This means report (yes(\n",
    "# This automates a report for our code\n",
    "# We also get a lot of stats about our code"
   ]
  },
  {
   "cell_type": "code",
   "execution_count": null,
   "id": "e47c7acc-6c8f-4acb-97c4-3ed5dfb8666a",
   "metadata": {},
   "outputs": [],
   "source": []
  }
 ],
 "metadata": {
  "kernelspec": {
   "display_name": "Python [conda env:base] *",
   "language": "python",
   "name": "conda-base-py"
  },
  "language_info": {
   "codemirror_mode": {
    "name": "ipython",
    "version": 3
   },
   "file_extension": ".py",
   "mimetype": "text/x-python",
   "name": "python",
   "nbconvert_exporter": "python",
   "pygments_lexer": "ipython3",
   "version": "3.12.7"
  }
 },
 "nbformat": 4,
 "nbformat_minor": 5
}
