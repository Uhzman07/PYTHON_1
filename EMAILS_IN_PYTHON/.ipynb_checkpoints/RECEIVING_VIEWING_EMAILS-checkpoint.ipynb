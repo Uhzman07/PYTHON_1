{
 "cells": [
  {
   "cell_type": "code",
   "execution_count": 1,
   "id": "6331bd61-961f-4b42-b2b0-8258c732b8be",
   "metadata": {},
   "outputs": [],
   "source": [
    "# VIEWING EMAILS"
   ]
  },
  {
   "cell_type": "code",
   "execution_count": 2,
   "id": "3661dcb6-6bad-4608-b544-ec71466d29cc",
   "metadata": {},
   "outputs": [],
   "source": [
    "import imaplib"
   ]
  },
  {
   "cell_type": "code",
   "execution_count": 3,
   "id": "55c9b748-384b-4691-bff8-67414dc9c4c4",
   "metadata": {},
   "outputs": [],
   "source": [
    "M = imaplib.IMAP4_SSL('imap.gmail.com') "
   ]
  },
  {
   "cell_type": "code",
   "execution_count": 4,
   "id": "8ebe045b-3bb2-43f4-9637-08d0f64b21db",
   "metadata": {},
   "outputs": [],
   "source": [
    "import getpass\n"
   ]
  },
  {
   "cell_type": "code",
   "execution_count": 5,
   "id": "05c6f3d2-f621-4df0-ae34-1786ca224506",
   "metadata": {},
   "outputs": [
    {
     "name": "stdin",
     "output_type": "stream",
     "text": [
      "Email:  ········\n",
      "Password:  ········\n"
     ]
    }
   ],
   "source": [
    "email = getpass.getpass(\"Email: \")\n",
    "password = getpass.getpass(\"Password: \") # This is the app password, that is the one we created"
   ]
  },
  {
   "cell_type": "code",
   "execution_count": 12,
   "id": "ee25d307-a751-4f72-9b3f-455e20088b04",
   "metadata": {},
   "outputs": [
    {
     "data": {
      "text/plain": [
       "'loaf tiup zers tmwo'"
      ]
     },
     "execution_count": 12,
     "metadata": {},
     "output_type": "execute_result"
    }
   ],
   "source": [
    "password"
   ]
  },
  {
   "cell_type": "code",
   "execution_count": 14,
   "id": "a1e707c2-fd37-484f-bcfa-ba6f38c883c4",
   "metadata": {},
   "outputs": [],
   "source": [
    "# Then login"
   ]
  },
  {
   "cell_type": "code",
   "execution_count": 16,
   "id": "6ca32be4-11f8-4f1e-a498-0b47f09991af",
   "metadata": {},
   "outputs": [
    {
     "data": {
      "text/plain": [
       "('OK', [b'sadiqus2004@gmail.com authenticated (Success)'])"
      ]
     },
     "execution_count": 16,
     "metadata": {},
     "output_type": "execute_result"
    }
   ],
   "source": [
    "M.login(email, password)"
   ]
  },
  {
   "cell_type": "code",
   "execution_count": 20,
   "id": "2433b770-6a9e-45d0-a265-5e3e89bc701e",
   "metadata": {},
   "outputs": [
    {
     "data": {
      "text/plain": [
       "('OK',\n",
       " [b'(\\\\HasNoChildren) \"/\" \"INBOX\"',\n",
       "  b'(\\\\HasChildren \\\\Noselect) \"/\" \"[Gmail]\"',\n",
       "  b'(\\\\All \\\\HasNoChildren) \"/\" \"[Gmail]/All Mail\"',\n",
       "  b'(\\\\Drafts \\\\HasNoChildren) \"/\" \"[Gmail]/Drafts\"',\n",
       "  b'(\\\\HasNoChildren \\\\Important) \"/\" \"[Gmail]/Important\"',\n",
       "  b'(\\\\HasNoChildren \\\\Sent) \"/\" \"[Gmail]/Sent Mail\"',\n",
       "  b'(\\\\HasNoChildren \\\\Junk) \"/\" \"[Gmail]/Spam\"',\n",
       "  b'(\\\\Flagged \\\\HasNoChildren) \"/\" \"[Gmail]/Starred\"',\n",
       "  b'(\\\\HasNoChildren \\\\Trash) \"/\" \"[Gmail]/Trash\"'])"
      ]
     },
     "execution_count": 20,
     "metadata": {},
     "output_type": "execute_result"
    }
   ],
   "source": [
    "M.list() # This will show a list of all the folder structures that we can access"
   ]
  },
  {
   "cell_type": "code",
   "execution_count": 22,
   "id": "4095fcdb-3207-444f-969e-9151c28c70f9",
   "metadata": {},
   "outputs": [
    {
     "data": {
      "text/plain": [
       "('OK', [b'8248'])"
      ]
     },
     "execution_count": 22,
     "metadata": {},
     "output_type": "execute_result"
    }
   ],
   "source": [
    "M.select('INBOX')"
   ]
  },
  {
   "cell_type": "code",
   "execution_count": 24,
   "id": "06af3278-4711-49c4-9326-d0010631e0c1",
   "metadata": {},
   "outputs": [],
   "source": [
    "# Then to search our email"
   ]
  },
  {
   "cell_type": "code",
   "execution_count": 26,
   "id": "fe632f98-86d0-4965-bfeb-7603be233efa",
   "metadata": {},
   "outputs": [],
   "source": [
    "typ, data = M.search(None, 'BEFORE 01-Nov-2000') # We could have \"SINCE\", \"ONE\", \"SEEN\", \"UNSEE\"\n",
    "# None here means search through all the emails regardless"
   ]
  },
  {
   "cell_type": "code",
   "execution_count": 32,
   "id": "47085af0-fec5-4675-a53b-592b01fa9886",
   "metadata": {},
   "outputs": [],
   "source": [
    "typ, data = M.search(None, 'SUBJECT \"NEW TEST PYTHON\"') # This is to search for an email with a particular subject name"
   ]
  },
  {
   "cell_type": "code",
   "execution_count": 34,
   "id": "5c5ad40a-0399-41d1-88c8-ed9f23fe34b4",
   "metadata": {},
   "outputs": [
    {
     "data": {
      "text/plain": [
       "'OK'"
      ]
     },
     "execution_count": 34,
     "metadata": {},
     "output_type": "execute_result"
    }
   ],
   "source": [
    "typ"
   ]
  },
  {
   "cell_type": "code",
   "execution_count": 38,
   "id": "ab72e328-1575-43a3-a2d5-0de175cd0ea4",
   "metadata": {},
   "outputs": [
    {
     "data": {
      "text/plain": [
       "[b'8248']"
      ]
     },
     "execution_count": 38,
     "metadata": {},
     "output_type": "execute_result"
    }
   ],
   "source": [
    "data # This should return a number for us to see"
   ]
  },
  {
   "cell_type": "code",
   "execution_count": 40,
   "id": "23c8fa59-7d6c-45f0-bac9-7dd0a7bc59d4",
   "metadata": {},
   "outputs": [],
   "source": [
    "email_id = data[0]"
   ]
  },
  {
   "cell_type": "code",
   "execution_count": 42,
   "id": "3f448c05-2521-481b-afd7-35c878866404",
   "metadata": {},
   "outputs": [
    {
     "data": {
      "text/plain": [
       "'OK'"
      ]
     },
     "execution_count": 42,
     "metadata": {},
     "output_type": "execute_result"
    }
   ],
   "source": [
    "typ"
   ]
  },
  {
   "cell_type": "code",
   "execution_count": 44,
   "id": "0a9daeec-b303-4723-8241-e876cc100227",
   "metadata": {},
   "outputs": [],
   "source": [
    "result, email_data = M.fetch(email_id, '(RFC822)') # This code here is to represent the protocol"
   ]
  },
  {
   "cell_type": "code",
   "execution_count": 46,
   "id": "78c8a56e-6a16-44b0-9263-4a64976e049a",
   "metadata": {},
   "outputs": [
    {
     "data": {
      "text/plain": [
       "b'8248'"
      ]
     },
     "execution_count": 46,
     "metadata": {},
     "output_type": "execute_result"
    }
   ],
   "source": [
    "email_id"
   ]
  },
  {
   "cell_type": "code",
   "execution_count": 48,
   "id": "2571a9e4-13c1-49c8-8790-762b26a93a1a",
   "metadata": {},
   "outputs": [
    {
     "data": {
      "text/plain": [
       "[(b'8248 (RFC822 {578}',\n",
       "  b'Bcc: sadiqus2004@gmail.com\\r\\nReturn-Path: <sadiqus2004@gmail.com>\\r\\nReceived: from tbb5f.wpa.dal.ca (TBB5F.WPA.Dal.Ca. [134.190.187.95])\\r\\n        by smtp.gmail.com with ESMTPSA id 6a1803df08f44-6f4c08ef0cdsm27670206d6.18.2025.04.25.16.01.20\\r\\n        for <sadiqus2004@gmail.com>\\r\\n        (version=TLS1_3 cipher=TLS_AES_256_GCM_SHA384 bits=256/256);\\r\\n        Fri, 25 Apr 2025 16:01:20 -0700 (PDT)\\r\\nMessage-ID: <680c1440.050a0220.21f6fe.086a@mx.google.com>\\r\\nDate: Fri, 25 Apr 2025 16:01:20 -0700 (PDT)\\r\\nFrom: sadiqus2004@gmail.com\\r\\nSubject: NEW TEST PYTHON\\r\\n\\r\\nHello this is a test!\\r\\n'),\n",
       " b')']"
      ]
     },
     "execution_count": 48,
     "metadata": {},
     "output_type": "execute_result"
    }
   ],
   "source": [
    "email_data"
   ]
  },
  {
   "cell_type": "code",
   "execution_count": 50,
   "id": "faf1b277-802a-4336-a839-461ddbd869e0",
   "metadata": {},
   "outputs": [],
   "source": [
    "# The actual email data"
   ]
  },
  {
   "cell_type": "code",
   "execution_count": 52,
   "id": "c070b737-f75d-43dc-8007-539c77f83218",
   "metadata": {},
   "outputs": [],
   "source": [
    "raw_email = email_data[0][1]"
   ]
  },
  {
   "cell_type": "code",
   "execution_count": 54,
   "id": "5568527d-13a4-48d2-aeb5-26dd7c4c5ea4",
   "metadata": {},
   "outputs": [],
   "source": [
    "raw_email_string = raw_email.decode('utf-8')"
   ]
  },
  {
   "cell_type": "code",
   "execution_count": 56,
   "id": "f2730475-cb87-4482-b5bc-4c47afd9f89b",
   "metadata": {},
   "outputs": [],
   "source": [
    "import email"
   ]
  },
  {
   "cell_type": "code",
   "execution_count": 58,
   "id": "93839210-25cb-4e1b-93ae-264abd698e55",
   "metadata": {},
   "outputs": [],
   "source": [
    "email_message = email.message_from_string(raw_email_string)"
   ]
  },
  {
   "cell_type": "code",
   "execution_count": 64,
   "id": "11737a84-985b-4325-bb4c-e3db22fbf575",
   "metadata": {},
   "outputs": [
    {
     "name": "stdout",
     "output_type": "stream",
     "text": [
      "b'Hello this is a test!\\r\\n'\n"
     ]
    }
   ],
   "source": [
    "for part in email_message.walk():\n",
    "    if part.get_content_type() == 'text/plain': # Check if it is the actual text\n",
    "        body = part.get_payload(decode = True)\n",
    "        print(body)"
   ]
  },
  {
   "cell_type": "code",
   "execution_count": null,
   "id": "5438ec99-7691-4c16-b40a-94c75c15e788",
   "metadata": {},
   "outputs": [],
   "source": []
  }
 ],
 "metadata": {
  "kernelspec": {
   "display_name": "Python [conda env:base] *",
   "language": "python",
   "name": "conda-base-py"
  },
  "language_info": {
   "codemirror_mode": {
    "name": "ipython",
    "version": 3
   },
   "file_extension": ".py",
   "mimetype": "text/x-python",
   "name": "python",
   "nbconvert_exporter": "python",
   "pygments_lexer": "ipython3",
   "version": "3.12.7"
  }
 },
 "nbformat": 4,
 "nbformat_minor": 5
}
