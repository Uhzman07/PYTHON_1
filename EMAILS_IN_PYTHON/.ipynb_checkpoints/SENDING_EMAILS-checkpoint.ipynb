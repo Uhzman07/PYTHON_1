{
 "cells": [
  {
   "cell_type": "code",
   "execution_count": 34,
   "id": "b1e7a9b7-3a8b-432d-af44-c118f7571d97",
   "metadata": {},
   "outputs": [],
   "source": [
    "import smtplib"
   ]
  },
  {
   "cell_type": "code",
   "execution_count": 36,
   "id": "151e4e32-bbed-4a76-8db3-5dc150e47e26",
   "metadata": {},
   "outputs": [],
   "source": [
    "smtp_object = smtplib.SMTP('smtp.gmail.com', 587) # We are using the gmail domain here, we also have other ones like yahoo, outlook, and all. We can also make use of different port numbers as well like 465 ( Or not even include it at all) "
   ]
  },
  {
   "cell_type": "code",
   "execution_count": 38,
   "id": "1b866794-4f62-4da0-94d5-a403b5ecaa34",
   "metadata": {},
   "outputs": [
    {
     "data": {
      "text/plain": [
       "(250,\n",
       " b'smtp.gmail.com at your service, [134.190.187.95]\\nSIZE 35882577\\n8BITMIME\\nSTARTTLS\\nENHANCEDSTATUSCODES\\nPIPELINING\\nCHUNKING\\nSMTPUTF8')"
      ]
     },
     "execution_count": 38,
     "metadata": {},
     "output_type": "execute_result"
    }
   ],
   "source": [
    "smtp_object.ehlo() # This reads the server i.e a connection with the server"
   ]
  },
  {
   "cell_type": "code",
   "execution_count": 40,
   "id": "4218351c-5cb6-4c0b-a803-481e96bc45c2",
   "metadata": {},
   "outputs": [
    {
     "data": {
      "text/plain": [
       "(220, b'2.0.0 Ready to start TLS')"
      ]
     },
     "execution_count": 40,
     "metadata": {},
     "output_type": "execute_result"
    }
   ],
   "source": [
    "smtp_object.starttls() # This is only important for port 587, if we are using the port \"465\" we do not need to since it uses SSL"
   ]
  },
  {
   "cell_type": "code",
   "execution_count": 14,
   "id": "06297f17-80a9-466c-99fe-5a8cf2efd8b5",
   "metadata": {},
   "outputs": [],
   "source": [
    "# Don't make your email and password visible. We should make use of an input. Then we can also encrypt it"
   ]
  },
  {
   "cell_type": "code",
   "execution_count": 16,
   "id": "05f84132-1838-4a53-96e8-cc09e282c85a",
   "metadata": {},
   "outputs": [
    {
     "name": "stdin",
     "output_type": "stream",
     "text": [
      "What is your password:  vissbsbs leke\n"
     ]
    }
   ],
   "source": [
    "password = input('What is your password: ')"
   ]
  },
  {
   "cell_type": "code",
   "execution_count": 18,
   "id": "cfc6580a-4296-40eb-a9e7-050b6ab275a4",
   "metadata": {},
   "outputs": [],
   "source": [
    "import getpass # This is to make the password non visible"
   ]
  },
  {
   "cell_type": "code",
   "execution_count": 20,
   "id": "6d7930ff-3b1f-470a-afb3-e0ae33002b7d",
   "metadata": {},
   "outputs": [
    {
     "name": "stdin",
     "output_type": "stream",
     "text": [
      "Password please:  ········\n"
     ]
    }
   ],
   "source": [
    "password = getpass.getpass('Password please: ')"
   ]
  },
  {
   "cell_type": "code",
   "execution_count": 22,
   "id": "812a3711-ab2f-4805-abe7-c6f64098abd9",
   "metadata": {},
   "outputs": [
    {
     "data": {
      "text/plain": [
       "'Ahshs'"
      ]
     },
     "execution_count": 22,
     "metadata": {},
     "output_type": "execute_result"
    }
   ],
   "source": [
    "password"
   ]
  },
  {
   "cell_type": "code",
   "execution_count": 24,
   "id": "3104f9b1-cc0f-4473-be6e-0aefa5d9cbcd",
   "metadata": {},
   "outputs": [],
   "source": [
    "# Go to google, add 2 step verification (Turn it on) that is, add your mobile number\n",
    "# google how to generate app password ( Go to the site)\n",
    "# Set up the app name\n",
    "# Then it would generate the app password"
   ]
  },
  {
   "cell_type": "code",
   "execution_count": 44,
   "id": "bd0fe0e5-682e-4ce7-8724-5070140248b4",
   "metadata": {},
   "outputs": [
    {
     "name": "stdin",
     "output_type": "stream",
     "text": [
      "Email:  ········\n",
      "Password:  ········\n"
     ]
    },
    {
     "data": {
      "text/plain": [
       "(235, b'2.7.0 Accepted')"
      ]
     },
     "execution_count": 44,
     "metadata": {},
     "output_type": "execute_result"
    }
   ],
   "source": [
    "email = getpass.getpass(\"Email: \")\n",
    "password = getpass.getpass(\"Password: \")\n",
    "smtp_object.login(email,password) # Note that we need to do this as soon as possible so that there is no disconnection"
   ]
  },
  {
   "cell_type": "code",
   "execution_count": 48,
   "id": "1f897c24-61ba-4d82-b70a-193002878aec",
   "metadata": {},
   "outputs": [
    {
     "name": "stdin",
     "output_type": "stream",
     "text": [
      "Enter the Subject Line:  NEW TEST PYTHON\n",
      "Enter the body message:  Hello this is a test!\n"
     ]
    },
    {
     "data": {
      "text/plain": [
       "{}"
      ]
     },
     "execution_count": 48,
     "metadata": {},
     "output_type": "execute_result"
    }
   ],
   "source": [
    "from_address = email\n",
    "to_address = email\n",
    "subject = input(\"Enter the Subject Line: \")\n",
    "message = input(\"Enter the body message: \")\n",
    "msg = \"Subject: \" + subject + '\\n' + message # Note that it has to be in this format\n",
    "\n",
    "# Then to actually sent the mail address\n",
    "smtp_object.sendmail(from_address, to_address, msg)"
   ]
  },
  {
   "cell_type": "code",
   "execution_count": 54,
   "id": "890b59a2-920a-46f1-a46d-2ccf09a3f7b5",
   "metadata": {},
   "outputs": [
    {
     "ename": "SMTPServerDisconnected",
     "evalue": "please run connect() first",
     "output_type": "error",
     "traceback": [
      "\u001b[0;31m---------------------------------------------------------------------------\u001b[0m",
      "\u001b[0;31mSMTPServerDisconnected\u001b[0m                    Traceback (most recent call last)",
      "Cell \u001b[0;32mIn[54], line 1\u001b[0m\n\u001b[0;32m----> 1\u001b[0m smtp_object\u001b[38;5;241m.\u001b[39mquit()\n",
      "File \u001b[0;32m/opt/anaconda3/lib/python3.12/smtplib.py:993\u001b[0m, in \u001b[0;36mSMTP.quit\u001b[0;34m(self)\u001b[0m\n\u001b[1;32m    991\u001b[0m \u001b[38;5;28;01mdef\u001b[39;00m \u001b[38;5;21mquit\u001b[39m(\u001b[38;5;28mself\u001b[39m):\n\u001b[1;32m    992\u001b[0m \u001b[38;5;250m    \u001b[39m\u001b[38;5;124;03m\"\"\"Terminate the SMTP session.\"\"\"\u001b[39;00m\n\u001b[0;32m--> 993\u001b[0m     res \u001b[38;5;241m=\u001b[39m \u001b[38;5;28mself\u001b[39m\u001b[38;5;241m.\u001b[39mdocmd(\u001b[38;5;124m\"\u001b[39m\u001b[38;5;124mquit\u001b[39m\u001b[38;5;124m\"\u001b[39m)\n\u001b[1;32m    994\u001b[0m     \u001b[38;5;66;03m# A new EHLO is required after reconnecting with connect()\u001b[39;00m\n\u001b[1;32m    995\u001b[0m     \u001b[38;5;28mself\u001b[39m\u001b[38;5;241m.\u001b[39mehlo_resp \u001b[38;5;241m=\u001b[39m \u001b[38;5;28mself\u001b[39m\u001b[38;5;241m.\u001b[39mhelo_resp \u001b[38;5;241m=\u001b[39m \u001b[38;5;28;01mNone\u001b[39;00m\n",
      "File \u001b[0;32m/opt/anaconda3/lib/python3.12/smtplib.py:431\u001b[0m, in \u001b[0;36mSMTP.docmd\u001b[0;34m(self, cmd, args)\u001b[0m\n\u001b[1;32m    429\u001b[0m \u001b[38;5;28;01mdef\u001b[39;00m \u001b[38;5;21mdocmd\u001b[39m(\u001b[38;5;28mself\u001b[39m, cmd, args\u001b[38;5;241m=\u001b[39m\u001b[38;5;124m\"\u001b[39m\u001b[38;5;124m\"\u001b[39m):\n\u001b[1;32m    430\u001b[0m \u001b[38;5;250m    \u001b[39m\u001b[38;5;124;03m\"\"\"Send a command, and return its response code.\"\"\"\u001b[39;00m\n\u001b[0;32m--> 431\u001b[0m     \u001b[38;5;28mself\u001b[39m\u001b[38;5;241m.\u001b[39mputcmd(cmd, args)\n\u001b[1;32m    432\u001b[0m     \u001b[38;5;28;01mreturn\u001b[39;00m \u001b[38;5;28mself\u001b[39m\u001b[38;5;241m.\u001b[39mgetreply()\n",
      "File \u001b[0;32m/opt/anaconda3/lib/python3.12/smtplib.py:378\u001b[0m, in \u001b[0;36mSMTP.putcmd\u001b[0;34m(self, cmd, args)\u001b[0m\n\u001b[1;32m    374\u001b[0m     s \u001b[38;5;241m=\u001b[39m s\u001b[38;5;241m.\u001b[39mreplace(\u001b[38;5;124m'\u001b[39m\u001b[38;5;130;01m\\n\u001b[39;00m\u001b[38;5;124m'\u001b[39m, \u001b[38;5;124m'\u001b[39m\u001b[38;5;130;01m\\\\\u001b[39;00m\u001b[38;5;124mn\u001b[39m\u001b[38;5;124m'\u001b[39m)\u001b[38;5;241m.\u001b[39mreplace(\u001b[38;5;124m'\u001b[39m\u001b[38;5;130;01m\\r\u001b[39;00m\u001b[38;5;124m'\u001b[39m, \u001b[38;5;124m'\u001b[39m\u001b[38;5;130;01m\\\\\u001b[39;00m\u001b[38;5;124mr\u001b[39m\u001b[38;5;124m'\u001b[39m)\n\u001b[1;32m    375\u001b[0m     \u001b[38;5;28;01mraise\u001b[39;00m \u001b[38;5;167;01mValueError\u001b[39;00m(\n\u001b[1;32m    376\u001b[0m         \u001b[38;5;124mf\u001b[39m\u001b[38;5;124m'\u001b[39m\u001b[38;5;124mcommand and arguments contain prohibited newline characters: \u001b[39m\u001b[38;5;132;01m{\u001b[39;00ms\u001b[38;5;132;01m}\u001b[39;00m\u001b[38;5;124m'\u001b[39m\n\u001b[1;32m    377\u001b[0m     )\n\u001b[0;32m--> 378\u001b[0m \u001b[38;5;28mself\u001b[39m\u001b[38;5;241m.\u001b[39msend(\u001b[38;5;124mf\u001b[39m\u001b[38;5;124m'\u001b[39m\u001b[38;5;132;01m{\u001b[39;00ms\u001b[38;5;132;01m}\u001b[39;00m\u001b[38;5;132;01m{\u001b[39;00mCRLF\u001b[38;5;132;01m}\u001b[39;00m\u001b[38;5;124m'\u001b[39m)\n",
      "File \u001b[0;32m/opt/anaconda3/lib/python3.12/smtplib.py:365\u001b[0m, in \u001b[0;36mSMTP.send\u001b[0;34m(self, s)\u001b[0m\n\u001b[1;32m    363\u001b[0m         \u001b[38;5;28;01mraise\u001b[39;00m SMTPServerDisconnected(\u001b[38;5;124m'\u001b[39m\u001b[38;5;124mServer not connected\u001b[39m\u001b[38;5;124m'\u001b[39m)\n\u001b[1;32m    364\u001b[0m \u001b[38;5;28;01melse\u001b[39;00m:\n\u001b[0;32m--> 365\u001b[0m     \u001b[38;5;28;01mraise\u001b[39;00m SMTPServerDisconnected(\u001b[38;5;124m'\u001b[39m\u001b[38;5;124mplease run connect() first\u001b[39m\u001b[38;5;124m'\u001b[39m)\n",
      "\u001b[0;31mSMTPServerDisconnected\u001b[0m: please run connect() first"
     ]
    }
   ],
   "source": [
    "smtp_object.quit() # We need to close it as well"
   ]
  },
  {
   "cell_type": "code",
   "execution_count": null,
   "id": "3c6f1eaa-3a00-4edd-a003-7c449d5dee6c",
   "metadata": {},
   "outputs": [],
   "source": []
  }
 ],
 "metadata": {
  "kernelspec": {
   "display_name": "Python [conda env:base] *",
   "language": "python",
   "name": "conda-base-py"
  },
  "language_info": {
   "codemirror_mode": {
    "name": "ipython",
    "version": 3
   },
   "file_extension": ".py",
   "mimetype": "text/x-python",
   "name": "python",
   "nbconvert_exporter": "python",
   "pygments_lexer": "ipython3",
   "version": "3.12.7"
  }
 },
 "nbformat": 4,
 "nbformat_minor": 5
}
