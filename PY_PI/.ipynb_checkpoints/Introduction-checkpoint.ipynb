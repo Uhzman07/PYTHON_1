{
 "cells": [
  {
   "cell_type": "code",
   "execution_count": null,
   "id": "2a0c1c35-33a1-4e6a-b91c-0eb1945a70a8",
   "metadata": {},
   "outputs": [],
   "source": [
    "# pip install\n",
    "# pip install colorama\n",
    "# python\n",
    "# Do this program\n",
    "'''\n",
    "SyntaxError: invalid syntax\n",
    ">>> from colorama import init\n",
    ">>> init()\n",
    ">>> from colorama import Fore\n",
    ">>> print(Fore.RED + \"someone\") # This changes the colour in the terminal\n",
    "''' \n",
    "# To get any python package, type \"pyhton package for ....\" this is for anything that we need\n",
    "\n",
    "# This is for excel files\n",
    "# pip install openpyxl"
   ]
  }
 ],
 "metadata": {
  "kernelspec": {
   "display_name": "Python [conda env:base] *",
   "language": "python",
   "name": "conda-base-py"
  },
  "language_info": {
   "codemirror_mode": {
    "name": "ipython",
    "version": 3
   },
   "file_extension": ".py",
   "mimetype": "text/x-python",
   "name": "python",
   "nbconvert_exporter": "python",
   "pygments_lexer": "ipython3",
   "version": "3.12.7"
  }
 },
 "nbformat": 4,
 "nbformat_minor": 5
}
