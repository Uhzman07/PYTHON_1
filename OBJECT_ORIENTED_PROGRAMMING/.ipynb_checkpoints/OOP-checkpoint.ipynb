{
 "cells": [
  {
   "cell_type": "code",
   "execution_count": 3,
   "id": "452432c4-7503-4d0e-b06e-e5a001283b1e",
   "metadata": {},
   "outputs": [],
   "source": [
    "mylist = [1,2,3]\n"
   ]
  },
  {
   "cell_type": "code",
   "execution_count": null,
   "id": "021eaad9-eaf5-4f45-8e00-72588d641bfc",
   "metadata": {},
   "outputs": [],
   "source": [
    "type(mylist)"
   ]
  },
  {
   "cell_type": "code",
   "execution_count": 15,
   "id": "b67f0e7e-1e1b-4819-8061-0a8ba508757d",
   "metadata": {},
   "outputs": [],
   "source": [
    "myset = set()\n",
    "myset.add(1)"
   ]
  },
  {
   "cell_type": "code",
   "execution_count": 75,
   "id": "f1723b06-44ea-4a94-84e9-dcf552412ae0",
   "metadata": {},
   "outputs": [],
   "source": [
    "class Dog():\n",
    "\n",
    "    # CLASS OBJECT ATTRIBUTE\n",
    "    # SAME FOR ANY INSTANCE OF A CLASS\n",
    "    species = 'mammal' # This is a class attribute that is also available to its instances\n",
    "    \n",
    "    # This is for the constructor\n",
    "    def __init__(self, breed, name):\n",
    "\n",
    "        # Attributes\n",
    "        # We take in the argument\n",
    "        # Assign it using self.attribute_name\n",
    "        self.breed = breed\n",
    "        self.name = name\n",
    "\n",
    "        # Expect boolean True/False\n",
    "        #self.spots = spots\n",
    "        \n",
    "\n",
    "    # OPERATIONS/Actions ---> Methods\n",
    "    def bark(self, number):\n",
    "        print(\"WOOF! My name is {} and the number is {}\".format(self.name, number))"
   ]
  },
  {
   "cell_type": "code",
   "execution_count": 77,
   "id": "558f8e8c-ebd4-44f3-ad99-8ece2ae48d04",
   "metadata": {},
   "outputs": [],
   "source": [
    "# Note that this is the actual name that represents the parameter \n",
    "# This does not represent the actual attribute associated with the class\n",
    "#my_dog = Dog(breed = 'Lab',name = 'Sammy', spots = \"NO SPOTS\")\n",
    "my_dog = Dog('Lab', 'Frankie')"
   ]
  },
  {
   "cell_type": "code",
   "execution_count": 59,
   "id": "84fa367c-1fc9-4f4a-8506-6e0b3feaf1db",
   "metadata": {},
   "outputs": [
    {
     "data": {
      "text/plain": [
       "__main__.Dog"
      ]
     },
     "execution_count": 59,
     "metadata": {},
     "output_type": "execute_result"
    }
   ],
   "source": [
    "type(my_dog)"
   ]
  },
  {
   "cell_type": "code",
   "execution_count": 61,
   "id": "b8155f84-ae62-4ec4-b138-62c49608b5d7",
   "metadata": {},
   "outputs": [
    {
     "data": {
      "text/plain": [
       "'Lab'"
      ]
     },
     "execution_count": 61,
     "metadata": {},
     "output_type": "execute_result"
    }
   ],
   "source": [
    "my_dog.breed"
   ]
  },
  {
   "cell_type": "code",
   "execution_count": 63,
   "id": "15657d5b-d02c-4e6e-b5aa-93efe06523d5",
   "metadata": {},
   "outputs": [
    {
     "data": {
      "text/plain": [
       "'Frankie'"
      ]
     },
     "execution_count": 63,
     "metadata": {},
     "output_type": "execute_result"
    }
   ],
   "source": [
    "my_dog.name"
   ]
  },
  {
   "cell_type": "code",
   "execution_count": 71,
   "id": "1bd9e409-c798-4a0f-bc58-ec419f096937",
   "metadata": {},
   "outputs": [
    {
     "data": {
      "text/plain": [
       "'mammal'"
      ]
     },
     "execution_count": 71,
     "metadata": {},
     "output_type": "execute_result"
    }
   ],
   "source": [
    "# We are also able to access this attribute directly\n",
    "my_dog.species"
   ]
  },
  {
   "cell_type": "code",
   "execution_count": 79,
   "id": "8c784848-6ae0-4f9c-8651-690bfa877659",
   "metadata": {},
   "outputs": [
    {
     "name": "stdout",
     "output_type": "stream",
     "text": [
      "WOOF! My name is Frankie and the number is 30\n"
     ]
    }
   ],
   "source": [
    "my_dog.bark(30)"
   ]
  },
  {
   "cell_type": "code",
   "execution_count": 93,
   "id": "311cab1b-3808-4153-a1d9-e93a9d23577a",
   "metadata": {},
   "outputs": [],
   "source": [
    "class Circle():\n",
    "\n",
    "    # CLASS OBJECT ATTRIBUTE\n",
    "    pi = 3.14 # This is because we are sure that we do not want this value to change \n",
    "\n",
    "    def __init__(self, radius = 1): # Note that we have just set a default parameter to this\n",
    "        self.radius = radius\n",
    "        self.area = radius * radius * Circle.pi # Note that we can also do this\n",
    "        # We are referencing \"pi\" this way because it is a class object attribute\n",
    "\n",
    "    # METHOD\n",
    "    def get_circumference(self):\n",
    "        return self.radius * Circle.pi * 2\n",
    "        "
   ]
  },
  {
   "cell_type": "code",
   "execution_count": 95,
   "id": "6e0de187-6d0d-481d-a65f-8020668ba798",
   "metadata": {},
   "outputs": [],
   "source": [
    "my_circle = Circle(30)"
   ]
  },
  {
   "cell_type": "code",
   "execution_count": 97,
   "id": "bb4990e1-b772-4ba1-a084-da47bf71e7f7",
   "metadata": {},
   "outputs": [
    {
     "data": {
      "text/plain": [
       "3.14"
      ]
     },
     "execution_count": 97,
     "metadata": {},
     "output_type": "execute_result"
    }
   ],
   "source": [
    "my_circle.pi"
   ]
  },
  {
   "cell_type": "code",
   "execution_count": 99,
   "id": "48311ed5-3c4c-4762-93a4-fd97a57c7a8f",
   "metadata": {},
   "outputs": [],
   "source": [
    "my_circle2 = Circle() # Here the default value (1) works instead"
   ]
  },
  {
   "cell_type": "code",
   "execution_count": 101,
   "id": "dd3c26c1-05ed-480b-b2fe-ae5c9eabfdf4",
   "metadata": {},
   "outputs": [
    {
     "data": {
      "text/plain": [
       "1"
      ]
     },
     "execution_count": 101,
     "metadata": {},
     "output_type": "execute_result"
    }
   ],
   "source": [
    "my_circle2.radius"
   ]
  },
  {
   "cell_type": "code",
   "execution_count": 105,
   "id": "147c1973-c219-4eb6-bc85-be22eebd65eb",
   "metadata": {},
   "outputs": [
    {
     "data": {
      "text/plain": [
       "188.4"
      ]
     },
     "execution_count": 105,
     "metadata": {},
     "output_type": "execute_result"
    }
   ],
   "source": [
    "my_circle.get_circumference()"
   ]
  },
  {
   "cell_type": "code",
   "execution_count": 107,
   "id": "48677e5e-92f4-4778-bc53-05dab0caca8f",
   "metadata": {},
   "outputs": [],
   "source": [
    "# INHERITANCE AND POLYMORPHISM"
   ]
  },
  {
   "cell_type": "code",
   "execution_count": 109,
   "id": "159af849-a17e-491b-acad-8673e513aae7",
   "metadata": {},
   "outputs": [],
   "source": [
    "# INHERITANCE"
   ]
  },
  {
   "cell_type": "code",
   "execution_count": 161,
   "id": "f3d6cdfb-5c31-4f2f-b7ba-b6bead76e889",
   "metadata": {},
   "outputs": [],
   "source": [
    "class Animal():\n",
    "\n",
    "    def __init__(self):\n",
    "        print(\"ANIMAL CREATED\")\n",
    "\n",
    "    def who_am_i(self):\n",
    "        print(\"I am an animal\")\n",
    "\n",
    "    def eat(self):\n",
    "        print(\"I am eating\")"
   ]
  },
  {
   "cell_type": "code",
   "execution_count": 171,
   "id": "d53c46e0-88c8-48e6-8506-f5ddb6c08d6c",
   "metadata": {},
   "outputs": [],
   "source": [
    "# Dog Inherits \n",
    "# Here it inherits some functions from the \"ANIMAL\" class\n",
    "class Dog(Animal): # This allows us to have access to the parent class's functions\n",
    "    def __init__(self):\n",
    "        \n",
    "        # This is to make use of the superclass's constructor as well\n",
    "        Animal.__init__(self)\n",
    "\n",
    "        print(\"Dog Created\")\n",
    "        \n",
    "    def bark(self):\n",
    "        print(\"WOOF!\")\n",
    "\n",
    "    # Having a similar method will allow it to overwrite the parent class's method\n",
    "    def eat(self):\n",
    "        print(\"I am a dog eating!\")\n",
    "    \n",
    "        \n",
    "    "
   ]
  },
  {
   "cell_type": "code",
   "execution_count": 173,
   "id": "72270567-bc0a-4210-b8ad-bfeb335a1ce6",
   "metadata": {},
   "outputs": [
    {
     "name": "stdout",
     "output_type": "stream",
     "text": [
      "Dog Created\n"
     ]
    }
   ],
   "source": [
    "mydog = Dog()"
   ]
  },
  {
   "cell_type": "code",
   "execution_count": 175,
   "id": "456f1db1-9a40-442a-8257-a111b9514ae5",
   "metadata": {},
   "outputs": [
    {
     "name": "stdout",
     "output_type": "stream",
     "text": [
      "I am a dog eating!\n"
     ]
    }
   ],
   "source": [
    "mydog.eat()"
   ]
  },
  {
   "cell_type": "code",
   "execution_count": 177,
   "id": "60c8db29-f658-47da-aec3-e461b7654e8a",
   "metadata": {},
   "outputs": [
    {
     "name": "stdout",
     "output_type": "stream",
     "text": [
      "I am an animal\n"
     ]
    }
   ],
   "source": [
    "mydog.who_am_i()"
   ]
  },
  {
   "cell_type": "code",
   "execution_count": 179,
   "id": "be9bca34-8543-41b1-85d6-0fdc105c1b8a",
   "metadata": {},
   "outputs": [],
   "source": [
    "##### POLYMORPHISM"
   ]
  },
  {
   "cell_type": "code",
   "execution_count": 203,
   "id": "9558624d-ec36-472e-98e9-5c6b7661a84d",
   "metadata": {},
   "outputs": [],
   "source": [
    "class Dog():\n",
    "\n",
    "    def __init__(self, name):\n",
    "        self.name = name\n",
    "\n",
    "    def speak(self):\n",
    "        return self.name + \" says woof!\""
   ]
  },
  {
   "cell_type": "code",
   "execution_count": 205,
   "id": "fd648bc9-098f-4a67-bc3b-c4d0751ade3b",
   "metadata": {},
   "outputs": [],
   "source": [
    "class Cat():\n",
    "\n",
    "    def __init__(self, name):\n",
    "        self.name = name\n",
    "\n",
    "    def speak(self):\n",
    "        return self.name + \" says meow!\""
   ]
  },
  {
   "cell_type": "code",
   "execution_count": 207,
   "id": "38ef4d83-597f-4fbb-98c3-8ed699c5e164",
   "metadata": {},
   "outputs": [],
   "source": [
    "niko = Dog(\"niko\")\n",
    "felix = Cat(\"felix\")"
   ]
  },
  {
   "cell_type": "code",
   "execution_count": 209,
   "id": "326a2d33-8b9a-45b4-ada4-dfc2027c7374",
   "metadata": {},
   "outputs": [
    {
     "name": "stdout",
     "output_type": "stream",
     "text": [
      "niko says woof!\n"
     ]
    }
   ],
   "source": [
    "print(niko.speak())"
   ]
  },
  {
   "cell_type": "code",
   "execution_count": 211,
   "id": "68da3c23-55c3-434d-aa7c-4e3d523afcd0",
   "metadata": {},
   "outputs": [
    {
     "name": "stdout",
     "output_type": "stream",
     "text": [
      "felix says meow!\n"
     ]
    }
   ],
   "source": [
    "print(felix.speak())"
   ]
  },
  {
   "cell_type": "code",
   "execution_count": 217,
   "id": "61feadec-aa13-4b04-83d4-df86c8ea0aa9",
   "metadata": {},
   "outputs": [
    {
     "name": "stdout",
     "output_type": "stream",
     "text": [
      "<class '__main__.Dog'>\n",
      "<class 'str'>\n",
      "<class '__main__.Cat'>\n",
      "<class 'str'>\n"
     ]
    }
   ],
   "source": [
    "# This is used to differentiate instances (Polymorphism)\n",
    "for pet in [niko, felix]:\n",
    "    print(type(pet))\n",
    "    print(type(pet.speak()))"
   ]
  },
  {
   "cell_type": "code",
   "execution_count": 221,
   "id": "c3ddefb8-c848-49d0-9d7f-762a10e97a7b",
   "metadata": {},
   "outputs": [],
   "source": [
    "def pet_speak(pet):\n",
    "    # Here python will be able to tell which instance it is\n",
    "    print(pet.speak())"
   ]
  },
  {
   "cell_type": "code",
   "execution_count": 223,
   "id": "6ae8d961-8408-4349-859b-fd5f6ec22c78",
   "metadata": {},
   "outputs": [
    {
     "name": "stdout",
     "output_type": "stream",
     "text": [
      "niko says woof!\n"
     ]
    }
   ],
   "source": [
    "pet_speak(niko)"
   ]
  },
  {
   "cell_type": "code",
   "execution_count": 225,
   "id": "f52a45a3-ff71-42f1-8504-ed2d481c04df",
   "metadata": {},
   "outputs": [
    {
     "name": "stdout",
     "output_type": "stream",
     "text": [
      "felix says meow!\n"
     ]
    }
   ],
   "source": [
    "pet_speak(felix)"
   ]
  },
  {
   "cell_type": "code",
   "execution_count": 229,
   "id": "cc5f63e3-40b3-45e5-9b6e-258558ac8f01",
   "metadata": {},
   "outputs": [],
   "source": [
    "# This is to simulate an abstract class that is, we want all the methods to be owned by the subclasses\n",
    "class Animal():\n",
    "\n",
    "    def __init__(self, name):\n",
    "        self.name = name\n",
    "\n",
    "    # This is like an abstract method that is, we want it to be implemented and overridden by all of its sub-classes instead\n",
    "    def speak(self):\n",
    "        raise NotImplementedError(\"Subclass must implement this abstract method\")\n",
    "    "
   ]
  },
  {
   "cell_type": "code",
   "execution_count": 233,
   "id": "cf04690a-eb89-400e-85e0-37957d71e88d",
   "metadata": {},
   "outputs": [],
   "source": [
    "class Dog(Animal):\n",
    "\n",
    "    def speak(self):\n",
    "        return self.name + \" says woof!\"\n",
    "    "
   ]
  },
  {
   "cell_type": "code",
   "execution_count": 235,
   "id": "2731c9e8-934e-42e7-ac19-794381967343",
   "metadata": {},
   "outputs": [],
   "source": [
    "class Cat(Animal):\n",
    "    def speak(self):\n",
    "        return self.name + \" says meow!\""
   ]
  },
  {
   "cell_type": "code",
   "execution_count": 237,
   "id": "45b0c8d9-7ead-4b8c-b2f5-e6d9aec8f005",
   "metadata": {},
   "outputs": [],
   "source": [
    "fido = Dog(\"Fido\")"
   ]
  },
  {
   "cell_type": "code",
   "execution_count": 239,
   "id": "ff66d973-d0eb-4a39-b05b-b76ce7416119",
   "metadata": {},
   "outputs": [],
   "source": [
    "isis = Cat(\"Isis\")"
   ]
  },
  {
   "cell_type": "code",
   "execution_count": 241,
   "id": "2666cecb-6666-4191-9047-420de959962c",
   "metadata": {},
   "outputs": [
    {
     "name": "stdout",
     "output_type": "stream",
     "text": [
      "Fido says woof!\n"
     ]
    }
   ],
   "source": [
    "print(fido.speak())"
   ]
  },
  {
   "cell_type": "code",
   "execution_count": 243,
   "id": "50571b05-3436-446b-bbb1-94d68033d9c5",
   "metadata": {},
   "outputs": [
    {
     "name": "stdout",
     "output_type": "stream",
     "text": [
      "Isis says meow!\n"
     ]
    }
   ],
   "source": [
    "print(isis.speak())"
   ]
  },
  {
   "cell_type": "code",
   "execution_count": 245,
   "id": "2dbc5dce-0159-41c9-9576-8d83c0a06022",
   "metadata": {},
   "outputs": [],
   "source": [
    "## PART FOUR"
   ]
  },
  {
   "cell_type": "code",
   "execution_count": null,
   "id": "729320b2-bfe8-4ca8-8113-ce67d85a396f",
   "metadata": {},
   "outputs": [],
   "source": [
    "# These are like the inbuilt functions that are related to the actual class instance"
   ]
  },
  {
   "cell_type": "code",
   "execution_count": 314,
   "id": "7e51750a-d170-4f40-bb55-b2d3249db349",
   "metadata": {},
   "outputs": [],
   "source": [
    "class Book():\n",
    "\n",
    "    def __init__(self, title, author, pages):\n",
    "        self.title = title\n",
    "        self.author = author\n",
    "        self.pages = pages\n",
    "\n",
    "    # This will be automatically recognized by the print() function\n",
    "    # This is similar to \"toString()\" in JAVA\n",
    "    def __str__(self):\n",
    "        return f\"{self.title} by {self.author}\"\n",
    "\n",
    "    # This is detected by the \"len()\" function\n",
    "    def __len__(self):\n",
    "        return self.pages\n",
    "\n",
    "    # This is detected by \"del\" function -- This is when we are to delete a class object\n",
    "    def __del__(self):\n",
    "        print(\"A book object has been deleted\")\n",
    "        \n",
    "        "
   ]
  },
  {
   "cell_type": "code",
   "execution_count": 322,
   "id": "20254a05-ad80-42cf-9047-8f0538c291c6",
   "metadata": {},
   "outputs": [],
   "source": [
    "b = Book('Python rocks', 'Jose', 200)"
   ]
  },
  {
   "cell_type": "code",
   "execution_count": 310,
   "id": "6b289621-7da0-41f0-8f69-9a0c52c76dbf",
   "metadata": {},
   "outputs": [
    {
     "name": "stdout",
     "output_type": "stream",
     "text": [
      "Python rocks by Jose\n"
     ]
    }
   ],
   "source": [
    "# Note that this will automatically catch anything returned by the \"__str__\" function\n",
    "print(b)"
   ]
  },
  {
   "cell_type": "code",
   "execution_count": 312,
   "id": "837cd77e-74f3-465f-8470-fac660129d8b",
   "metadata": {},
   "outputs": [
    {
     "data": {
      "text/plain": [
       "200"
      ]
     },
     "execution_count": 312,
     "metadata": {},
     "output_type": "execute_result"
    }
   ],
   "source": [
    "# This is the function that catches anything related to the \"__len__\" function\n",
    "len(b)"
   ]
  },
  {
   "cell_type": "code",
   "execution_count": 318,
   "id": "5ddeb108-6345-430c-9646-bdddeee034f5",
   "metadata": {},
   "outputs": [
    {
     "name": "stdout",
     "output_type": "stream",
     "text": [
      "A book object has been deleted\n"
     ]
    }
   ],
   "source": [
    "# This is to delete any sort of variables or instances from the memory\n",
    "del b # After doing this, then we have to re-instantiate our Book Class to be able to use it again"
   ]
  },
  {
   "cell_type": "code",
   "execution_count": 324,
   "id": "44fdcc87-abc6-4cb6-903d-d12e6d1dd55e",
   "metadata": {},
   "outputs": [
    {
     "data": {
      "text/plain": [
       "<__main__.Book at 0x12f6a0440>"
      ]
     },
     "execution_count": 324,
     "metadata": {},
     "output_type": "execute_result"
    }
   ],
   "source": [
    "b"
   ]
  },
  {
   "cell_type": "code",
   "execution_count": null,
   "id": "e72b334a-0459-4fbd-8df8-a60b26727e9e",
   "metadata": {},
   "outputs": [],
   "source": [
    "# ASSIGNMENT SOLUTIONS"
   ]
  },
  {
   "cell_type": "code",
   "execution_count": 338,
   "id": "72e5624c-8581-456b-a0ff-053e963f64d2",
   "metadata": {},
   "outputs": [],
   "source": [
    "# This is used to calculate the slope and distance of two lines given their coordinates"
   ]
  },
  {
   "cell_type": "code",
   "execution_count": 340,
   "id": "45936191-b29a-48b2-90ef-0e8b80f620ce",
   "metadata": {},
   "outputs": [],
   "source": [
    "class Line: \n",
    "    def __init__(self, coor1, coor2):\n",
    "        self.coor1 = coor1\n",
    "        self.coor2 = coor2\n",
    "\n",
    "    def distance(self):\n",
    "        \n",
    "        x1, y1 = self.coor1\n",
    "        x2,y2 = self.coor2\n",
    "\n",
    "        return ((x2-x1)**2 + (y2-y1)**2)**0.5\n",
    "\n",
    "    def slope(self):\n",
    "        x1, y1 = self.coor1\n",
    "        x2, y2 = self.coor2\n",
    "\n",
    "        return (y2-y1) / (x2-x1)"
   ]
  },
  {
   "cell_type": "code",
   "execution_count": 342,
   "id": "9bc1c98b-0002-4a46-96d2-2d1d74dca9b8",
   "metadata": {},
   "outputs": [],
   "source": [
    "c1 = (3,2)\n",
    "c2 = (8,10)"
   ]
  },
  {
   "cell_type": "code",
   "execution_count": 344,
   "id": "bb1199c4-50df-4252-b39d-24f272d75237",
   "metadata": {},
   "outputs": [],
   "source": [
    "myline = Line(c1, c2)"
   ]
  },
  {
   "cell_type": "code",
   "execution_count": 346,
   "id": "a5ca835c-9363-4660-b9ca-b8b8d4d64594",
   "metadata": {},
   "outputs": [
    {
     "data": {
      "text/plain": [
       "9.433981132056603"
      ]
     },
     "execution_count": 346,
     "metadata": {},
     "output_type": "execute_result"
    }
   ],
   "source": [
    "myline.distance()"
   ]
  },
  {
   "cell_type": "code",
   "execution_count": 348,
   "id": "87f81449-f9bf-41b8-8517-22b477c89ef7",
   "metadata": {},
   "outputs": [
    {
     "data": {
      "text/plain": [
       "1.6"
      ]
     },
     "execution_count": 348,
     "metadata": {},
     "output_type": "execute_result"
    }
   ],
   "source": [
    "myline.slope()"
   ]
  },
  {
   "cell_type": "code",
   "execution_count": 350,
   "id": "fa7bb629-778b-465c-9a24-cdf92d833880",
   "metadata": {},
   "outputs": [],
   "source": [
    "## This is used for the cylinder"
   ]
  },
  {
   "cell_type": "code",
   "execution_count": 360,
   "id": "d49d1292-efa0-4cd9-a661-55685c834ce4",
   "metadata": {},
   "outputs": [],
   "source": [
    "class Cylinder:\n",
    "    def __init__(self, height=1, radius=1):\n",
    "        self.height = height\n",
    "        self.radius = radius\n",
    "\n",
    "    def volume(self):\n",
    "        return self.height * 3.14 * (self.radius)**2\n",
    "\n",
    "    def surface_area(self):\n",
    "        top = 3.14 * (self.radius**2)\n",
    "\n",
    "        return (2*top) + (2*3.14*self.radius*self.height)"
   ]
  },
  {
   "cell_type": "code",
   "execution_count": 362,
   "id": "c21a04cb-5c79-4b13-b5e5-f6b85dbbfc66",
   "metadata": {},
   "outputs": [],
   "source": [
    "mycyl = Cylinder(2,3)"
   ]
  },
  {
   "cell_type": "code",
   "execution_count": 356,
   "id": "ba203513-2ac3-4b30-bf9a-d7187b01830a",
   "metadata": {},
   "outputs": [
    {
     "data": {
      "text/plain": [
       "56.52"
      ]
     },
     "execution_count": 356,
     "metadata": {},
     "output_type": "execute_result"
    }
   ],
   "source": [
    "mycyl.volume()"
   ]
  },
  {
   "cell_type": "code",
   "execution_count": 366,
   "id": "be0f0edb-401b-4959-b50a-c29cc274d7ba",
   "metadata": {},
   "outputs": [
    {
     "data": {
      "text/plain": [
       "94.2"
      ]
     },
     "execution_count": 366,
     "metadata": {},
     "output_type": "execute_result"
    }
   ],
   "source": [
    "mycyl.surface_area()"
   ]
  },
  {
   "cell_type": "code",
   "execution_count": null,
   "id": "d3ea54fd-62de-4453-b214-ed81f551d1e5",
   "metadata": {},
   "outputs": [],
   "source": []
  },
  {
   "cell_type": "code",
   "execution_count": 369,
   "id": "eda18c95-91e0-4a11-9264-96ef4aeabef8",
   "metadata": {},
   "outputs": [],
   "source": [
    "## CHALLENGE SOLUTION"
   ]
  },
  {
   "cell_type": "code",
   "execution_count": 373,
   "id": "1b279116-ed42-43b9-b644-3ddc77b68f95",
   "metadata": {},
   "outputs": [],
   "source": [
    "class Account():\n",
    "    def __init__(self, owner, balance = 0):\n",
    "        self.owner = owner\n",
    "        self.balance = balance\n",
    "        \n",
    "    def deposit(self, dep_amt):\n",
    "        self.balance = self.balance + dep_amt\n",
    "        print(f\"Added {dep_amt} to the balance\")\n",
    "\n",
    "    def withdrawal(self, wd_amt):\n",
    "\n",
    "        if self.balance >= wd_amt:\n",
    "            self.balance = self.balance - wd_amt\n",
    "            print(\"Withdrawal accepted\")\n",
    "        else:\n",
    "            print(\"Sorry not enough funds!\")\n",
    "            \n",
    "    # This is the one representing the print statements\n",
    "    def __str__(self):\n",
    "        return f\"Owner: {self.owner} \\nBalance: {self.balance}\"\n",
    "    "
   ]
  },
  {
   "cell_type": "code",
   "execution_count": 375,
   "id": "fe20f3e8-44fa-4988-8bc8-899a09ee4c4c",
   "metadata": {},
   "outputs": [],
   "source": [
    "a = Account(\"Sam\", 500)"
   ]
  },
  {
   "cell_type": "code",
   "execution_count": 377,
   "id": "42006965-6579-48cf-90b2-fbf6f61eee88",
   "metadata": {},
   "outputs": [
    {
     "data": {
      "text/plain": [
       "500"
      ]
     },
     "execution_count": 377,
     "metadata": {},
     "output_type": "execute_result"
    }
   ],
   "source": [
    "a.balance"
   ]
  },
  {
   "cell_type": "code",
   "execution_count": 379,
   "id": "bd5e2b9f-9379-436f-bff6-b63e699c0eda",
   "metadata": {},
   "outputs": [
    {
     "name": "stdout",
     "output_type": "stream",
     "text": [
      "Owner: Sam \n",
      "Balance: 500\n"
     ]
    }
   ],
   "source": [
    "print(a)"
   ]
  },
  {
   "cell_type": "code",
   "execution_count": 381,
   "id": "bb010217-22fd-46eb-856d-a70b02c026dd",
   "metadata": {},
   "outputs": [
    {
     "name": "stdout",
     "output_type": "stream",
     "text": [
      "Added 100 to the balance\n"
     ]
    }
   ],
   "source": [
    "a.deposit(100)"
   ]
  },
  {
   "cell_type": "code",
   "execution_count": 383,
   "id": "3c7bebf1-b72e-4279-93b8-cf7c95476a7b",
   "metadata": {},
   "outputs": [
    {
     "name": "stdout",
     "output_type": "stream",
     "text": [
      "Owner: Sam \n",
      "Balance: 600\n"
     ]
    }
   ],
   "source": [
    "print(a)"
   ]
  },
  {
   "cell_type": "code",
   "execution_count": 385,
   "id": "02104364-6648-4ab9-a242-ae31c63e866d",
   "metadata": {},
   "outputs": [
    {
     "name": "stdout",
     "output_type": "stream",
     "text": [
      "Withdrawal accepted\n"
     ]
    }
   ],
   "source": [
    "a.withdrawal(600)"
   ]
  },
  {
   "cell_type": "code",
   "execution_count": 387,
   "id": "74e934d1-fb34-4849-8ef1-10eb5c476c35",
   "metadata": {},
   "outputs": [
    {
     "name": "stdout",
     "output_type": "stream",
     "text": [
      "Sorry not enough funds!\n"
     ]
    }
   ],
   "source": [
    "a.withdrawal(1)"
   ]
  },
  {
   "cell_type": "code",
   "execution_count": null,
   "id": "9cf7d912-63c2-4ee6-9462-94d3a09bcb3b",
   "metadata": {},
   "outputs": [],
   "source": []
  }
 ],
 "metadata": {
  "kernelspec": {
   "display_name": "Python [conda env:base] *",
   "language": "python",
   "name": "conda-base-py"
  },
  "language_info": {
   "codemirror_mode": {
    "name": "ipython",
    "version": 3
   },
   "file_extension": ".py",
   "mimetype": "text/x-python",
   "name": "python",
   "nbconvert_exporter": "python",
   "pygments_lexer": "ipython3",
   "version": "3.12.7"
  }
 },
 "nbformat": 4,
 "nbformat_minor": 5
}
